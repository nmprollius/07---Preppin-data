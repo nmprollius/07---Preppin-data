{
 "cells": [
  {
   "cell_type": "code",
   "execution_count": 1,
   "metadata": {},
   "outputs": [],
   "source": [
    "import os\n",
    "import pandas as pd"
   ]
  },
  {
   "cell_type": "code",
   "execution_count": 2,
   "metadata": {},
   "outputs": [],
   "source": [
    "files_top3 = [i for i in os.listdir() if i.startswith('top_3')]\n"
   ]
  },
  {
   "cell_type": "code",
   "execution_count": 3,
   "metadata": {},
   "outputs": [],
   "source": [
    "def clean_clm_name(dframe):\n",
    "    return [i.lower().strip().replace(' ','_') for i in dframe.columns]\n",
    "\n",
    "def clean_clm_name_dframe(dframe):\n",
    "    dframe.columns = [i.lower().strip().replace(' ','_') for i in dframe.columns]\n",
    "    return dframe"
   ]
  },
  {
   "cell_type": "code",
   "execution_count": 4,
   "metadata": {},
   "outputs": [
    {
     "name": "stderr",
     "output_type": "stream",
     "text": [
      "C:\\Users\\nprol195\\AppData\\Local\\Temp\\ipykernel_22472\\1642513292.py:5: FutureWarning: The frame.append method is deprecated and will be removed from pandas in a future version. Use pandas.concat instead.\n",
      "  top3_df = top3_df.append(df)\n",
      "C:\\Users\\nprol195\\AppData\\Local\\Temp\\ipykernel_22472\\1642513292.py:5: FutureWarning: The frame.append method is deprecated and will be removed from pandas in a future version. Use pandas.concat instead.\n",
      "  top3_df = top3_df.append(df)\n"
     ]
    }
   ],
   "source": [
    "\n",
    "top3_df = pd.DataFrame()\n",
    "for i in files_top3:\n",
    "    df = clean_clm_name_dframe(pd.read_csv(i))\n",
    "    df['region'] = i.split('_')[-1][:-4]\n",
    "    top3_df = top3_df.append(df)"
   ]
  },
  {
   "cell_type": "code",
   "execution_count": 5,
   "metadata": {},
   "outputs": [],
   "source": [
    "store_df = pd.read_csv('store_lookup.csv')\n",
    "store_df.columns = clean_clm_name(store_df)\n",
    "store_top3_df = store_df.merge(top3_df,how='inner',left_on='storeid',right_on='store').drop(columns=['store', 'region_y']).reset_index(drop=True).copy()\n",
    "store_top3_df.rename(columns={'region_x':'region'},inplace=True)"
   ]
  },
  {
   "cell_type": "code",
   "execution_count": 6,
   "metadata": {},
   "outputs": [],
   "source": [
    "all_df = pd.read_csv('all_data.csv')\n",
    "all_df = clean_clm_name_dframe(all_df)\n",
    "all_df = all_df.drop(columns=['order_id']).groupby(['store_name','region']).sum().reset_index().copy()"
   ]
  },
  {
   "cell_type": "code",
   "execution_count": 7,
   "metadata": {},
   "outputs": [],
   "source": [
    "store_top3_df['store_name'] = store_top3_df['store_name'].str.lower().str.strip()\n",
    "all_df['store_name'] = all_df['store_name'].str.lower().str.strip()"
   ]
  },
  {
   "cell_type": "code",
   "execution_count": 8,
   "metadata": {},
   "outputs": [],
   "source": [
    "final_df = store_top3_df.merge(all_df,how='left',on='store_name').loc[:,['store_name', 'region_x', 'sales_person',\n",
    "       'percent_of_store_sales', 'sale_value']].copy()\n"
   ]
  },
  {
   "cell_type": "code",
   "execution_count": 9,
   "metadata": {},
   "outputs": [
    {
     "data": {
      "text/html": [
       "<div>\n",
       "<style scoped>\n",
       "    .dataframe tbody tr th:only-of-type {\n",
       "        vertical-align: middle;\n",
       "    }\n",
       "\n",
       "    .dataframe tbody tr th {\n",
       "        vertical-align: top;\n",
       "    }\n",
       "\n",
       "    .dataframe thead th {\n",
       "        text-align: right;\n",
       "    }\n",
       "</style>\n",
       "<table border=\"1\" class=\"dataframe\">\n",
       "  <thead>\n",
       "    <tr style=\"text-align: right;\">\n",
       "      <th></th>\n",
       "      <th>store_name</th>\n",
       "      <th>region</th>\n",
       "      <th>sales_person</th>\n",
       "      <th>percent_of_store_sales</th>\n",
       "      <th>total_store_sales</th>\n",
       "      <th>sales_per_associate</th>\n",
       "    </tr>\n",
       "  </thead>\n",
       "  <tbody>\n",
       "    <tr>\n",
       "      <th>0</th>\n",
       "      <td>lewisham</td>\n",
       "      <td>East</td>\n",
       "      <td>ML</td>\n",
       "      <td>26</td>\n",
       "      <td>114420.21</td>\n",
       "      <td>29749.2546</td>\n",
       "    </tr>\n",
       "    <tr>\n",
       "      <th>1</th>\n",
       "      <td>lewisham</td>\n",
       "      <td>East</td>\n",
       "      <td>PR</td>\n",
       "      <td>21</td>\n",
       "      <td>114420.21</td>\n",
       "      <td>24028.2441</td>\n",
       "    </tr>\n",
       "    <tr>\n",
       "      <th>2</th>\n",
       "      <td>lewisham</td>\n",
       "      <td>East</td>\n",
       "      <td>JK</td>\n",
       "      <td>17</td>\n",
       "      <td>114420.21</td>\n",
       "      <td>19451.4357</td>\n",
       "    </tr>\n",
       "    <tr>\n",
       "      <th>3</th>\n",
       "      <td>wimbledon</td>\n",
       "      <td>West</td>\n",
       "      <td>YP</td>\n",
       "      <td>14</td>\n",
       "      <td>107841.68</td>\n",
       "      <td>15097.8352</td>\n",
       "    </tr>\n",
       "    <tr>\n",
       "      <th>4</th>\n",
       "      <td>wimbledon</td>\n",
       "      <td>West</td>\n",
       "      <td>FS</td>\n",
       "      <td>13</td>\n",
       "      <td>107841.68</td>\n",
       "      <td>14019.4184</td>\n",
       "    </tr>\n",
       "    <tr>\n",
       "      <th>5</th>\n",
       "      <td>wimbledon</td>\n",
       "      <td>West</td>\n",
       "      <td>FH</td>\n",
       "      <td>10</td>\n",
       "      <td>107841.68</td>\n",
       "      <td>10784.1680</td>\n",
       "    </tr>\n",
       "    <tr>\n",
       "      <th>6</th>\n",
       "      <td>dulwich</td>\n",
       "      <td>East</td>\n",
       "      <td>CA</td>\n",
       "      <td>21</td>\n",
       "      <td>106613.79</td>\n",
       "      <td>22388.8959</td>\n",
       "    </tr>\n",
       "    <tr>\n",
       "      <th>7</th>\n",
       "      <td>dulwich</td>\n",
       "      <td>East</td>\n",
       "      <td>JM</td>\n",
       "      <td>15</td>\n",
       "      <td>106613.79</td>\n",
       "      <td>15992.0685</td>\n",
       "    </tr>\n",
       "    <tr>\n",
       "      <th>8</th>\n",
       "      <td>dulwich</td>\n",
       "      <td>East</td>\n",
       "      <td>TP</td>\n",
       "      <td>12</td>\n",
       "      <td>106613.79</td>\n",
       "      <td>12793.6548</td>\n",
       "    </tr>\n",
       "    <tr>\n",
       "      <th>9</th>\n",
       "      <td>chelsea</td>\n",
       "      <td>West</td>\n",
       "      <td>JS</td>\n",
       "      <td>25</td>\n",
       "      <td>88886.31</td>\n",
       "      <td>22221.5775</td>\n",
       "    </tr>\n",
       "    <tr>\n",
       "      <th>10</th>\n",
       "      <td>chelsea</td>\n",
       "      <td>West</td>\n",
       "      <td>JJ</td>\n",
       "      <td>12</td>\n",
       "      <td>88886.31</td>\n",
       "      <td>10666.3572</td>\n",
       "    </tr>\n",
       "    <tr>\n",
       "      <th>11</th>\n",
       "      <td>chelsea</td>\n",
       "      <td>West</td>\n",
       "      <td>PA</td>\n",
       "      <td>10</td>\n",
       "      <td>88886.31</td>\n",
       "      <td>8888.6310</td>\n",
       "    </tr>\n",
       "    <tr>\n",
       "      <th>12</th>\n",
       "      <td>shoreditch</td>\n",
       "      <td>East</td>\n",
       "      <td>JA</td>\n",
       "      <td>40</td>\n",
       "      <td>98372.70</td>\n",
       "      <td>39349.0800</td>\n",
       "    </tr>\n",
       "    <tr>\n",
       "      <th>13</th>\n",
       "      <td>shoreditch</td>\n",
       "      <td>East</td>\n",
       "      <td>OF</td>\n",
       "      <td>15</td>\n",
       "      <td>98372.70</td>\n",
       "      <td>14755.9050</td>\n",
       "    </tr>\n",
       "    <tr>\n",
       "      <th>14</th>\n",
       "      <td>shoreditch</td>\n",
       "      <td>East</td>\n",
       "      <td>TF</td>\n",
       "      <td>9</td>\n",
       "      <td>98372.70</td>\n",
       "      <td>8853.5430</td>\n",
       "    </tr>\n",
       "    <tr>\n",
       "      <th>15</th>\n",
       "      <td>notting hill</td>\n",
       "      <td>West</td>\n",
       "      <td>AA</td>\n",
       "      <td>37</td>\n",
       "      <td>98994.70</td>\n",
       "      <td>36628.0390</td>\n",
       "    </tr>\n",
       "    <tr>\n",
       "      <th>16</th>\n",
       "      <td>notting hill</td>\n",
       "      <td>West</td>\n",
       "      <td>DD</td>\n",
       "      <td>24</td>\n",
       "      <td>98994.70</td>\n",
       "      <td>23758.7280</td>\n",
       "    </tr>\n",
       "    <tr>\n",
       "      <th>17</th>\n",
       "      <td>notting hill</td>\n",
       "      <td>West</td>\n",
       "      <td>RW</td>\n",
       "      <td>19</td>\n",
       "      <td>98994.70</td>\n",
       "      <td>18808.9930</td>\n",
       "    </tr>\n",
       "  </tbody>\n",
       "</table>\n",
       "</div>"
      ],
      "text/plain": [
       "      store_name region sales_person  percent_of_store_sales  \\\n",
       "0       lewisham   East           ML                      26   \n",
       "1       lewisham   East           PR                      21   \n",
       "2       lewisham   East           JK                      17   \n",
       "3      wimbledon   West           YP                      14   \n",
       "4      wimbledon   West           FS                      13   \n",
       "5      wimbledon   West           FH                      10   \n",
       "6        dulwich   East           CA                      21   \n",
       "7        dulwich   East           JM                      15   \n",
       "8        dulwich   East           TP                      12   \n",
       "9        chelsea   West           JS                      25   \n",
       "10       chelsea   West           JJ                      12   \n",
       "11       chelsea   West           PA                      10   \n",
       "12    shoreditch   East           JA                      40   \n",
       "13    shoreditch   East           OF                      15   \n",
       "14    shoreditch   East           TF                       9   \n",
       "15  notting hill   West           AA                      37   \n",
       "16  notting hill   West           DD                      24   \n",
       "17  notting hill   West           RW                      19   \n",
       "\n",
       "    total_store_sales  sales_per_associate  \n",
       "0           114420.21           29749.2546  \n",
       "1           114420.21           24028.2441  \n",
       "2           114420.21           19451.4357  \n",
       "3           107841.68           15097.8352  \n",
       "4           107841.68           14019.4184  \n",
       "5           107841.68           10784.1680  \n",
       "6           106613.79           22388.8959  \n",
       "7           106613.79           15992.0685  \n",
       "8           106613.79           12793.6548  \n",
       "9            88886.31           22221.5775  \n",
       "10           88886.31           10666.3572  \n",
       "11           88886.31            8888.6310  \n",
       "12           98372.70           39349.0800  \n",
       "13           98372.70           14755.9050  \n",
       "14           98372.70            8853.5430  \n",
       "15           98994.70           36628.0390  \n",
       "16           98994.70           23758.7280  \n",
       "17           98994.70           18808.9930  "
      ]
     },
     "execution_count": 9,
     "metadata": {},
     "output_type": "execute_result"
    }
   ],
   "source": [
    "final_df['sales_per_associate'] = (final_df['percent_of_store_sales']/100) * final_df['sale_value']\n",
    "final_df.rename(columns={'region_x':'region','sale_value':'total_store_sales'},inplace=True)\n",
    "final_df"
   ]
  },
  {
   "cell_type": "code",
   "execution_count": 10,
   "metadata": {},
   "outputs": [],
   "source": [
    "final_df_other = final_df[['store_name','region','percent_of_store_sales','sales_per_associate']].groupby(['store_name','region']).sum().reset_index().copy()"
   ]
  },
  {
   "cell_type": "code",
   "execution_count": 11,
   "metadata": {},
   "outputs": [],
   "source": [
    "final_df_other['percent_of_store_sales'] = 100 - final_df_other['percent_of_store_sales']\n",
    "final_df_other['sales_per_associate'] = all_df['sale_value'] - final_df_other['sales_per_associate']\n",
    "final_df_other['sales_person'] = 'OTH'\n",
    "\n",
    "final_df_other['total_store_sales'] = all_df['sale_value']\n",
    "final_df_other = final_df_other[['store_name', 'region', 'sales_person', 'percent_of_store_sales',\n",
    "                     'total_store_sales', 'sales_per_associate']]\n",
    "\n",
    "# [['store_name', 'region', 'sales_person', 'percent_of_store_sales',\n",
    "#        'sales_per_associate']]"
   ]
  },
  {
   "cell_type": "code",
   "execution_count": 12,
   "metadata": {},
   "outputs": [
    {
     "name": "stderr",
     "output_type": "stream",
     "text": [
      "C:\\Users\\nprol195\\AppData\\Local\\Temp\\ipykernel_22472\\462519948.py:1: FutureWarning: The frame.append method is deprecated and will be removed from pandas in a future version. Use pandas.concat instead.\n",
      "  final_df_other.append(final_df).sort_values(['region','store_name','percent_of_store_sales']).reset_index(drop=True).to_csv('final.csv',index=False)\n"
     ]
    }
   ],
   "source": [
    "final_df_other.append(final_df).sort_values(['region','store_name','percent_of_store_sales']).reset_index(drop=True).to_csv('final.csv',index=False)\n",
    "os.startfile('final.csv')"
   ]
  },
  {
   "cell_type": "code",
   "execution_count": null,
   "metadata": {},
   "outputs": [],
   "source": []
  }
 ],
 "metadata": {
  "kernelspec": {
   "display_name": "Python 3.8.13 ('nico')",
   "language": "python",
   "name": "python3"
  },
  "language_info": {
   "codemirror_mode": {
    "name": "ipython",
    "version": 3
   },
   "file_extension": ".py",
   "mimetype": "text/x-python",
   "name": "python",
   "nbconvert_exporter": "python",
   "pygments_lexer": "ipython3",
   "version": "3.8.13"
  },
  "orig_nbformat": 4,
  "vscode": {
   "interpreter": {
    "hash": "f22753240582bc7a9502817e3053bc997a3eafe3a7673600da5dd37ad9410dbc"
   }
  }
 },
 "nbformat": 4,
 "nbformat_minor": 2
}
