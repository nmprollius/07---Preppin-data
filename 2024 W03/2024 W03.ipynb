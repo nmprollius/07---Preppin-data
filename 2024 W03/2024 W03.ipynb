{
 "cells": [
  {
   "cell_type": "markdown",
   "metadata": {},
   "source": [
    "The world is swimming in data and with so many sources everywhere, it's often on you to tie them together. Most data tools need to read from a single data so will use Unions, Joins and Logical Relationship models to tie them together. In this week's challenge we will introduce you to joining data sets together to prepare them for analysis. \n",
    "\n",
    "This week's challenge is to link together a Quarterly Sales Target data source (an Excel Workbook) with our original sales data (Week One output). Is Prep Air meeting its targets?\n",
    "\n",
    "### Requirements\n",
    " - Input the outputs from 2024 Week 1 challenge\n",
    " - Input the new targets Excel sheet (Q1 - 4) \n",
    " - Correct the Classes being incorrect as per last week\n",
    "  - Economy to First\n",
    "  - First Class to Economy\n",
    "  - Business Class to Premium\n",
    "  - Premium Economy to Business\n",
    " - Find the First Letter from each word in the Class to help with joining the Targets data to Sales data\n",
    " - Change the date to a month number \n",
    " - Total up the sales at the level of:\n",
    "  - Class\n",
    "  - Month\n",
    " - Join the Targets data on to the Sales data (note - you should have 48 rows of data after the join)\n",
    " - Calculate the difference between the Sales and Target values per Class and Month\n",
    "\n",
    "### 5 data fields:\n",
    " - Difference to Target\n",
    " - Date\n",
    " - Price\n",
    " - Class\n",
    " - Target\n",
    "\n",
    "48 rows (49 including headers)\n",
    "\n",
    "You can download the outputs from here.\n",
    "\n",
    "After you finish the challenge make sure to fill in the participation tracker, then share your solution on Twitter using #PreppinData and tagging @Datajedininja, @JennyMartinDS14 & @TomProwse1\n",
    "You can also post your solution on the Tableau Forum where we have a Preppin' Data community page. Post your solutions and ask questions if you need any help! "
   ]
  }
 ],
 "metadata": {
  "language_info": {
   "name": "python"
  }
 },
 "nbformat": 4,
 "nbformat_minor": 2
}
