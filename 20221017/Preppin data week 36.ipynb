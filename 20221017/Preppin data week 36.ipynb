{
 "cells": [
  {
   "cell_type": "code",
   "execution_count": 8,
   "metadata": {},
   "outputs": [],
   "source": [
    "import os\n",
    "import pandas as pd\n",
    "import datetime as dt"
   ]
  },
  {
   "cell_type": "code",
   "execution_count": 119,
   "metadata": {},
   "outputs": [],
   "source": [
    "url = ' https://drive.google.com/file/d/1RtJzWuNOHhB9l27PE-nAkgfiw0Gu5753/view?usp=sharing'\n",
    "path = 'https://drive.google.com/uc?export=download&id='+url.split('/')[-2]\n",
    "df = pd.read_csv(path)\n",
    "df.scheduled_date=pd.to_datetime(df.scheduled_date)"
   ]
  },
  {
   "cell_type": "code",
   "execution_count": 120,
   "metadata": {},
   "outputs": [],
   "source": [
    "min_date = pd.to_datetime(df.scheduled_date).min().date()\n",
    "max_date = pd.to_datetime(df.scheduled_date).max().date()"
   ]
  },
  {
   "cell_type": "code",
   "execution_count": 121,
   "metadata": {},
   "outputs": [],
   "source": [
    "start_date = dt.date(min_date.year,1,1)\n",
    "end_date = dt.date(max_date.year,12,31)"
   ]
  },
  {
   "cell_type": "code",
   "execution_count": 122,
   "metadata": {},
   "outputs": [],
   "source": [
    "calendar_df = pd.date_range(start=start_date,end=end_date,freq='D')\n",
    "calendar_df = pd.DataFrame(calendar_df,columns=['dates'])\n",
    "# calendar_df = calendar_df.reset_index()"
   ]
  },
  {
   "cell_type": "code",
   "execution_count": 134,
   "metadata": {},
   "outputs": [],
   "source": [
    "calendar_df.merge(df,how='left',left_on='dates',right_on='scheduled_date').drop(columns=['scheduled_date']).reset_index(drop=True).to_csv('Week 36 output.csv')"
   ]
  },
  {
   "cell_type": "code",
   "execution_count": 135,
   "metadata": {},
   "outputs": [],
   "source": [
    "os.startfile('\"Week 36 output.csv\"')"
   ]
  }
 ],
 "metadata": {
  "kernelspec": {
   "display_name": "Python 3.10.8 64-bit",
   "language": "python",
   "name": "python3"
  },
  "language_info": {
   "codemirror_mode": {
    "name": "ipython",
    "version": 3
   },
   "file_extension": ".py",
   "mimetype": "text/x-python",
   "name": "python",
   "nbconvert_exporter": "python",
   "pygments_lexer": "ipython3",
   "version": "3.10.8"
  },
  "orig_nbformat": 4,
  "vscode": {
   "interpreter": {
    "hash": "f7211e61ff6622f38397897284041f71d6508327139f4247201e2b6bc72bf231"
   }
  }
 },
 "nbformat": 4,
 "nbformat_minor": 2
}
