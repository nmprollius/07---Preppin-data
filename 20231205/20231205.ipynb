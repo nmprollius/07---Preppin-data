{
 "cells": [
  {
   "cell_type": "markdown",
   "metadata": {},
   "source": [
    "# 2023: Week 46 - Late For School\n",
    "### November 15, 2023\n",
    "\n",
    " \n",
    " - Input data\n",
    " - Exclude null values from the Arrival Time field. These are days the student wasn't present\n",
    " - Turn the Scheduled Start Time and Arrival Time fields into Date Time fields\n",
    " - Calculate how many minutes late each student is each day\n",
    " - If they arrive before the Scheduled Start Time, they'll have a negative value for this field\n",
    " - Rank the days of the week in order of Average Lateness\n",
    " - Convert the Average Lateness into 2 fields: 1 for Minutes and 1 for Seconds\n",
    " - Create Output 1\n",
    " - Rank the students by the percentage of days they were “very late” (more than 5 minutes) during the year\n",
    " - Create Output 2"
   ]
  },
  {
   "cell_type": "code",
   "execution_count": 40,
   "metadata": {},
   "outputs": [],
   "source": [
    "import os\n",
    "import pandas as pd\n",
    "import numpy as np\n",
    "import datetime as dt"
   ]
  },
  {
   "cell_type": "code",
   "execution_count": 41,
   "metadata": {},
   "outputs": [],
   "source": [
    "# input data\n",
    "df = pd.read_csv(\"Prep School Card Entries.csv\")"
   ]
  },
  {
   "cell_type": "code",
   "execution_count": 42,
   "metadata": {},
   "outputs": [],
   "source": [
    "# some cleaning\n",
    "df.columns=[i.lower().strip().replace(' ','_') for i in df.columns]"
   ]
  },
  {
   "cell_type": "code",
   "execution_count": 43,
   "metadata": {},
   "outputs": [],
   "source": [
    "# Exclude nulls \n",
    "df=df.loc[~df.arrival_time.isna()].reset_index(drop=True).copy()"
   ]
  },
  {
   "cell_type": "code",
   "execution_count": 44,
   "metadata": {},
   "outputs": [],
   "source": [
    "# Parse dates\n",
    "df.scheduled_start_time = pd.to_datetime(df.date + ' ' + df.scheduled_start_time)\n",
    "df.arrival_time = pd.to_datetime(df.date + ' ' + df.arrival_time)\n",
    "\n",
    "# update column types\n",
    "df.date=pd.to_datetime(df.date)\n",
    "\n",
    "# calculate minutes late\n",
    "df['minutes_late'] =df.arrival_time - df.scheduled_start_time\n",
    "df.minutes_late=df.minutes_late.dt.total_seconds()/60\n"
   ]
  },
  {
   "cell_type": "code",
   "execution_count": 45,
   "metadata": {},
   "outputs": [],
   "source": [
    "# Rank Dow by average lateness\n",
    "# Group and rank\n",
    "df_dow=df.groupby(by=['day_of_week']).mean(numeric_only=True).drop(columns='student_id').sort_values('minutes_late').copy()\n",
    "\n",
    "# get minutes and seconds\n",
    "\n",
    "df_dow['minutes'] = df_dow.minutes_late.astype('int64')\n",
    "df_dow['seconds'] = df_dow.minutes_late - df_dow.minutes \n",
    "\n",
    "df_dow.seconds=df_dow.seconds*60\n",
    "df_dow.seconds=df_dow.seconds.astype('int')"
   ]
  },
  {
   "cell_type": "code",
   "execution_count": 46,
   "metadata": {},
   "outputs": [],
   "source": [
    "# Create output 1\n",
    "\n",
    "df_dow.to_csv('output1.csv')\n",
    "# os.startfile('output1.csv')"
   ]
  },
  {
   "cell_type": "code",
   "execution_count": 83,
   "metadata": {},
   "outputs": [],
   "source": [
    "# % Days very late by student\n",
    "df['very_late'] = df.minutes_late>5\n",
    "df_students=df.groupby('student_id').agg({'date':'count','very_late':'sum'}).reset_index()\n",
    "df_students['perc_late'] = df_students['very_late']/df_students['date']\n",
    "# df_students['perc_late']=df_students['perc_late'] *100\n",
    "df_students['perc_late']=[round(i*100,1) for i in df_students['perc_late']]\n",
    "\n",
    "# rank\n",
    "\n",
    "df_students=df_students.sort_values('perc_late',ascending=False).reset_index(drop=True)\n",
    "df_students['rank']=df_students.perc_late.rank(ascending=False)\n",
    "df_students[['rank','student_id', 'perc_late', ]].to_csv('output2.csv',index=False)\n",
    "os.startfile('output2.csv')"
   ]
  }
 ],
 "metadata": {
  "kernelspec": {
   "display_name": "Python 3",
   "language": "python",
   "name": "python3"
  },
  "language_info": {
   "codemirror_mode": {
    "name": "ipython",
    "version": 3
   },
   "file_extension": ".py",
   "mimetype": "text/x-python",
   "name": "python",
   "nbconvert_exporter": "python",
   "pygments_lexer": "ipython3",
   "version": "3.10.8"
  }
 },
 "nbformat": 4,
 "nbformat_minor": 2
}
