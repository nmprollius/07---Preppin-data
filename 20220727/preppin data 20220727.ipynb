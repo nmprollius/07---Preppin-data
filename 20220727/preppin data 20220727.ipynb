{
 "cells": [
  {
   "cell_type": "code",
   "execution_count": 1,
   "metadata": {},
   "outputs": [],
   "source": [
    "import os\n",
    "import pandas as pd\n",
    "import datetime as dt"
   ]
  },
  {
   "cell_type": "code",
   "execution_count": 2,
   "metadata": {},
   "outputs": [
    {
     "name": "stdout",
     "output_type": "stream",
     "text": [
      "<class 'pandas.core.frame.DataFrame'>\n",
      "RangeIndex: 4063 entries, 0 to 4062\n",
      "Data columns (total 7 columns):\n",
      " #   Column        Non-Null Count  Dtype  \n",
      "---  ------        --------------  -----  \n",
      " 0   sale_date     4063 non-null   object \n",
      " 1   order_id      4063 non-null   int64  \n",
      " 2   sale_value    4063 non-null   float64\n",
      " 3   product_name  4063 non-null   object \n",
      " 4   store_name    4063 non-null   object \n",
      " 5   region        4063 non-null   object \n",
      " 6   scent_name    4063 non-null   object \n",
      "dtypes: float64(1), int64(1), object(5)\n",
      "memory usage: 222.3+ KB\n"
     ]
    }
   ],
   "source": [
    "prod_df = pd.read_csv('Production.csv')\n",
    "prod_df.columns=[i.lower().strip().replace(' ','_') for i in prod_df.columns]\n",
    "prod_df.info()"
   ]
  },
  {
   "cell_type": "code",
   "execution_count": 3,
   "metadata": {},
   "outputs": [],
   "source": [
    "prod_df['sale_date']=pd.to_datetime(prod_df['sale_date'])"
   ]
  },
  {
   "cell_type": "code",
   "execution_count": 4,
   "metadata": {},
   "outputs": [],
   "source": [
    "prod_df[['product_name','size']]=prod_df['product_name'].str.split('-',expand=True)"
   ]
  },
  {
   "cell_type": "code",
   "execution_count": 5,
   "metadata": {},
   "outputs": [],
   "source": [
    "prod_df=prod_df.groupby(['product_name','store_name']).sum().drop(columns=['order_id']).reset_index().copy()"
   ]
  },
  {
   "cell_type": "code",
   "execution_count": 6,
   "metadata": {},
   "outputs": [],
   "source": [
    "target_df = pd.read_csv('Targets.csv')\n",
    "target_df.columns = [i.lower().strip().replace(' ','_') for i in target_df.columns]"
   ]
  },
  {
   "cell_type": "code",
   "execution_count": 7,
   "metadata": {},
   "outputs": [],
   "source": [
    "target_df=target_df.melt(id_vars='product').copy()\n",
    "target_df.columns = ['product_name','store_name','target']"
   ]
  },
  {
   "cell_type": "code",
   "execution_count": 8,
   "metadata": {},
   "outputs": [],
   "source": [
    "# target_df\n",
    "prod_df[['product_name','store_name']]=prod_df[['product_name','store_name']].apply(lambda a: a.str.lower().str.strip())"
   ]
  },
  {
   "cell_type": "code",
   "execution_count": 9,
   "metadata": {},
   "outputs": [],
   "source": [
    "target_df[['product_name','store_name']]=target_df[['product_name','store_name']].apply(lambda a: a.str.lower().str.strip())"
   ]
  },
  {
   "cell_type": "code",
   "execution_count": 10,
   "metadata": {},
   "outputs": [],
   "source": [
    "combined_df = target_df.merge(prod_df,how='outer',on=['product_name','store_name']).copy()"
   ]
  },
  {
   "cell_type": "code",
   "execution_count": 11,
   "metadata": {},
   "outputs": [],
   "source": [
    "combined_df['sale_value'].fillna(0,inplace=True)\n",
    "combined_df['target']=combined_df['target'] * 1000"
   ]
  },
  {
   "cell_type": "code",
   "execution_count": 12,
   "metadata": {},
   "outputs": [],
   "source": [
    "combined_df['meet_target']=combined_df['sale_value']>=combined_df['target']\n"
   ]
  },
  {
   "cell_type": "code",
   "execution_count": 13,
   "metadata": {},
   "outputs": [],
   "source": [
    "import seaborn as sns"
   ]
  },
  {
   "cell_type": "code",
   "execution_count": 14,
   "metadata": {},
   "outputs": [
    {
     "data": {
      "text/plain": [
       "Index(['product_name', 'store_name', 'target', 'sale_value', 'meet_target'], dtype='object')"
      ]
     },
     "execution_count": 14,
     "metadata": {},
     "output_type": "execute_result"
    }
   ],
   "source": [
    "combined_df.columns"
   ]
  },
  {
   "cell_type": "code",
   "execution_count": 17,
   "metadata": {},
   "outputs": [
    {
     "data": {
      "text/plain": [
       "0     25000.0\n",
       "1     60000.0\n",
       "2     30000.0\n",
       "3     75000.0\n",
       "4     35000.0\n",
       "5     75000.0\n",
       "6     30000.0\n",
       "7     65000.0\n",
       "8     30000.0\n",
       "9     70000.0\n",
       "10    35000.0\n",
       "11    70000.0\n",
       "12        NaN\n",
       "13        NaN\n",
       "Name: target, dtype: float64"
      ]
     },
     "execution_count": 17,
     "metadata": {},
     "output_type": "execute_result"
    }
   ],
   "source": [
    "combined_df['target']"
   ]
  },
  {
   "cell_type": "code",
   "execution_count": 30,
   "metadata": {},
   "outputs": [
    {
     "ename": "ValueError",
     "evalue": "'Penguins' is not one of the example datasets.",
     "output_type": "error",
     "traceback": [
      "\u001b[1;31m---------------------------------------------------------------------------\u001b[0m",
      "\u001b[1;31mValueError\u001b[0m                                Traceback (most recent call last)",
      "\u001b[1;32mc:\\Users\\nprol195\\Documents\\02 - Weekly\\07 - Preppin data\\20220727\\preppin data 20220727.ipynb Cell 16\u001b[0m in \u001b[0;36m<cell line: 1>\u001b[1;34m()\u001b[0m\n\u001b[1;32m----> <a href='vscode-notebook-cell:/c%3A/Users/nprol195/Documents/02%20-%20Weekly/07%20-%20Preppin%20data/20220727/preppin%20data%2020220727.ipynb#ch0000014?line=0'>1</a>\u001b[0m sns\u001b[39m.\u001b[39;49mload_dataset(\u001b[39m'\u001b[39;49m\u001b[39mPenguins\u001b[39;49m\u001b[39m'\u001b[39;49m)\n",
      "File \u001b[1;32mc:\\Users\\nprol195\\Anaconda3\\envs\\nico\\lib\\site-packages\\seaborn\\utils.py:595\u001b[0m, in \u001b[0;36mload_dataset\u001b[1;34m(name, cache, data_home, **kws)\u001b[0m\n\u001b[0;32m    593\u001b[0m \u001b[39mif\u001b[39;00m \u001b[39mnot\u001b[39;00m os\u001b[39m.\u001b[39mpath\u001b[39m.\u001b[39mexists(cache_path):\n\u001b[0;32m    594\u001b[0m     \u001b[39mif\u001b[39;00m name \u001b[39mnot\u001b[39;00m \u001b[39min\u001b[39;00m get_dataset_names():\n\u001b[1;32m--> 595\u001b[0m         \u001b[39mraise\u001b[39;00m \u001b[39mValueError\u001b[39;00m(\u001b[39mf\u001b[39m\u001b[39m\"\u001b[39m\u001b[39m'\u001b[39m\u001b[39m{\u001b[39;00mname\u001b[39m}\u001b[39;00m\u001b[39m'\u001b[39m\u001b[39m is not one of the example datasets.\u001b[39m\u001b[39m\"\u001b[39m)\n\u001b[0;32m    596\u001b[0m     urlretrieve(url, cache_path)\n\u001b[0;32m    597\u001b[0m full_path \u001b[39m=\u001b[39m cache_path\n",
      "\u001b[1;31mValueError\u001b[0m: 'Penguins' is not one of the example datasets."
     ]
    }
   ],
   "source": [
    "sns.load_dataset('Penguins')"
   ]
  }
 ],
 "metadata": {
  "kernelspec": {
   "display_name": "Python 3.8.13 ('nico')",
   "language": "python",
   "name": "python3"
  },
  "language_info": {
   "codemirror_mode": {
    "name": "ipython",
    "version": 3
   },
   "file_extension": ".py",
   "mimetype": "text/x-python",
   "name": "python",
   "nbconvert_exporter": "python",
   "pygments_lexer": "ipython3",
   "version": "3.8.13"
  },
  "orig_nbformat": 4,
  "vscode": {
   "interpreter": {
    "hash": "f22753240582bc7a9502817e3053bc997a3eafe3a7673600da5dd37ad9410dbc"
   }
  }
 },
 "nbformat": 4,
 "nbformat_minor": 2
}
