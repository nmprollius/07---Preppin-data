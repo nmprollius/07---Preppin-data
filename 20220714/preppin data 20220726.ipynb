{
 "cells": [
  {
   "cell_type": "markdown",
   "metadata": {},
   "source": [
    "# Requirements\n",
    " - Convert any data types required (nb. certain Steps in Prep Builder can only utilise limited data types)\n",
    " - Create a new row for each day that doesn't have a sale\n",
    " - Remove any date record where a sale occurred \n",
    " - Create a column for Day of the Week\n",
    " - For each day of the week, count the numbers of dates where there were no sales\n",
    " - Rename the count field as Number of Days\n",
    " - Output the data\n"
   ]
  },
  {
   "cell_type": "code",
   "execution_count": 91,
   "metadata": {},
   "outputs": [],
   "source": [
    "import os\n",
    "import pandas as pd\n",
    "import datetime as dt"
   ]
  },
  {
   "cell_type": "code",
   "execution_count": 92,
   "metadata": {},
   "outputs": [],
   "source": [
    "df = pd.read_csv(\"Preppin' Summer 2022 - PD 2022 Wk 27 Input.csv\")\n"
   ]
  },
  {
   "cell_type": "code",
   "execution_count": 93,
   "metadata": {},
   "outputs": [],
   "source": [
    "df.columns=[i.lower().strip().replace(' ','_') for i in df.columns]\n",
    "# df['sale_date']=df['sale_date'].str.replace(' AM','')\n",
    "df['sale_date']=df['sale_date'].apply(lambda i : dt.datetime.strptime(i,'%d/%m/%Y %H:%M:%S'))"
   ]
  },
  {
   "cell_type": "code",
   "execution_count": 94,
   "metadata": {},
   "outputs": [],
   "source": [
    "min_date=df['sale_date'].min().date()\n",
    "max_date=df['sale_date'].max().date()\n",
    "dates_list = []\n",
    "while max_date>=min_date:\n",
    "    dates_list.append(min_date)\n",
    "    min_date=min_date + dt.timedelta(days=1)\n",
    "\n"
   ]
  },
  {
   "cell_type": "code",
   "execution_count": 95,
   "metadata": {},
   "outputs": [],
   "source": [
    "some_dates = [i.date() for i in list(df['sale_date'])]\n",
    "# dates_list\n"
   ]
  },
  {
   "cell_type": "code",
   "execution_count": 96,
   "metadata": {},
   "outputs": [],
   "source": [
    "missing_dates = [i for i in dates_list if i not in some_dates]\n",
    "missing_dates_df = pd.DataFrame(missing_dates,columns=['dates'])\n"
   ]
  },
  {
   "cell_type": "code",
   "execution_count": 97,
   "metadata": {},
   "outputs": [
    {
     "name": "stdout",
     "output_type": "stream",
     "text": [
      "<class 'pandas.core.frame.DataFrame'>\n",
      "RangeIndex: 22 entries, 0 to 21\n",
      "Data columns (total 1 columns):\n",
      " #   Column  Non-Null Count  Dtype         \n",
      "---  ------  --------------  -----         \n",
      " 0   dates   22 non-null     datetime64[ns]\n",
      "dtypes: datetime64[ns](1)\n",
      "memory usage: 304.0 bytes\n"
     ]
    }
   ],
   "source": [
    "missing_dates_df['dates']=pd.to_datetime(missing_dates_df['dates'])\n",
    "missing_dates_df.info()"
   ]
  },
  {
   "cell_type": "code",
   "execution_count": 98,
   "metadata": {},
   "outputs": [],
   "source": [
    "missing_dates_df['dow']=missing_dates_df['dates'].dt.weekday\n",
    "missing_dates_df.sort_values(['dow'],inplace=True)\n"
   ]
  },
  {
   "cell_type": "code",
   "execution_count": 99,
   "metadata": {},
   "outputs": [],
   "source": [
    "dow_map = {0:'Mon',\n",
    "            1:'Tue',\n",
    "            2:'Wed',\n",
    "            3:'Thu',\n",
    "            4:'Fri',\n",
    "            5:'Sat',\n",
    "            6:'Sun'}\n",
    "missing_dates_df['dow_name']=missing_dates_df['dow'].replace(dow_map)"
   ]
  },
  {
   "cell_type": "code",
   "execution_count": 103,
   "metadata": {},
   "outputs": [
    {
     "data": {
      "text/html": [
       "<div>\n",
       "<style scoped>\n",
       "    .dataframe tbody tr th:only-of-type {\n",
       "        vertical-align: middle;\n",
       "    }\n",
       "\n",
       "    .dataframe tbody tr th {\n",
       "        vertical-align: top;\n",
       "    }\n",
       "\n",
       "    .dataframe thead th {\n",
       "        text-align: right;\n",
       "    }\n",
       "</style>\n",
       "<table border=\"1\" class=\"dataframe\">\n",
       "  <thead>\n",
       "    <tr style=\"text-align: right;\">\n",
       "      <th></th>\n",
       "      <th>dow_name</th>\n",
       "      <th>dates</th>\n",
       "    </tr>\n",
       "  </thead>\n",
       "  <tbody>\n",
       "    <tr>\n",
       "      <th>0</th>\n",
       "      <td>Mon</td>\n",
       "      <td>3</td>\n",
       "    </tr>\n",
       "    <tr>\n",
       "      <th>1</th>\n",
       "      <td>Tue</td>\n",
       "      <td>2</td>\n",
       "    </tr>\n",
       "    <tr>\n",
       "      <th>2</th>\n",
       "      <td>Wed</td>\n",
       "      <td>1</td>\n",
       "    </tr>\n",
       "    <tr>\n",
       "      <th>3</th>\n",
       "      <td>Thu</td>\n",
       "      <td>6</td>\n",
       "    </tr>\n",
       "    <tr>\n",
       "      <th>4</th>\n",
       "      <td>Fri</td>\n",
       "      <td>1</td>\n",
       "    </tr>\n",
       "    <tr>\n",
       "      <th>5</th>\n",
       "      <td>Sat</td>\n",
       "      <td>4</td>\n",
       "    </tr>\n",
       "    <tr>\n",
       "      <th>6</th>\n",
       "      <td>Sun</td>\n",
       "      <td>5</td>\n",
       "    </tr>\n",
       "  </tbody>\n",
       "</table>\n",
       "</div>"
      ],
      "text/plain": [
       "  dow_name  dates\n",
       "0      Mon      3\n",
       "1      Tue      2\n",
       "2      Wed      1\n",
       "3      Thu      6\n",
       "4      Fri      1\n",
       "5      Sat      4\n",
       "6      Sun      5"
      ]
     },
     "execution_count": 103,
     "metadata": {},
     "output_type": "execute_result"
    }
   ],
   "source": [
    "missing_dates_df.groupby(['dow_name','dow']).count().reset_index().sort_values(['dow']).drop(columns=['dow']).reset_index(drop=True)\n",
    "# missing_dates_df.sort_values(['dow'],inplace=True)"
   ]
  }
 ],
 "metadata": {
  "kernelspec": {
   "display_name": "Python 3.8.13 ('nico')",
   "language": "python",
   "name": "python3"
  },
  "language_info": {
   "codemirror_mode": {
    "name": "ipython",
    "version": 3
   },
   "file_extension": ".py",
   "mimetype": "text/x-python",
   "name": "python",
   "nbconvert_exporter": "python",
   "pygments_lexer": "ipython3",
   "version": "3.8.13"
  },
  "orig_nbformat": 4,
  "vscode": {
   "interpreter": {
    "hash": "f22753240582bc7a9502817e3053bc997a3eafe3a7673600da5dd37ad9410dbc"
   }
  }
 },
 "nbformat": 4,
 "nbformat_minor": 2
}
