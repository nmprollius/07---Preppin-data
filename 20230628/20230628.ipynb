{
 "cells": [
  {
   "attachments": {},
   "cell_type": "markdown",
   "metadata": {},
   "source": [
    "Requirements\n",
    " - Input the data\n",
    " - Create a new column in the Part 1 Output table for each student’s initials. If a student has a double barreled second name then only take the first letter from the first part\n",
    " - e.g. “NERTY CHERRY HOLME” becomes NC not NCH. \n",
    " - Find a way to join this table to the Additional Information table. We should maintain exactly 4,000 unique records. \n",
    " - Develop a ranking system to rank each student by Grade Score within their specified Subject Selection and Region. Every combination of Subject Selection and Region should have their own ranking and remember that if students have a matching grade score, we then prioritise those who live closer to the school as a “tie-breaker”. \n",
    " - For each Subject, find and flag the top 20 students with the caveat that this year within each course, 15 students must be from the East and 5 from the West given our newly imposed 75%/25% split\n",
    " - Delete all rejected students, leaving only the 100 accepted students.\n",
    " - Remove unnecessary fields\n",
    " - Find the total number of accepted applicants per secondary school and represent this as a percentage of the total spaces that were available for that region. \n",
    " - Hint: think about how many were allowed per course, and how many courses there are\n",
    " - For each region, label their highest performing school as “High Performing” and the lowest performing school as “Low Performing” in a new column named “School Status”.\n",
    " - Give all other schools the status “Average Performing”\n",
    " - Delete any unwanted fields and rearrange to give the output shown below\n",
    " - Output the data\n"
   ]
  }
 ],
 "metadata": {
  "language_info": {
   "name": "python"
  },
  "orig_nbformat": 4
 },
 "nbformat": 4,
 "nbformat_minor": 2
}
