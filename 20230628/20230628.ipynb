{
 "cells": [
  {
   "attachments": {},
   "cell_type": "markdown",
   "metadata": {},
   "source": [
    "Requirements\n",
    " - Input the data\n",
    " - Create a new column in the Part 1 Output table for each student’s initials. If a student has a double barreled second name then only take the first letter from the first part\n",
    " - e.g. “NERTY CHERRY HOLME” becomes NC not NCH. \n",
    " - Find a way to join this table to the Additional Information table. We should maintain exactly 4,000 unique records. \n",
    " - Develop a ranking system to rank each student by Grade Score within their specified Subject Selection and Region. Every combination of Subject Selection and Region should have their own ranking and remember that if students have a matching grade score, we then prioritise those who live closer to the school as a “tie-breaker”. \n",
    " - For each Subject, find and flag the top 20 students with the caveat that this year within each course, 15 students must be from the East and 5 from the West given our newly imposed 75%/25% split\n",
    " - Delete all rejected students, leaving only the 100 accepted students.\n",
    " - Remove unnecessary fields\n",
    " - Find the total number of accepted applicants per secondary school and represent this as a percentage of the total spaces that were available for that region. \n",
    " - Hint: think about how many were allowed per course, and how many courses there are\n",
    " - For each region, label their highest performing school as “High Performing” and the lowest performing school as “Low Performing” in a new column named “School Status”.\n",
    " - Give all other schools the status “Average Performing”\n",
    " - Delete any unwanted fields and rearrange to give the output shown below\n",
    " - Output the data\n"
   ]
  },
  {
   "cell_type": "code",
   "execution_count": 81,
   "metadata": {},
   "outputs": [],
   "source": [
    "import os\n",
    "import pandas as pd"
   ]
  },
  {
   "cell_type": "code",
   "execution_count": 82,
   "metadata": {},
   "outputs": [],
   "source": [
    "#  - Input the data\n",
    "lu_df=pd.read_csv(\"Additional Info Lookup.csv\")\n",
    "student_df=pd.read_csv(\"Part 1 Output.csv\")"
   ]
  },
  {
   "cell_type": "code",
   "execution_count": 83,
   "metadata": {},
   "outputs": [],
   "source": [
    "lu_df.columns=lu_df.columns.str.lower().str.strip().str.replace(' ','_')\n",
    "student_df.columns=student_df.columns.str.lower().str.strip().str.replace(' ','_')\n"
   ]
  },
  {
   "cell_type": "code",
   "execution_count": 84,
   "metadata": {},
   "outputs": [],
   "source": [
    "#  - Create a new column in the Part 1 Output table for each student’s initials. If a student has a double barreled second name then only take the first letter from the first part\n",
    "#  - e.g. “NERTY CHERRY HOLME” becomes NC not NCH. \n",
    "\n",
    "student_df['initials']=student_df.full_name.str.split().str[0].str[0]+student_df.full_name.str.split().str[1].str[0]"
   ]
  },
  {
   "cell_type": "code",
   "execution_count": 85,
   "metadata": {},
   "outputs": [
    {
     "data": {
      "text/plain": [
       "(4000, 14)"
      ]
     },
     "execution_count": 85,
     "metadata": {},
     "output_type": "execute_result"
    }
   ],
   "source": [
    "#  - Find a way to join this table to the Additional Information table. We should maintain exactly 4,000 unique records. \n",
    "\n",
    "# Alignd datetime columns\n",
    "student_df.date_of_birth=pd.to_datetime(student_df.date_of_birth,format='%d/%m/%Y')\n",
    "lu_df.date_of_birth=pd.to_datetime(lu_df.date_of_birth,format='%Y-%m-%d')\n",
    "# Merge tables\n",
    "combined_df=student_df.merge(lu_df,on=['initials','date_of_birth','school_name','english','science','maths'],how='left')\n",
    "combined_df.shape"
   ]
  },
  {
   "cell_type": "code",
   "execution_count": 86,
   "metadata": {},
   "outputs": [],
   "source": [
    "#  - Develop a ranking system to rank each student by Grade Score within their specified Subject Selection and Region. Every combination of Subject Selection and Region should have their own ranking and remember that if students have a matching grade score, we then prioritise those who live closer to the school as a “tie-breaker”. "
   ]
  },
  {
   "cell_type": "code",
   "execution_count": 87,
   "metadata": {},
   "outputs": [],
   "source": [
    "# rank_df=combined_df[['student_id','grade_score','region','subject_selection','distance_from_school_(miles)']]\n",
    "rank_df=combined_df.loc[:,[\n",
    "    'subject_selection',\n",
    "    'region',\n",
    "    'grade_score',\n",
    "    'student_id',\n",
    "    'distance_from_school_(miles)'\n",
    "]]\n"
   ]
  },
  {
   "cell_type": "code",
   "execution_count": 91,
   "metadata": {},
   "outputs": [],
   "source": [
    "rank_df['grade_score_rank']=rank_df.sort_values(by=['subject_selection','region','grade_score']).groupby(['subject_selection','region']).rank(method='first',ascending=False)['grade_score']"
   ]
  },
  {
   "cell_type": "code",
   "execution_count": 93,
   "metadata": {},
   "outputs": [],
   "source": [
    "# rank_df.loc[rank_df.subject_selection=='Business Management'].sort_values(by=['dinstance_rank'])\n",
    "\n",
    "\n",
    "rank_df.sort_values(by=['subject_selection','region','grade_score_rank','distance_from_school_(miles)']).groupby(['subject_selection','region','grade_score']).rank(method='first',ascending=True).merge(rank_df,left_index=True,right_index=True,suffixes=['_rank','']).to_csv('test.csv')"
   ]
  },
  {
   "cell_type": "code",
   "execution_count": 80,
   "metadata": {},
   "outputs": [],
   "source": [
    "rank_df['dinstance_rank']=rank_df.sort_values(by=['subject_selection','region','grade_score_rank','distance_from_school_(miles)']).groupby(['subject_selection','region','grade_score']).rank(method='first',ascending=True)['distance_from_school_(miles)']"
   ]
  },
  {
   "cell_type": "code",
   "execution_count": null,
   "metadata": {},
   "outputs": [],
   "source": []
  },
  {
   "cell_type": "code",
   "execution_count": null,
   "metadata": {},
   "outputs": [],
   "source": [
    "\n",
    "# Sort Values\n",
    "rank_df=rank_df.sort_values(by=['subject_selection','region','grade_score'])\n"
   ]
  },
  {
   "cell_type": "code",
   "execution_count": null,
   "metadata": {},
   "outputs": [],
   "source": [
    "\n",
    "# Create rank for grade score\n",
    "rnk=rank_df.groupby(['subject_selection',\n",
    "                     'region']).rank(method='first',ascending=False) # Using first to get unique ranks(Top 20)\n"
   ]
  },
  {
   "cell_type": "code",
   "execution_count": null,
   "metadata": {},
   "outputs": [],
   "source": [
    "\n",
    "# merge ranks with df\n",
    "rank_df=rank_df.merge(rnk,left_index=True,right_index=True,suffixes=['','_rank']).drop(columns=['student_id_rank','distance_from_school_(miles)_rank'])\n",
    "\n",
    "# Create rank for grade score\n",
    "rnk=rank_df.groupby(['subject_selection',\n",
    "                     'region']).rank(method='dense',ascending=False)['grade_score']# Using dense rank\n"
   ]
  },
  {
   "cell_type": "code",
   "execution_count": null,
   "metadata": {},
   "outputs": [],
   "source": [
    "# Add Column\n",
    "rank_df['grade_score_rank_dense']=rnk\n",
    "\n",
    "# # merge ranks with df\n",
    "\n",
    "# rank_df=rank_df.merge(rnk,left_index=True,right_index=True,suffixes=['','_rank']).drop(columns=['student_id_rank','distance_from_school_(miles)_rank'])\n",
    "\n",
    "# get rank for distance to school\n"
   ]
  },
  {
   "cell_type": "code",
   "execution_count": null,
   "metadata": {},
   "outputs": [],
   "source": [
    "\n",
    "rnk=rank_df.groupby(['subject_selection',\n",
    "                     'region',\n",
    "                     'grade_score_rank_dense']).rank(method='dense')['distance_from_school_(miles)']\n",
    "\n",
    "# merge ranks with df\n",
    "rank_df=rank_df.merge(rnk,left_index=True,right_index=True,suffixes=['','_rank'])\n"
   ]
  },
  {
   "cell_type": "code",
   "execution_count": null,
   "metadata": {},
   "outputs": [],
   "source": [
    "\n",
    "# Get row number by region\n",
    "rnk=rank_df.groupby(['region']).rank(method='first',ascending=False)['subject_selection']# Using dense rank\n",
    "\n",
    "# Add Column\n",
    "rank_df['region_rank']=rnk\n"
   ]
  },
  {
   "cell_type": "code",
   "execution_count": null,
   "metadata": {},
   "outputs": [],
   "source": [
    "rank_df\n",
    "\n",
    "# merge ranks with df\n",
    "\n",
    "# rank_df=\n",
    "# rank_df.merge(rnk,left_index=True,right_index=True,suffixes=['','_rank'])"
   ]
  },
  {
   "cell_type": "code",
   "execution_count": null,
   "metadata": {},
   "outputs": [],
   "source": [
    "#  - For each Subject, find and flag the top 20 students with the caveat that this year within each course, 15 students must be from the East and 5 from the West given our newly imposed 75%/25% split\n",
    "rank_df[(rank_df['region']=='EAST')&\n",
    "        (rank_df['region_rank']<=25)].sort_values(by=['subject_selection','region','grade_score_rank','distance_from_school_(miles)_rank'])"
   ]
  },
  {
   "cell_type": "code",
   "execution_count": null,
   "metadata": {},
   "outputs": [],
   "source": []
  },
  {
   "cell_type": "code",
   "execution_count": null,
   "metadata": {},
   "outputs": [],
   "source": [
    "rank_df.merge(rnk,left_index=True,right_index=True,suffixes=['','_rank']).to_csv('test.csv')"
   ]
  },
  {
   "cell_type": "code",
   "execution_count": null,
   "metadata": {},
   "outputs": [],
   "source": [
    "rank_df.to_csv('test.csv',index=False)"
   ]
  },
  {
   "cell_type": "code",
   "execution_count": null,
   "metadata": {},
   "outputs": [],
   "source": [
    "os.startfile('test.csv')"
   ]
  },
  {
   "cell_type": "code",
   "execution_count": null,
   "metadata": {},
   "outputs": [],
   "source": []
  }
 ],
 "metadata": {
  "kernelspec": {
   "display_name": "Python 3",
   "language": "python",
   "name": "python3"
  },
  "language_info": {
   "codemirror_mode": {
    "name": "ipython",
    "version": 3
   },
   "file_extension": ".py",
   "mimetype": "text/x-python",
   "name": "python",
   "nbconvert_exporter": "python",
   "pygments_lexer": "ipython3",
   "version": "3.10.8"
  },
  "orig_nbformat": 4
 },
 "nbformat": 4,
 "nbformat_minor": 2
}
