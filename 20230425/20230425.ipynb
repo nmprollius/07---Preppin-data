{
 "cells": [
  {
   "cell_type": "code",
   "execution_count": 1,
   "metadata": {},
   "outputs": [],
   "source": [
    "import os\n",
    "import pandas as pd\n",
    "import datetime as dt"
   ]
  },
  {
   "cell_type": "code",
   "execution_count": 2,
   "metadata": {},
   "outputs": [],
   "source": [
    "class FixMyTables():\n",
    "\n",
    "    def __init__(self,df):\n",
    "        self.df = df\n",
    "\n",
    "    def clean_column_names(df):\n",
    "        df = df.copy()\n",
    "        df.columns = [str(i).strip().lower().replace(' ','_') for i in df.columns]\n",
    "        return df\n",
    "\n",
    "    def transform_column_types(df):\n",
    "        df = df.copy()\n",
    "        return df.convert_dtypes()\n",
    "\n",
    "def fix_my_tables_magic(df):\n",
    "\n",
    "    df = FixMyTables.clean_column_names(df)\n",
    "    df = FixMyTables.transform_column_types(df)\n",
    "\n",
    "    return df"
   ]
  },
  {
   "cell_type": "code",
   "execution_count": 3,
   "metadata": {},
   "outputs": [],
   "source": [
    "easter = fix_my_tables_magic(pd.read_csv('Easters.csv'))\n",
    "moon = fix_my_tables_magic(pd.read_csv('full_moon.csv'))"
   ]
  },
  {
   "cell_type": "code",
   "execution_count": 4,
   "metadata": {},
   "outputs": [
    {
     "name": "stdout",
     "output_type": "stream",
     "text": [
      "<class 'pandas.core.frame.DataFrame'>\n",
      "RangeIndex: 324 entries, 0 to 323\n",
      "Data columns (total 2 columns):\n",
      " #   Column         Non-Null Count  Dtype \n",
      "---  ------         --------------  ----- \n",
      " 0   calculation1   324 non-null    Int64 \n",
      " 1   easter_sunday  324 non-null    string\n",
      "dtypes: Int64(1), string(1)\n",
      "memory usage: 5.5 KB\n"
     ]
    }
   ],
   "source": [
    "easter.info()"
   ]
  },
  {
   "cell_type": "code",
   "execution_count": 5,
   "metadata": {},
   "outputs": [],
   "source": [
    "easter.calculation1=easter.calculation1.astype('string')\n",
    "easter.easter_sunday=pd.to_datetime(easter.easter_sunday,format=\"%d/%m/%Y\")"
   ]
  },
  {
   "cell_type": "code",
   "execution_count": 9,
   "metadata": {},
   "outputs": [
    {
     "name": "stdout",
     "output_type": "stream",
     "text": [
      "<class 'pandas.core.frame.DataFrame'>\n",
      "RangeIndex: 1868 entries, 0 to 1867\n",
      "Data columns (total 3 columns):\n",
      " #   Column  Non-Null Count  Dtype         \n",
      "---  ------  --------------  -----         \n",
      " 0   day     1868 non-null   string        \n",
      " 1   date    1868 non-null   datetime64[ns]\n",
      " 2   time    1868 non-null   object        \n",
      "dtypes: datetime64[ns](1), object(1), string(1)\n",
      "memory usage: 43.9+ KB\n"
     ]
    }
   ],
   "source": [
    "moon.info()"
   ]
  },
  {
   "cell_type": "code",
   "execution_count": 7,
   "metadata": {},
   "outputs": [],
   "source": [
    "moon.date=moon.date.str.strip()\n",
    "moon.date=pd.to_datetime(moon.date,format=\"%d %B %Y\")"
   ]
  },
  {
   "cell_type": "code",
   "execution_count": 8,
   "metadata": {},
   "outputs": [],
   "source": [
    "moon.time=moon.time.str.strip().str.upper().str[:11].str.strip().str.zfill(11)\n",
    "moon.time=pd.to_datetime(moon['time'],format='%I:%M:%S %p').dt.time\n",
    "\n"
   ]
  }
 ],
 "metadata": {
  "kernelspec": {
   "display_name": "Python 3",
   "language": "python",
   "name": "python3"
  },
  "language_info": {
   "codemirror_mode": {
    "name": "ipython",
    "version": 3
   },
   "file_extension": ".py",
   "mimetype": "text/x-python",
   "name": "python",
   "nbconvert_exporter": "python",
   "pygments_lexer": "ipython3",
   "version": "3.10.8"
  },
  "orig_nbformat": 4
 },
 "nbformat": 4,
 "nbformat_minor": 2
}
