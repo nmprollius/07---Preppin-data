{
 "cells": [
  {
   "cell_type": "markdown",
   "metadata": {},
   "source": [
    "# Requirements\n",
    " - Input the data sets\n",
    " - Link the Instore and Online sales together to be one data source\n",
    " - Call the Nulls in the Stores field Online \n",
    " - Link in the product Lookup to name the products instead of having their ID number\n",
    " - Create the 'Product Type' field by taking the first word of the product name\n",
    " - Create a data set from your work so far that includes the next sale after the one made in the store of the same product type \n",
    " - Workout how long it took between the original sale and the next sale in minutes\n",
    " - Remove any negative differences. These are sales that got refunded. \n",
    " - Create a data set that shows the average of these values for each store and product type. Call this field 'Average mins to next sale' \n",
    " - Output the results\n"
   ]
  },
  {
   "cell_type": "code",
   "execution_count": 2,
   "metadata": {},
   "outputs": [],
   "source": [
    "import os\n",
    "import pandas as pd\n",
    "import datetime as dt\n"
   ]
  },
  {
   "cell_type": "code",
   "execution_count": 3,
   "metadata": {},
   "outputs": [],
   "source": [
    "def clean_df_clm(df):\n",
    "    df.columns = [i.strip().lower().replace(' ','_') for i in df.columns]\n",
    "    return df"
   ]
  },
  {
   "cell_type": "code",
   "execution_count": 4,
   "metadata": {},
   "outputs": [],
   "source": [
    "def clean_df(df,i):\n",
    "    df['fname'] = i.split(' ')[-2]\n",
    "    return df\n"
   ]
  },
  {
   "cell_type": "code",
   "execution_count": 5,
   "metadata": {},
   "outputs": [
    {
     "data": {
      "text/plain": [
       "['.ipynb_checkpoints',\n",
       " 'output.csv',\n",
       " 'PD 2022 Week 33 Input Instore Orders.csv',\n",
       " 'PD 2022 Week 33 Input Online Orders.csv',\n",
       " 'Preppin_ Summer 2022 - Product Lookup.csv',\n",
       " 'preppin_data.ipynb']"
      ]
     },
     "execution_count": 5,
     "metadata": {},
     "output_type": "execute_result"
    }
   ],
   "source": [
    "os.listdir()"
   ]
  },
  {
   "cell_type": "code",
   "execution_count": 6,
   "metadata": {},
   "outputs": [],
   "source": [
    "files_list=[i for i in os.listdir() if i.startswith('PD 2022')]"
   ]
  },
  {
   "cell_type": "code",
   "execution_count": 7,
   "metadata": {},
   "outputs": [],
   "source": [
    "df1 = clean_df_clm(pd.read_csv(files_list[0]))\n",
    "df2 = clean_df_clm(pd.read_csv(files_list[1]))\n",
    "df2.rename(columns={'sales_timestamp':'sales_date'},inplace=True)\n",
    "df = pd.concat([df1,df2]).reset_index(drop=True)\n",
    "df['store']=df['store'].fillna('Online')"
   ]
  },
  {
   "cell_type": "code",
   "execution_count": 8,
   "metadata": {},
   "outputs": [],
   "source": [
    "lookup_df = clean_df_clm(pd.read_csv('Preppin_ Summer 2022 - Product Lookup.csv'))\n",
    "df = df.merge(lookup_df,how='left',left_on='product',right_on='product_id').drop(columns=['product','product_id']).copy()\n"
   ]
  },
  {
   "cell_type": "markdown",
   "metadata": {},
   "source": [
    " - Create the 'Product Type' field by taking the first word of the product name\n",
    " - Create a data set from your work so far that includes the next sale after the one made in the store of the same product type "
   ]
  },
  {
   "cell_type": "code",
   "execution_count": 9,
   "metadata": {},
   "outputs": [],
   "source": [
    "df['product_type']= df['product_name'].apply(lambda x:x.split('-')[0])"
   ]
  },
  {
   "cell_type": "code",
   "execution_count": 10,
   "metadata": {},
   "outputs": [],
   "source": [
    "df['sales_date']=pd.to_datetime(df['sales_date'],format='%d/%m/%Y %H:%M:%S')"
   ]
  },
  {
   "cell_type": "code",
   "execution_count": 11,
   "metadata": {},
   "outputs": [],
   "source": [
    "df = df.sort_values(['store','sales_date']).reset_index(drop=True).drop(columns=['product_name'])"
   ]
  },
  {
   "cell_type": "code",
   "execution_count": 12,
   "metadata": {},
   "outputs": [],
   "source": [
    "df['next_sale']=df.groupby(['store'])['sales_date'].shift(-1)"
   ]
  },
  {
   "cell_type": "code",
   "execution_count": 33,
   "metadata": {},
   "outputs": [],
   "source": [
    "df= df.dropna(axis=0, subset = ['next_sale']).reset_index(drop=True)"
   ]
  },
  {
   "cell_type": "code",
   "execution_count": 35,
   "metadata": {},
   "outputs": [
    {
     "data": {
      "text/plain": [
       "0      -1 days +23:00:00\n",
       "1        0 days 00:00:00\n",
       "2        0 days 00:00:00\n",
       "3      -1 days +23:00:00\n",
       "4      -1 days +23:00:00\n",
       "              ...       \n",
       "1992     0 days 00:00:00\n",
       "1993   -1 days +23:00:00\n",
       "1994     0 days 00:00:00\n",
       "1995     0 days 00:00:00\n",
       "1996     0 days 00:00:00\n",
       "Length: 1997, dtype: timedelta64[ns]"
      ]
     },
     "execution_count": 35,
     "metadata": {},
     "output_type": "execute_result"
    }
   ],
   "source": [
    "df['sales_date'] - df['next_sale']"
   ]
  },
  {
   "cell_type": "code",
   "execution_count": null,
   "metadata": {},
   "outputs": [],
   "source": []
  },
  {
   "cell_type": "code",
   "execution_count": null,
   "metadata": {},
   "outputs": [],
   "source": []
  },
  {
   "cell_type": "code",
   "execution_count": null,
   "metadata": {},
   "outputs": [],
   "source": []
  },
  {
   "cell_type": "code",
   "execution_count": null,
   "metadata": {},
   "outputs": [],
   "source": []
  },
  {
   "cell_type": "code",
   "execution_count": 13,
   "metadata": {},
   "outputs": [],
   "source": [
    "df.to_csv('output.csv')\n",
    "# os.startfile('output.csv')"
   ]
  },
  {
   "cell_type": "code",
   "execution_count": 116,
   "metadata": {},
   "outputs": [],
   "source": [
    "if s.startswith('a'):\n",
    "    'Yes'\n",
    "else:\n",
    "    'No'"
   ]
  },
  {
   "cell_type": "code",
   "execution_count": 113,
   "metadata": {},
   "outputs": [],
   "source": [
    "s = 'abc'"
   ]
  },
  {
   "cell_type": "code",
   "execution_count": 118,
   "metadata": {},
   "outputs": [
    {
     "name": "stdout",
     "output_type": "stream",
     "text": [
      "no\n"
     ]
    }
   ],
   "source": [
    "print('yes') if not s.startswith('a') else print('no')"
   ]
  },
  {
   "cell_type": "code",
   "execution_count": 151,
   "metadata": {},
   "outputs": [
    {
     "data": {
      "text/plain": [
       "0       False\n",
       "1       False\n",
       "2       False\n",
       "3       False\n",
       "4       False\n",
       "        ...  \n",
       "1995    False\n",
       "1996    False\n",
       "1997    False\n",
       "1998    False\n",
       "1999     True\n",
       "Name: next_sale, Length: 2000, dtype: bool"
      ]
     },
     "execution_count": 151,
     "metadata": {},
     "output_type": "execute_result"
    }
   ],
   "source": [
    "df['next_sale'].isna().apply(lambda x: x)\n",
    "\n"
   ]
  },
  {
   "cell_type": "code",
   "execution_count": null,
   "metadata": {},
   "outputs": [],
   "source": []
  }
 ],
 "metadata": {
  "kernelspec": {
   "display_name": "Python 3 (ipykernel)",
   "language": "python",
   "name": "python3"
  },
  "language_info": {
   "codemirror_mode": {
    "name": "ipython",
    "version": 3
   },
   "file_extension": ".py",
   "mimetype": "text/x-python",
   "name": "python",
   "nbconvert_exporter": "python",
   "pygments_lexer": "ipython3",
   "version": "3.8.13"
  },
  "vscode": {
   "interpreter": {
    "hash": "f22753240582bc7a9502817e3053bc997a3eafe3a7673600da5dd37ad9410dbc"
   }
  }
 },
 "nbformat": 4,
 "nbformat_minor": 4
}
