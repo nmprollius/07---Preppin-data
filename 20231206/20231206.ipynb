{
 "cells": [
  {
   "cell_type": "markdown",
   "metadata": {},
   "source": [
    "### 2023: Week 49 - Regular Savings Accounts\n",
    "December 06, 2023\n",
    "Challenge by: Jenny Martin\n",
    "\n",
    "Data Source Bank (DSB) are looking to introduce a Regular Savings Account for their customers. There are 2 factors they need to decide:\n",
    "\n",
    "The interest rate\n",
    "The maximum amount a customer is able to pay into the account each month\n",
    "DSB are looking to compare other 12 month products currently in the market, to help decide these factors. They want to understand which account offers the customer the biggest opportunity to increase their savings. They also want to educate their customers by showing how their savings would increase each month. \n",
    "\n"
   ]
  },
  {
   "cell_type": "markdown",
   "metadata": {},
   "source": [
    "### Requirements \n",
    "Note: We assume the interest will be spread evenly across the 12 months for this challenge\n",
    " - Input the data\n",
    " - Update the Max Monthly Amount so it is a numeric field\n",
    " - Update the Provider field so it is easy for customers to see in 1 field which accounts have additional conditions\n",
    " - Ensure we have a row for each month for each account i.e. 12 rows for each account\n",
    " - Calculate the savings value in each account, each month after interest has been applied\n",
    " - Assume a customer is able to pay in the Max Monthly Deposit each month\n",
    " - Compound interest may come in useful (formula taken from Wikipedia)\n",
    " - Hint: think about each month's deposit and how many months it will collect interest before the end of the 12 months \n",
    " - Create a field for the maximum possible savings a customer could get from each account\n",
    " - Calculate the maximum total interest a customer could get from each account\n",
    " - Rank the accounts by the maximum possible savings\n",
    " - Rank the accounts by the maximum total interest\n",
    " - Round all monetary values to 2 decimal places\n",
    " - Output the data\n"
   ]
  },
  {
   "cell_type": "code",
   "execution_count": 553,
   "metadata": {},
   "outputs": [],
   "source": [
    "import os\n",
    "import pandas as pd\n",
    "import numpy as np"
   ]
  },
  {
   "cell_type": "code",
   "execution_count": 554,
   "metadata": {},
   "outputs": [],
   "source": [
    "# Input the data\n",
    "\n",
    "df = pd.read_csv('Regular Savings Accounts.csv')"
   ]
  },
  {
   "cell_type": "code",
   "execution_count": 555,
   "metadata": {},
   "outputs": [],
   "source": [
    "# Clean data\n",
    "df.columns=df.columns.str.lower().str.strip().str.replace(' ','_')\n",
    "df.interest=df.interest.str.strip('%').astype('float64')\n",
    "df.max_monthly_deposit=df.max_monthly_deposit.str.strip('£').astype('int64')\n",
    "df.has_additional_conditions=df.has_additional_conditions.fillna('N')\n",
    "df.provider=np.where(df.has_additional_conditions=='Y',df.provider+ ' (Conditions Apply)',df.provider)\n",
    "# df.provider=df.provider + ' - '+ df.has_additional_conditions\n",
    "df.drop(columns=['has_additional_conditions'],inplace=True)"
   ]
  },
  {
   "cell_type": "code",
   "execution_count": 556,
   "metadata": {},
   "outputs": [],
   "source": [
    "# Create 12 rows per account\n",
    "\n",
    "months_df=pd.DataFrame(list(range(1,13)),columns=['month'])\n",
    "months_df['key']=1\n",
    "df['key']=1\n",
    "df=df.merge(months_df,how='outer',on='key').drop(columns=['key']).copy()"
   ]
  },
  {
   "cell_type": "code",
   "execution_count": 557,
   "metadata": {},
   "outputs": [],
   "source": [
    "#  - Calculate the savings value in each account, each month after interest has been applied\n",
    "#  - Assume a customer is able to pay in the Max Monthly Deposit each month\n",
    "#  - Compound interest may come in useful (formula taken from Wikipedia)\n",
    "#  - Hint: think about each month's deposit and how many months it will collect interest before the end of the 12 months \n",
    "#  - Create a field for the maximum possible savings a customer could get from each account\n",
    "#  - Calculate the maximum total interest a customer could get from each account\n",
    "\n",
    "def calculate_compound_interest(principal,rate,compounding_frequency,month):\n",
    "  \"\"\"\n",
    "  principal=Principle sum\n",
    "  rate=Nominal annual interest rate\n",
    "  compounding_frequency=compounding frequency\n",
    "  month=month of the year\n",
    "  \"\"\"\n",
    "  rate_decimal=rate/100\n",
    "  # month=13-month\n",
    "\n",
    "  # compound_interest = principal * (1 + rate_decimal / compounding_frequency) ** (compounding_frequency * time)\n",
    "  compound_interest = principal * (1 + rate_decimal / compounding_frequency) ** (month)\n",
    "\n",
    "  return compound_interest"
   ]
  },
  {
   "cell_type": "code",
   "execution_count": 558,
   "metadata": {},
   "outputs": [],
   "source": [
    "df['saving_each_month']=df.apply(lambda row: calculate_compound_interest(\n",
    "  principal=row['max_monthly_deposit'],\n",
    "  rate=row['interest'],\n",
    "  compounding_frequency=12,\n",
    "  month=row['month']\n",
    "),axis=1)\n",
    "\n",
    "df['interest_earned']=df.saving_each_month-df.max_monthly_deposit\n",
    "\n",
    "\n",
    "total_savings_df = df[['provider','saving_each_month']].groupby('provider').sum().rename(columns={'saving_each_month':'total_max_savings'})\n",
    "total_interest_df = df[['provider','interest_earned']].groupby('provider').sum().rename(columns={'interest_earned':'total_interest'})\n",
    "\n",
    "df['saving_each_month']=df.groupby('provider').cumsum()[['saving_each_month']]\n",
    "\n",
    "df=df.merge(total_savings_df,how='left',on='provider')\n",
    "df=df.merge(total_interest_df,how='left',on='provider')"
   ]
  },
  {
   "cell_type": "code",
   "execution_count": 559,
   "metadata": {},
   "outputs": [],
   "source": [
    "# Rank the accounts by the maximum possible savings\n",
    "savings_rank=df.groupby(['provider']).sum(numeric_only=True)['total_max_savings'].rank(ascending=False).reset_index().rename(columns={'total_max_savings':'savings_rank'})\n",
    "\n",
    "# Rank the accounts by the maximum total interest\n",
    "interest_rank=df.groupby(['provider']).sum(numeric_only=True)['total_interest'].rank(ascending=False).reset_index().rename(columns={'total_interest':'interest_rank'})\n",
    "\n",
    "df=df.merge(savings_rank,how='left',on='provider')\n",
    "df=df.merge(interest_rank,how='left',on='provider')\n",
    "\n"
   ]
  },
  {
   "cell_type": "code",
   "execution_count": 560,
   "metadata": {},
   "outputs": [],
   "source": [
    "# Round all monetary values to 2 decimal places\n",
    "for column in df.columns:\n",
    "  if df[column].dtype == 'float64':\n",
    "    df[column]=df[column].round(2)\n",
    "\n",
    "df.savings_rank=df.savings_rank.astype('int64')\n",
    "df.interest_rank=df.interest_rank.astype('int64')\n"
   ]
  },
  {
   "cell_type": "code",
   "execution_count": 561,
   "metadata": {},
   "outputs": [],
   "source": [
    "df=df[[\n",
    "  'savings_rank',\n",
    "  'interest_rank',\n",
    "  'provider',\n",
    "  'interest',\n",
    "  'max_monthly_deposit',\n",
    "  'month',\n",
    "  'saving_each_month',\n",
    "  'total_max_savings',\n",
    "  'total_interest']]\n"
   ]
  },
  {
   "cell_type": "code",
   "execution_count": 562,
   "metadata": {},
   "outputs": [],
   "source": [
    "df=df.sort_values(['savings_rank','provider']).reset_index(drop=True)"
   ]
  },
  {
   "cell_type": "code",
   "execution_count": 564,
   "metadata": {},
   "outputs": [],
   "source": [
    "df.to_excel('savings accounts.xlsx',index=False)\n",
    "os.startfile('savings accounts.xlsx')"
   ]
  }
 ],
 "metadata": {
  "kernelspec": {
   "display_name": "Python 3",
   "language": "python",
   "name": "python3"
  },
  "language_info": {
   "codemirror_mode": {
    "name": "ipython",
    "version": 3
   },
   "file_extension": ".py",
   "mimetype": "text/x-python",
   "name": "python",
   "nbconvert_exporter": "python",
   "pygments_lexer": "ipython3",
   "version": "3.10.8"
  }
 },
 "nbformat": 4,
 "nbformat_minor": 2
}
