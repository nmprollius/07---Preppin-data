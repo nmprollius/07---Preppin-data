{
 "cells": [
  {
   "cell_type": "code",
   "execution_count": 484,
   "metadata": {},
   "outputs": [],
   "source": [
    "import pandas as pd\n",
    "import numpy as np\n",
    "import datetime as dt"
   ]
  },
  {
   "cell_type": "code",
   "execution_count": 511,
   "metadata": {},
   "outputs": [],
   "source": [
    "df=pd.read_excel('Preppin Data Challenge.xlsx')"
   ]
  },
  {
   "cell_type": "code",
   "execution_count": 512,
   "metadata": {},
   "outputs": [],
   "source": [
    "df=df[~df['Project'].str.contains('total',case=False)].reset_index(drop=True).copy()"
   ]
  },
  {
   "cell_type": "code",
   "execution_count": 513,
   "metadata": {},
   "outputs": [],
   "source": [
    "dim = df.columns[:2]\n",
    "meas = df.columns[2:]"
   ]
  },
  {
   "cell_type": "code",
   "execution_count": 514,
   "metadata": {},
   "outputs": [],
   "source": [
    "#df = df.melt(id_vars=dim)\n",
    "df = df.set_index(['Name, Age, Area of Work','Project']).stack().reset_index()"
   ]
  },
  {
   "cell_type": "code",
   "execution_count": 515,
   "metadata": {},
   "outputs": [],
   "source": [
    "df = df.rename(columns={'level_2':'date',0:'hours'}).copy()"
   ]
  },
  {
   "cell_type": "code",
   "execution_count": 516,
   "metadata": {},
   "outputs": [],
   "source": [
    "df[['name','age']] = df['Name, Age, Area of Work'].str.split(',',expand=True)"
   ]
  },
  {
   "cell_type": "code",
   "execution_count": 517,
   "metadata": {},
   "outputs": [
    {
     "data": {
      "text/html": [
       "<div>\n",
       "<style scoped>\n",
       "    .dataframe tbody tr th:only-of-type {\n",
       "        vertical-align: middle;\n",
       "    }\n",
       "\n",
       "    .dataframe tbody tr th {\n",
       "        vertical-align: top;\n",
       "    }\n",
       "\n",
       "    .dataframe thead th {\n",
       "        text-align: right;\n",
       "    }\n",
       "</style>\n",
       "<table border=\"1\" class=\"dataframe\">\n",
       "  <thead>\n",
       "    <tr style=\"text-align: right;\">\n",
       "      <th></th>\n",
       "      <th>Name, Age, Area of Work</th>\n",
       "      <th>Project</th>\n",
       "      <th>date</th>\n",
       "      <th>hours</th>\n",
       "      <th>name</th>\n",
       "      <th>age</th>\n",
       "      <th>area_of_work</th>\n",
       "    </tr>\n",
       "  </thead>\n",
       "  <tbody>\n",
       "    <tr>\n",
       "      <th>0</th>\n",
       "      <td>Dan, 28: Client</td>\n",
       "      <td>Client Meetings</td>\n",
       "      <td>2021-02-02</td>\n",
       "      <td>2</td>\n",
       "      <td>Dan</td>\n",
       "      <td>28</td>\n",
       "      <td>Client</td>\n",
       "    </tr>\n",
       "    <tr>\n",
       "      <th>1</th>\n",
       "      <td>Dan, 28: Client</td>\n",
       "      <td>Client Meetings</td>\n",
       "      <td>2021-02-04</td>\n",
       "      <td>1</td>\n",
       "      <td>Dan</td>\n",
       "      <td>28</td>\n",
       "      <td>Client</td>\n",
       "    </tr>\n",
       "    <tr>\n",
       "      <th>2</th>\n",
       "      <td>Dan, 28: Client</td>\n",
       "      <td>Client Meetings</td>\n",
       "      <td>2021-02-08</td>\n",
       "      <td>1.5</td>\n",
       "      <td>Dan</td>\n",
       "      <td>28</td>\n",
       "      <td>Client</td>\n",
       "    </tr>\n",
       "    <tr>\n",
       "      <th>3</th>\n",
       "      <td>Dan, 28: Client</td>\n",
       "      <td>Client Meetings</td>\n",
       "      <td>2021-02-09</td>\n",
       "      <td>0.5</td>\n",
       "      <td>Dan</td>\n",
       "      <td>28</td>\n",
       "      <td>Client</td>\n",
       "    </tr>\n",
       "    <tr>\n",
       "      <th>4</th>\n",
       "      <td>Dan, 28: Client</td>\n",
       "      <td>Client Meetings</td>\n",
       "      <td>2021-02-12</td>\n",
       "      <td>Annual Leave</td>\n",
       "      <td>Dan</td>\n",
       "      <td>28</td>\n",
       "      <td>Client</td>\n",
       "    </tr>\n",
       "  </tbody>\n",
       "</table>\n",
       "</div>"
      ],
      "text/plain": [
       "  Name, Age, Area of Work          Project       date         hours name  age  \\\n",
       "0         Dan, 28: Client  Client Meetings 2021-02-02             2  Dan   28   \n",
       "1         Dan, 28: Client  Client Meetings 2021-02-04             1  Dan   28   \n",
       "2         Dan, 28: Client  Client Meetings 2021-02-08           1.5  Dan   28   \n",
       "3         Dan, 28: Client  Client Meetings 2021-02-09           0.5  Dan   28   \n",
       "4         Dan, 28: Client  Client Meetings 2021-02-12  Annual Leave  Dan   28   \n",
       "\n",
       "  area_of_work  \n",
       "0       Client  \n",
       "1       Client  \n",
       "2       Client  \n",
       "3       Client  \n",
       "4       Client  "
      ]
     },
     "execution_count": 517,
     "metadata": {},
     "output_type": "execute_result"
    }
   ],
   "source": [
    "df[['age','area_of_work']] = df['age'].str.split(':',expand=True)\n",
    "df.head()"
   ]
  },
  {
   "cell_type": "code",
   "execution_count": 518,
   "metadata": {},
   "outputs": [],
   "source": [
    "del df['Name, Age, Area of Work']"
   ]
  },
  {
   "cell_type": "code",
   "execution_count": 519,
   "metadata": {},
   "outputs": [],
   "source": [
    "df = df[['name', 'age', 'area_of_work','Project', 'date', 'hours']]"
   ]
  },
  {
   "cell_type": "code",
   "execution_count": 408,
   "metadata": {},
   "outputs": [],
   "source": [
    "# df['hours'].fillna(0,inplace=True)"
   ]
  },
  {
   "cell_type": "code",
   "execution_count": 521,
   "metadata": {},
   "outputs": [],
   "source": [
    "df = df[df['hours']!='Annual Leave'].copy()"
   ]
  },
  {
   "cell_type": "code",
   "execution_count": 522,
   "metadata": {},
   "outputs": [
    {
     "name": "stdout",
     "output_type": "stream",
     "text": [
      "<class 'pandas.core.frame.DataFrame'>\n",
      "Int64Index: 176 entries, 0 to 192\n",
      "Data columns (total 6 columns):\n",
      " #   Column        Non-Null Count  Dtype         \n",
      "---  ------        --------------  -----         \n",
      " 0   name          176 non-null    object        \n",
      " 1   age           176 non-null    object        \n",
      " 2   area_of_work  176 non-null    object        \n",
      " 3   Project       176 non-null    object        \n",
      " 4   date          176 non-null    datetime64[ns]\n",
      " 5   hours         176 non-null    float64       \n",
      "dtypes: datetime64[ns](1), float64(1), object(4)\n",
      "memory usage: 9.6+ KB\n"
     ]
    }
   ],
   "source": [
    "df['hours']=df['hours'].astype('float')\n",
    "df.info()"
   ]
  },
  {
   "cell_type": "code",
   "execution_count": 523,
   "metadata": {},
   "outputs": [],
   "source": [
    "total_hrs = df.groupby(['area_of_work','name','date']).sum().reset_index().copy()"
   ]
  },
  {
   "cell_type": "code",
   "execution_count": 524,
   "metadata": {},
   "outputs": [],
   "source": [
    "hrs_per_person = total_hrs.groupby(['name']).sum().copy()"
   ]
  },
  {
   "cell_type": "code",
   "execution_count": 525,
   "metadata": {},
   "outputs": [],
   "source": [
    "days_per_person = total_hrs[['name','date']].groupby(['name','date']).count().reset_index()\n",
    "days_per_person = days_per_person.pivot_table(values='date',index='name',aggfunc='count')"
   ]
  },
  {
   "cell_type": "code",
   "execution_count": 526,
   "metadata": {},
   "outputs": [],
   "source": [
    "total_hrs['area_of_work'] = total_hrs['area_of_work'].str.strip()\n"
   ]
  },
  {
   "cell_type": "code",
   "execution_count": 527,
   "metadata": {},
   "outputs": [],
   "source": [
    "hrs_per_person_less_chat = total_hrs[total_hrs['area_of_work']!='Chats'].reset_index(drop=True)\n"
   ]
  },
  {
   "cell_type": "code",
   "execution_count": 528,
   "metadata": {},
   "outputs": [],
   "source": [
    "hrs_less_chat = hrs_per_person_less_chat.groupby(['name','area_of_work']).sum().copy()"
   ]
  },
  {
   "cell_type": "code",
   "execution_count": 529,
   "metadata": {},
   "outputs": [],
   "source": [
    "hrs_less_chat = hrs_less_chat.pivot_table(values='hours',columns='area_of_work',index='name').copy()"
   ]
  },
  {
   "cell_type": "code",
   "execution_count": 530,
   "metadata": {},
   "outputs": [],
   "source": [
    "combined = hrs_less_chat.merge(hrs_per_person,on='name')"
   ]
  },
  {
   "cell_type": "code",
   "execution_count": 531,
   "metadata": {},
   "outputs": [],
   "source": [
    "combined = combined.merge(days_per_person,on='name')"
   ]
  },
  {
   "cell_type": "code",
   "execution_count": 533,
   "metadata": {},
   "outputs": [],
   "source": [
    "combined['area_of_work'] = 'Client'\n",
    "combined['work_hours'] = combined['Client']+combined['Special Projects']"
   ]
  },
  {
   "cell_type": "code",
   "execution_count": 539,
   "metadata": {},
   "outputs": [],
   "source": [
    "combined['pct_of_total'] = combined['Client']/combined['work_hours']"
   ]
  },
  {
   "cell_type": "code",
   "execution_count": 537,
   "metadata": {},
   "outputs": [],
   "source": [
    "combined['hours_per_day'] = combined['hours']/combined['date']"
   ]
  },
  {
   "cell_type": "code",
   "execution_count": 541,
   "metadata": {},
   "outputs": [
    {
     "data": {
      "text/html": [
       "<div>\n",
       "<style scoped>\n",
       "    .dataframe tbody tr th:only-of-type {\n",
       "        vertical-align: middle;\n",
       "    }\n",
       "\n",
       "    .dataframe tbody tr th {\n",
       "        vertical-align: top;\n",
       "    }\n",
       "\n",
       "    .dataframe thead th {\n",
       "        text-align: right;\n",
       "    }\n",
       "</style>\n",
       "<table border=\"1\" class=\"dataframe\">\n",
       "  <thead>\n",
       "    <tr style=\"text-align: right;\">\n",
       "      <th></th>\n",
       "      <th>area_of_work</th>\n",
       "      <th>pct_of_total</th>\n",
       "      <th>hours_per_day</th>\n",
       "    </tr>\n",
       "    <tr>\n",
       "      <th>name</th>\n",
       "      <th></th>\n",
       "      <th></th>\n",
       "      <th></th>\n",
       "    </tr>\n",
       "  </thead>\n",
       "  <tbody>\n",
       "    <tr>\n",
       "      <th>Dan</th>\n",
       "      <td>Client</td>\n",
       "      <td>0.750000</td>\n",
       "      <td>8.027778</td>\n",
       "    </tr>\n",
       "    <tr>\n",
       "      <th>George</th>\n",
       "      <td>Client</td>\n",
       "      <td>0.812950</td>\n",
       "      <td>8.400000</td>\n",
       "    </tr>\n",
       "    <tr>\n",
       "      <th>Sam</th>\n",
       "      <td>Client</td>\n",
       "      <td>0.868852</td>\n",
       "      <td>7.700000</td>\n",
       "    </tr>\n",
       "  </tbody>\n",
       "</table>\n",
       "</div>"
      ],
      "text/plain": [
       "       area_of_work  pct_of_total  hours_per_day\n",
       "name                                            \n",
       "Dan          Client      0.750000       8.027778\n",
       "George       Client      0.812950       8.400000\n",
       "Sam          Client      0.868852       7.700000"
      ]
     },
     "execution_count": 541,
     "metadata": {},
     "output_type": "execute_result"
    }
   ],
   "source": [
    "combined[['area_of_work','pct_of_total','hours_per_day']]"
   ]
  }
 ],
 "metadata": {
  "kernelspec": {
   "display_name": "Python 3",
   "language": "python",
   "name": "python3"
  },
  "language_info": {
   "codemirror_mode": {
    "name": "ipython",
    "version": 3
   },
   "file_extension": ".py",
   "mimetype": "text/x-python",
   "name": "python",
   "nbconvert_exporter": "python",
   "pygments_lexer": "ipython3",
   "version": "3.7.6"
  }
 },
 "nbformat": 4,
 "nbformat_minor": 4
}
