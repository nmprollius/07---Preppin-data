{
 "cells": [
  {
   "cell_type": "code",
   "execution_count": 132,
   "metadata": {},
   "outputs": [],
   "source": [
    "import pandas as pd\n",
    "import math\n",
    "import os\n"
   ]
  },
  {
   "cell_type": "code",
   "execution_count": 133,
   "metadata": {},
   "outputs": [],
   "source": [
    "# Define the Haversine formula\n",
    "def haversine(lat1, lon1, lat2, lon2):\n",
    "    R = 3963   # Radius of the Earth in kilometers\n",
    "    dLat = math.radians(lat2 - lat1)\n",
    "    dLon = math.radians(lon2 - lon1)\n",
    "    a = math.sin(dLat / 2) * math.sin(dLat / 2) + \\\n",
    "        math.cos(math.radians(lat1)) * math.cos(math.radians(lat2)) * \\\n",
    "        math.sin(dLon / 2) * math.sin(dLon / 2)\n",
    "    c = 2 * math.atan2(math.sqrt(a), math.sqrt(1 - a))\n",
    "    distance = R * c# * 0.621371  # Convert kilometers to miles\n",
    "    return distance\n",
    "\n"
   ]
  },
  {
   "cell_type": "code",
   "execution_count": 134,
   "metadata": {},
   "outputs": [],
   "source": [
    "cust=pd.read_csv('DSB Customer Locations.csv')\n",
    "branch=pd.read_csv('DSB Branches.csv')"
   ]
  },
  {
   "cell_type": "code",
   "execution_count": 135,
   "metadata": {},
   "outputs": [
    {
     "data": {
      "text/html": [
       "<div>\n",
       "<style scoped>\n",
       "    .dataframe tbody tr th:only-of-type {\n",
       "        vertical-align: middle;\n",
       "    }\n",
       "\n",
       "    .dataframe tbody tr th {\n",
       "        vertical-align: top;\n",
       "    }\n",
       "\n",
       "    .dataframe thead th {\n",
       "        text-align: right;\n",
       "    }\n",
       "</style>\n",
       "<table border=\"1\" class=\"dataframe\">\n",
       "  <thead>\n",
       "    <tr style=\"text-align: right;\">\n",
       "      <th></th>\n",
       "      <th>Branch</th>\n",
       "      <th>Branch Long</th>\n",
       "      <th>Branch Lat</th>\n",
       "    </tr>\n",
       "  </thead>\n",
       "  <tbody>\n",
       "    <tr>\n",
       "      <th>0</th>\n",
       "      <td>London</td>\n",
       "      <td>-0.109863</td>\n",
       "      <td>51.481383</td>\n",
       "    </tr>\n",
       "    <tr>\n",
       "      <th>1</th>\n",
       "      <td>Oxford</td>\n",
       "      <td>-1.252441</td>\n",
       "      <td>51.727028</td>\n",
       "    </tr>\n",
       "    <tr>\n",
       "      <th>2</th>\n",
       "      <td>Nottingham</td>\n",
       "      <td>-1.142578</td>\n",
       "      <td>52.948638</td>\n",
       "    </tr>\n",
       "    <tr>\n",
       "      <th>3</th>\n",
       "      <td>Newcastle</td>\n",
       "      <td>-1.604004</td>\n",
       "      <td>54.965002</td>\n",
       "    </tr>\n",
       "  </tbody>\n",
       "</table>\n",
       "</div>"
      ],
      "text/plain": [
       "       Branch  Branch Long  Branch Lat\n",
       "0      London    -0.109863   51.481383\n",
       "1      Oxford    -1.252441   51.727028\n",
       "2  Nottingham    -1.142578   52.948638\n",
       "3   Newcastle    -1.604004   54.965002"
      ]
     },
     "execution_count": 135,
     "metadata": {},
     "output_type": "execute_result"
    }
   ],
   "source": [
    "branch"
   ]
  },
  {
   "cell_type": "code",
   "execution_count": 136,
   "metadata": {},
   "outputs": [],
   "source": [
    "cust['branch'] = ''\n",
    "cust['distance']=''\n",
    "cust['branch long']=''\n",
    "cust['branch lat']=''"
   ]
  },
  {
   "cell_type": "code",
   "execution_count": 137,
   "metadata": {},
   "outputs": [],
   "source": [
    "for i in cust.index:\n",
    "    lon1 = cust.iloc[i,1]\n",
    "    lat1 = cust.iloc[i,2]\n",
    "    shortest=10000000\n",
    "    branch_name=''\n",
    "    for b in branch.index:\n",
    "        lon2= branch.iloc[b,1]\n",
    "        lat2= branch.iloc[b,2]\n",
    "        distance=round(haversine(lat1, lon1, lat2, lon2),2)\n",
    "        if distance<shortest:\n",
    "            shortest = distance\n",
    "            branch_name = branch.iloc[b,0]\n",
    "\n",
    "        # print('Customer', str(cust.iloc[i,0]),',','Branch',branch.iloc[b,0],',',str(distance))\n",
    "    cust.iloc[i,3]= branch_name\n",
    "    cust.iloc[i,4]= shortest\n",
    "    cust.iloc[i,5]= lon2\n",
    "    cust.iloc[i,6]= lat2\n",
    "\n",
    "    # print(shortest,branch_name)"
   ]
  },
  {
   "cell_type": "code",
   "execution_count": 138,
   "metadata": {},
   "outputs": [],
   "source": [
    "cust = cust.sort_values(['branch','distance']).set_index(['branch','distance']).copy()"
   ]
  },
  {
   "cell_type": "code",
   "execution_count": 139,
   "metadata": {},
   "outputs": [],
   "source": [
    "cust['priority'] = 1\n",
    "p = cust.groupby(level=[0]).cumsum(numeric_only=True)['priority']\n",
    "cust['priority']= p"
   ]
  },
  {
   "cell_type": "code",
   "execution_count": 144,
   "metadata": {},
   "outputs": [],
   "source": [
    "cust.columns=[i.lower().strip().replace(' ','_') for i in cust.columns]"
   ]
  },
  {
   "cell_type": "code",
   "execution_count": 152,
   "metadata": {},
   "outputs": [],
   "source": [
    "cust.reset_index()[['branch', 'customer', 'priority','distance',  'address_long', 'address_lat','branch_long', 'branch_lat']].to_csv('cust.csv',index=False)"
   ]
  },
  {
   "cell_type": "code",
   "execution_count": 153,
   "metadata": {},
   "outputs": [],
   "source": [
    "os.startfile('cust.csv')"
   ]
  }
 ],
 "metadata": {
  "kernelspec": {
   "display_name": "Python 3",
   "language": "python",
   "name": "python3"
  },
  "language_info": {
   "codemirror_mode": {
    "name": "ipython",
    "version": 3
   },
   "file_extension": ".py",
   "mimetype": "text/x-python",
   "name": "python",
   "nbconvert_exporter": "python",
   "pygments_lexer": "ipython3",
   "version": "3.10.8"
  },
  "orig_nbformat": 4
 },
 "nbformat": 4,
 "nbformat_minor": 2
}
