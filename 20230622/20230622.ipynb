{
 "cells": [
  {
   "attachments": {},
   "cell_type": "markdown",
   "metadata": {
    "tags": []
   },
   "source": [
    " - Input the 2 data tables for East and West students\n",
    " - For the East table, fix the Student ID column so that is just the 5 digit numeric code.\n",
    " - For the West Table, Split the Student ID column to leave one column with the 5 digit numeric Student ID and one newly formed Region column.\n",
    " - For both tables use the First & Last name columns to create a new “Full Name” column in all capital letters.\n",
    " - Make sure both tables have the same date format\n",
    " - Convert the values in the Grade column in the West table from numbers to letters using the following system:\n",
    " - 1 = A, 2 = B, 3 = C, 4 = D, 5 = E, 6 = F\n",
    " - Combine the 2 tables to form one table with 12,000 rows\n",
    " - Create a new “Grade Score” Column and give each row a score according to the following system:\n",
    " - A = 50, B = 40, C = 30, D = 20, E = 10, F = 0\n",
    " - Find a way to transform the table so that each student is represented by only ONE row with 3 individual columns for their English, Maths & Science grades as well as a column with their total score from all of these grades combined.\n",
    " - Input the School Lookup table and combine it with the current student table to allow us to see which school each student is attending.\n",
    " - Clean and organise your table to match the output shown below.\n",
    " - Output the data (and keep it for next week!)"
   ]
  },
  {
   "cell_type": "code",
   "execution_count": 1,
   "metadata": {},
   "outputs": [],
   "source": [
    "import os\n",
    "import pandas as pd\n",
    "import numpy as np \n"
   ]
  },
  {
   "cell_type": "code",
   "execution_count": 2,
   "metadata": {},
   "outputs": [],
   "source": [
    "west_df=pd.read_csv(\"West Students.csv\")\n",
    "east_df=pd.read_csv(\"East Students.csv\")"
   ]
  },
  {
   "cell_type": "code",
   "execution_count": 3,
   "metadata": {},
   "outputs": [],
   "source": [
    "east_df.columns=east_df.columns.str.lower().str.strip().str.replace(' ','_')\n",
    "west_df.columns=west_df.columns.str.lower().str.strip().str.replace(' ','_')"
   ]
  },
  {
   "cell_type": "code",
   "execution_count": 4,
   "metadata": {},
   "outputs": [
    {
     "data": {
      "text/html": [
       "<div>\n",
       "<style scoped>\n",
       "    .dataframe tbody tr th:only-of-type {\n",
       "        vertical-align: middle;\n",
       "    }\n",
       "\n",
       "    .dataframe tbody tr th {\n",
       "        vertical-align: top;\n",
       "    }\n",
       "\n",
       "    .dataframe thead th {\n",
       "        text-align: right;\n",
       "    }\n",
       "</style>\n",
       "<table border=\"1\" class=\"dataframe\">\n",
       "  <thead>\n",
       "    <tr style=\"text-align: right;\">\n",
       "      <th></th>\n",
       "      <th>unique_row_id</th>\n",
       "      <th>student_id</th>\n",
       "      <th>first_name</th>\n",
       "      <th>last_name</th>\n",
       "      <th>date_of_birth</th>\n",
       "      <th>subject</th>\n",
       "      <th>grade</th>\n",
       "    </tr>\n",
       "  </thead>\n",
       "  <tbody>\n",
       "    <tr>\n",
       "      <th>0</th>\n",
       "      <td>6001</td>\n",
       "      <td>16141-WEST</td>\n",
       "      <td>Lucio</td>\n",
       "      <td>Passby</td>\n",
       "      <td>25/04/2007</td>\n",
       "      <td>English</td>\n",
       "      <td>6</td>\n",
       "    </tr>\n",
       "    <tr>\n",
       "      <th>1</th>\n",
       "      <td>6002</td>\n",
       "      <td>16141-WEST</td>\n",
       "      <td>Lucio</td>\n",
       "      <td>Passby</td>\n",
       "      <td>25/04/2007</td>\n",
       "      <td>Maths</td>\n",
       "      <td>3</td>\n",
       "    </tr>\n",
       "    <tr>\n",
       "      <th>2</th>\n",
       "      <td>6003</td>\n",
       "      <td>16141-WEST</td>\n",
       "      <td>Lucio</td>\n",
       "      <td>Passby</td>\n",
       "      <td>25/04/2007</td>\n",
       "      <td>Science</td>\n",
       "      <td>2</td>\n",
       "    </tr>\n",
       "    <tr>\n",
       "      <th>3</th>\n",
       "      <td>6004</td>\n",
       "      <td>15994-WEST</td>\n",
       "      <td>Gunner</td>\n",
       "      <td>Dunderdale</td>\n",
       "      <td>28/05/2007</td>\n",
       "      <td>English</td>\n",
       "      <td>2</td>\n",
       "    </tr>\n",
       "    <tr>\n",
       "      <th>4</th>\n",
       "      <td>6005</td>\n",
       "      <td>15994-WEST</td>\n",
       "      <td>Gunner</td>\n",
       "      <td>Dunderdale</td>\n",
       "      <td>28/05/2007</td>\n",
       "      <td>Maths</td>\n",
       "      <td>3</td>\n",
       "    </tr>\n",
       "  </tbody>\n",
       "</table>\n",
       "</div>"
      ],
      "text/plain": [
       "   unique_row_id  student_id first_name   last_name date_of_birth  subject  \\\n",
       "0           6001  16141-WEST      Lucio      Passby    25/04/2007  English   \n",
       "1           6002  16141-WEST      Lucio      Passby    25/04/2007    Maths   \n",
       "2           6003  16141-WEST      Lucio      Passby    25/04/2007  Science   \n",
       "3           6004  15994-WEST     Gunner  Dunderdale    28/05/2007  English   \n",
       "4           6005  15994-WEST     Gunner  Dunderdale    28/05/2007    Maths   \n",
       "\n",
       "   grade  \n",
       "0      6  \n",
       "1      3  \n",
       "2      2  \n",
       "3      2  \n",
       "4      3  "
      ]
     },
     "execution_count": 4,
     "metadata": {},
     "output_type": "execute_result"
    }
   ],
   "source": [
    "west_df.head()"
   ]
  },
  {
   "cell_type": "code",
   "execution_count": 5,
   "metadata": {},
   "outputs": [
    {
     "data": {
      "text/html": [
       "<div>\n",
       "<style scoped>\n",
       "    .dataframe tbody tr th:only-of-type {\n",
       "        vertical-align: middle;\n",
       "    }\n",
       "\n",
       "    .dataframe tbody tr th {\n",
       "        vertical-align: top;\n",
       "    }\n",
       "\n",
       "    .dataframe thead th {\n",
       "        text-align: right;\n",
       "    }\n",
       "</style>\n",
       "<table border=\"1\" class=\"dataframe\">\n",
       "  <thead>\n",
       "    <tr style=\"text-align: right;\">\n",
       "      <th></th>\n",
       "      <th>unique_row_id</th>\n",
       "      <th>student_id</th>\n",
       "      <th>last_name</th>\n",
       "      <th>first_name</th>\n",
       "      <th>date_of_birth</th>\n",
       "      <th>subject</th>\n",
       "      <th>grade</th>\n",
       "    </tr>\n",
       "  </thead>\n",
       "  <tbody>\n",
       "    <tr>\n",
       "      <th>0</th>\n",
       "      <td>1</td>\n",
       "      <td>EAST18141</td>\n",
       "      <td>RASSELL</td>\n",
       "      <td>KARLENS</td>\n",
       "      <td>Saturday, 25 November, 2006</td>\n",
       "      <td>English</td>\n",
       "      <td>C</td>\n",
       "    </tr>\n",
       "    <tr>\n",
       "      <th>1</th>\n",
       "      <td>2</td>\n",
       "      <td>EAST18141</td>\n",
       "      <td>RASSELL</td>\n",
       "      <td>KARLENS</td>\n",
       "      <td>Saturday, 25 November, 2006</td>\n",
       "      <td>Maths</td>\n",
       "      <td>B</td>\n",
       "    </tr>\n",
       "    <tr>\n",
       "      <th>2</th>\n",
       "      <td>3</td>\n",
       "      <td>EAST18141</td>\n",
       "      <td>RASSELL</td>\n",
       "      <td>KARLENS</td>\n",
       "      <td>Saturday, 25 November, 2006</td>\n",
       "      <td>Science</td>\n",
       "      <td>B</td>\n",
       "    </tr>\n",
       "    <tr>\n",
       "      <th>3</th>\n",
       "      <td>4</td>\n",
       "      <td>EAST17994</td>\n",
       "      <td>HUDGHTON</td>\n",
       "      <td>ESMARIA</td>\n",
       "      <td>Tuesday, 10 April, 2007</td>\n",
       "      <td>English</td>\n",
       "      <td>B</td>\n",
       "    </tr>\n",
       "    <tr>\n",
       "      <th>4</th>\n",
       "      <td>5</td>\n",
       "      <td>EAST17994</td>\n",
       "      <td>HUDGHTON</td>\n",
       "      <td>ESMARIA</td>\n",
       "      <td>Tuesday, 10 April, 2007</td>\n",
       "      <td>Maths</td>\n",
       "      <td>B</td>\n",
       "    </tr>\n",
       "  </tbody>\n",
       "</table>\n",
       "</div>"
      ],
      "text/plain": [
       "   unique_row_id student_id last_name first_name                date_of_birth  \\\n",
       "0              1  EAST18141   RASSELL    KARLENS  Saturday, 25 November, 2006   \n",
       "1              2  EAST18141   RASSELL    KARLENS  Saturday, 25 November, 2006   \n",
       "2              3  EAST18141   RASSELL    KARLENS  Saturday, 25 November, 2006   \n",
       "3              4  EAST17994  HUDGHTON    ESMARIA      Tuesday, 10 April, 2007   \n",
       "4              5  EAST17994  HUDGHTON    ESMARIA      Tuesday, 10 April, 2007   \n",
       "\n",
       "   subject grade  \n",
       "0  English     C  \n",
       "1    Maths     B  \n",
       "2  Science     B  \n",
       "3  English     B  \n",
       "4    Maths     B  "
      ]
     },
     "execution_count": 5,
     "metadata": {},
     "output_type": "execute_result"
    }
   ],
   "source": [
    "east_df.head()"
   ]
  },
  {
   "cell_type": "code",
   "execution_count": 6,
   "metadata": {},
   "outputs": [],
   "source": [
    "# For the East table, fix the Student ID column so that is just the 5 digit numeric code.\n",
    "east_df.student_id=east_df.student_id.str[-5:]\n",
    "east_df['region']='EAST'"
   ]
  },
  {
   "cell_type": "code",
   "execution_count": 7,
   "metadata": {},
   "outputs": [],
   "source": [
    "# For the West Table, Split the Student ID column to leave one column with the 5 digit numeric Student ID and one newly formed Region column.\n",
    "west_df[['student_id','region']]=west_df.student_id.str.split('-',expand=True)"
   ]
  },
  {
   "cell_type": "code",
   "execution_count": 8,
   "metadata": {},
   "outputs": [],
   "source": [
    "# For both tables use the First & Last name columns to create a new “Full Name” column in all capital letters.\n",
    "def full_name(fn,ln):\n",
    "    fullname = ' '.join([fn,ln]).upper()\n",
    "    return fullname\n",
    "\n",
    "west_df['full_name']=west_df.first_name +' '+ west_df.last_name\n",
    "east_df['full_name']=east_df.first_name +' '+ east_df.last_name\n",
    "west_df['full_name']=west_df['full_name'].str.upper()\n",
    "east_df['full_name']=east_df['full_name'].str.upper()"
   ]
  },
  {
   "cell_type": "code",
   "execution_count": 9,
   "metadata": {},
   "outputs": [],
   "source": [
    "# Make sure both tables have the same date format\n",
    "west_df['date_of_birth']=pd.to_datetime(west_df['date_of_birth'],format=fr'%d/%m/%Y')\n",
    "east_df['date_of_birth']=pd.to_datetime(east_df['date_of_birth'],format=fr'%A, %d %B, %Y')"
   ]
  },
  {
   "cell_type": "code",
   "execution_count": 10,
   "metadata": {},
   "outputs": [],
   "source": [
    "# Convert the values in the Grade column in the West table from numbers to letters using the following system:\n",
    "# 1 = A, 2 = B, 3 = C, 4 = D, 5 = E, 6 = F\n",
    "m=dict(zip([1,2,3,4,5,6],['A','B','C','D','E','F']))\n",
    "\n",
    "west_df.grade=west_df.grade.map(m)"
   ]
  },
  {
   "cell_type": "code",
   "execution_count": 11,
   "metadata": {},
   "outputs": [],
   "source": [
    "# Combine the 2 tables to form one table with 12,000 rows\n",
    "west_df.drop(columns=['first_name','last_name','unique_row_id'],inplace=True)\n",
    "east_df.drop(columns=['first_name','last_name','unique_row_id'],inplace=True)\n",
    "\n",
    "cmb=pd.concat([east_df,west_df])"
   ]
  },
  {
   "cell_type": "code",
   "execution_count": 12,
   "metadata": {},
   "outputs": [
    {
     "data": {
      "text/html": [
       "<div>\n",
       "<style scoped>\n",
       "    .dataframe tbody tr th:only-of-type {\n",
       "        vertical-align: middle;\n",
       "    }\n",
       "\n",
       "    .dataframe tbody tr th {\n",
       "        vertical-align: top;\n",
       "    }\n",
       "\n",
       "    .dataframe thead th {\n",
       "        text-align: right;\n",
       "    }\n",
       "</style>\n",
       "<table border=\"1\" class=\"dataframe\">\n",
       "  <thead>\n",
       "    <tr style=\"text-align: right;\">\n",
       "      <th></th>\n",
       "      <th>student_id</th>\n",
       "      <th>date_of_birth</th>\n",
       "      <th>subject</th>\n",
       "      <th>grade</th>\n",
       "      <th>region</th>\n",
       "      <th>full_name</th>\n",
       "    </tr>\n",
       "  </thead>\n",
       "  <tbody>\n",
       "    <tr>\n",
       "      <th>0</th>\n",
       "      <td>18141</td>\n",
       "      <td>2006-11-25</td>\n",
       "      <td>English</td>\n",
       "      <td>C</td>\n",
       "      <td>EAST</td>\n",
       "      <td>KARLENS RASSELL</td>\n",
       "    </tr>\n",
       "    <tr>\n",
       "      <th>1</th>\n",
       "      <td>18141</td>\n",
       "      <td>2006-11-25</td>\n",
       "      <td>Maths</td>\n",
       "      <td>B</td>\n",
       "      <td>EAST</td>\n",
       "      <td>KARLENS RASSELL</td>\n",
       "    </tr>\n",
       "    <tr>\n",
       "      <th>2</th>\n",
       "      <td>18141</td>\n",
       "      <td>2006-11-25</td>\n",
       "      <td>Science</td>\n",
       "      <td>B</td>\n",
       "      <td>EAST</td>\n",
       "      <td>KARLENS RASSELL</td>\n",
       "    </tr>\n",
       "    <tr>\n",
       "      <th>3</th>\n",
       "      <td>17994</td>\n",
       "      <td>2007-04-10</td>\n",
       "      <td>English</td>\n",
       "      <td>B</td>\n",
       "      <td>EAST</td>\n",
       "      <td>ESMARIA HUDGHTON</td>\n",
       "    </tr>\n",
       "    <tr>\n",
       "      <th>4</th>\n",
       "      <td>17994</td>\n",
       "      <td>2007-04-10</td>\n",
       "      <td>Maths</td>\n",
       "      <td>B</td>\n",
       "      <td>EAST</td>\n",
       "      <td>ESMARIA HUDGHTON</td>\n",
       "    </tr>\n",
       "  </tbody>\n",
       "</table>\n",
       "</div>"
      ],
      "text/plain": [
       "  student_id date_of_birth  subject grade region         full_name\n",
       "0      18141    2006-11-25  English     C   EAST   KARLENS RASSELL\n",
       "1      18141    2006-11-25    Maths     B   EAST   KARLENS RASSELL\n",
       "2      18141    2006-11-25  Science     B   EAST   KARLENS RASSELL\n",
       "3      17994    2007-04-10  English     B   EAST  ESMARIA HUDGHTON\n",
       "4      17994    2007-04-10    Maths     B   EAST  ESMARIA HUDGHTON"
      ]
     },
     "execution_count": 12,
     "metadata": {},
     "output_type": "execute_result"
    }
   ],
   "source": [
    "cmb.head()"
   ]
  },
  {
   "cell_type": "code",
   "execution_count": 13,
   "metadata": {},
   "outputs": [
    {
     "data": {
      "text/html": [
       "<div>\n",
       "<style scoped>\n",
       "    .dataframe tbody tr th:only-of-type {\n",
       "        vertical-align: middle;\n",
       "    }\n",
       "\n",
       "    .dataframe tbody tr th {\n",
       "        vertical-align: top;\n",
       "    }\n",
       "\n",
       "    .dataframe thead th {\n",
       "        text-align: right;\n",
       "    }\n",
       "</style>\n",
       "<table border=\"1\" class=\"dataframe\">\n",
       "  <thead>\n",
       "    <tr style=\"text-align: right;\">\n",
       "      <th></th>\n",
       "      <th>student_id</th>\n",
       "      <th>date_of_birth</th>\n",
       "      <th>subject</th>\n",
       "      <th>grade</th>\n",
       "      <th>region</th>\n",
       "      <th>full_name</th>\n",
       "      <th>grade_score</th>\n",
       "    </tr>\n",
       "  </thead>\n",
       "  <tbody>\n",
       "    <tr>\n",
       "      <th>0</th>\n",
       "      <td>18141</td>\n",
       "      <td>2006-11-25</td>\n",
       "      <td>English</td>\n",
       "      <td>C</td>\n",
       "      <td>EAST</td>\n",
       "      <td>KARLENS RASSELL</td>\n",
       "      <td>30</td>\n",
       "    </tr>\n",
       "    <tr>\n",
       "      <th>1</th>\n",
       "      <td>18141</td>\n",
       "      <td>2006-11-25</td>\n",
       "      <td>Maths</td>\n",
       "      <td>B</td>\n",
       "      <td>EAST</td>\n",
       "      <td>KARLENS RASSELL</td>\n",
       "      <td>40</td>\n",
       "    </tr>\n",
       "    <tr>\n",
       "      <th>2</th>\n",
       "      <td>18141</td>\n",
       "      <td>2006-11-25</td>\n",
       "      <td>Science</td>\n",
       "      <td>B</td>\n",
       "      <td>EAST</td>\n",
       "      <td>KARLENS RASSELL</td>\n",
       "      <td>40</td>\n",
       "    </tr>\n",
       "    <tr>\n",
       "      <th>3</th>\n",
       "      <td>17994</td>\n",
       "      <td>2007-04-10</td>\n",
       "      <td>English</td>\n",
       "      <td>B</td>\n",
       "      <td>EAST</td>\n",
       "      <td>ESMARIA HUDGHTON</td>\n",
       "      <td>40</td>\n",
       "    </tr>\n",
       "    <tr>\n",
       "      <th>4</th>\n",
       "      <td>17994</td>\n",
       "      <td>2007-04-10</td>\n",
       "      <td>Maths</td>\n",
       "      <td>B</td>\n",
       "      <td>EAST</td>\n",
       "      <td>ESMARIA HUDGHTON</td>\n",
       "      <td>40</td>\n",
       "    </tr>\n",
       "  </tbody>\n",
       "</table>\n",
       "</div>"
      ],
      "text/plain": [
       "  student_id date_of_birth  subject grade region         full_name  \\\n",
       "0      18141    2006-11-25  English     C   EAST   KARLENS RASSELL   \n",
       "1      18141    2006-11-25    Maths     B   EAST   KARLENS RASSELL   \n",
       "2      18141    2006-11-25  Science     B   EAST   KARLENS RASSELL   \n",
       "3      17994    2007-04-10  English     B   EAST  ESMARIA HUDGHTON   \n",
       "4      17994    2007-04-10    Maths     B   EAST  ESMARIA HUDGHTON   \n",
       "\n",
       "   grade_score  \n",
       "0           30  \n",
       "1           40  \n",
       "2           40  \n",
       "3           40  \n",
       "4           40  "
      ]
     },
     "execution_count": 13,
     "metadata": {},
     "output_type": "execute_result"
    }
   ],
   "source": [
    "# Create a new “Grade Score” Column and give each row a score according to the following system:\n",
    "# A = 50, B = 40, C = 30, D = 20, E = 10, F = 0\n",
    "\n",
    "m=dict(zip(['A','B','C','D','E','F'],[50,40,30,20,10,0]))\n",
    "\n",
    "cmb['grade_score']=cmb.grade.map(m)\n",
    "\n",
    "cmb.head()"
   ]
  },
  {
   "cell_type": "code",
   "execution_count": 14,
   "metadata": {},
   "outputs": [],
   "source": [
    "# Find a way to transform the table so that each student is represented by only ONE row with 3 individual columns for their English, Maths & Science grades as well as a column with their total score from all of these grades combined.\n",
    "\n",
    "# Sum grade scores\n",
    "grades_df=cmb.groupby('student_id').sum(numeric_only=True).reset_index()\n"
   ]
  },
  {
   "cell_type": "code",
   "execution_count": 15,
   "metadata": {},
   "outputs": [],
   "source": [
    "# Pivot subjects\n",
    "# 1: Remove grade score - Will join it back after using grades_df table\n",
    "cmb.drop(columns='grade_score',inplace=True)\n",
    "\n",
    "# 2: Do pivot\n",
    "cmb=cmb.pivot(index=['student_id', 'date_of_birth', 'region','full_name'],columns='subject', values='grade').copy()\n",
    "\n",
    "# 3: Merge tables back\n",
    "cmb.reset_index(inplace=True)\n",
    "cmb=cmb.merge(grades_df,on='student_id')"
   ]
  },
  {
   "cell_type": "code",
   "execution_count": 16,
   "metadata": {},
   "outputs": [
    {
     "data": {
      "text/html": [
       "<div>\n",
       "<style scoped>\n",
       "    .dataframe tbody tr th:only-of-type {\n",
       "        vertical-align: middle;\n",
       "    }\n",
       "\n",
       "    .dataframe tbody tr th {\n",
       "        vertical-align: top;\n",
       "    }\n",
       "\n",
       "    .dataframe thead th {\n",
       "        text-align: right;\n",
       "    }\n",
       "</style>\n",
       "<table border=\"1\" class=\"dataframe\">\n",
       "  <thead>\n",
       "    <tr style=\"text-align: right;\">\n",
       "      <th></th>\n",
       "      <th>student_id</th>\n",
       "      <th>date_of_birth</th>\n",
       "      <th>region</th>\n",
       "      <th>full_name</th>\n",
       "      <th>English</th>\n",
       "      <th>Maths</th>\n",
       "      <th>Science</th>\n",
       "      <th>grade_score</th>\n",
       "    </tr>\n",
       "  </thead>\n",
       "  <tbody>\n",
       "    <tr>\n",
       "      <th>46</th>\n",
       "      <td>15046</td>\n",
       "      <td>2006-12-10</td>\n",
       "      <td>WEST</td>\n",
       "      <td>JYOTI REDHOLE</td>\n",
       "      <td>B</td>\n",
       "      <td>E</td>\n",
       "      <td>B</td>\n",
       "      <td>90</td>\n",
       "    </tr>\n",
       "  </tbody>\n",
       "</table>\n",
       "</div>"
      ],
      "text/plain": [
       "   student_id date_of_birth region      full_name English Maths Science  \\\n",
       "46      15046    2006-12-10   WEST  JYOTI REDHOLE       B     E       B   \n",
       "\n",
       "    grade_score  \n",
       "46           90  "
      ]
     },
     "execution_count": 16,
     "metadata": {},
     "output_type": "execute_result"
    }
   ],
   "source": [
    "cmb.loc[cmb.student_id=='15046']"
   ]
  },
  {
   "cell_type": "code",
   "execution_count": 18,
   "metadata": {},
   "outputs": [],
   "source": [
    "school_df=pd.read_csv('School Lookup.csv')"
   ]
  },
  {
   "cell_type": "code",
   "execution_count": 21,
   "metadata": {},
   "outputs": [],
   "source": [
    "school_df.columns=school_df.columns.str.lower().str.strip().str.replace(' ','_')\n"
   ]
  },
  {
   "cell_type": "code",
   "execution_count": 24,
   "metadata": {},
   "outputs": [
    {
     "name": "stdout",
     "output_type": "stream",
     "text": [
      "<class 'pandas.core.frame.DataFrame'>\n",
      "Int64Index: 4000 entries, 0 to 3999\n",
      "Data columns (total 8 columns):\n",
      " #   Column         Non-Null Count  Dtype         \n",
      "---  ------         --------------  -----         \n",
      " 0   student_id     4000 non-null   object        \n",
      " 1   date_of_birth  4000 non-null   datetime64[ns]\n",
      " 2   region         4000 non-null   object        \n",
      " 3   full_name      4000 non-null   object        \n",
      " 4   English        4000 non-null   object        \n",
      " 5   Maths          4000 non-null   object        \n",
      " 6   Science        4000 non-null   object        \n",
      " 7   grade_score    4000 non-null   int64         \n",
      "dtypes: datetime64[ns](1), int64(1), object(6)\n",
      "memory usage: 281.2+ KB\n"
     ]
    }
   ],
   "source": [
    "cmb.info()"
   ]
  },
  {
   "cell_type": "code",
   "execution_count": 28,
   "metadata": {},
   "outputs": [],
   "source": [
    "school_df.student_id=school_df.student_id.astype('str')"
   ]
  },
  {
   "cell_type": "code",
   "execution_count": 30,
   "metadata": {},
   "outputs": [],
   "source": [
    "cmb=school_df.merge(cmb,on='student_id')"
   ]
  },
  {
   "cell_type": "code",
   "execution_count": 32,
   "metadata": {},
   "outputs": [
    {
     "data": {
      "text/plain": [
       "(4000, 10)"
      ]
     },
     "execution_count": 32,
     "metadata": {},
     "output_type": "execute_result"
    }
   ],
   "source": [
    "cmb.shape\n"
   ]
  }
 ],
 "metadata": {
  "kernelspec": {
   "display_name": "Python 3",
   "language": "python",
   "name": "python3"
  },
  "language_info": {
   "codemirror_mode": {
    "name": "ipython",
    "version": 3
   },
   "file_extension": ".py",
   "mimetype": "text/x-python",
   "name": "python",
   "nbconvert_exporter": "python",
   "pygments_lexer": "ipython3",
   "version": "3.10.8"
  },
  "orig_nbformat": 4
 },
 "nbformat": 4,
 "nbformat_minor": 2
}
