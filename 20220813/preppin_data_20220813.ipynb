{
 "cells": [
  {
   "cell_type": "markdown",
   "metadata": {},
   "source": [
    " - Input the data\n",
    " - Create a field for today (10th August 2022)\n",
    " - Create a data field to show how much capital is paid off each month\n",
    " - Create a data field to show how many months are needed to pay off the entire debt (whole months only)\n",
    " - Create a field when the mortgages will be paid off by (Assuming a payment is to be made in August 2022)\n",
    " - Create a row per month between now and when the mortgage is paid off showing:\n",
    " - How much is still to be paid off for that mortgage? Call this field 'Remaining Capital to Repay'\n",
    " - How much is still to be paid off for all mortgages? Call this field ' Capital Outstanding Total'\n",
    " - Rename the date field 'Monthly Payment Date'\n",
    " - Output the data"
   ]
  },
  {
   "cell_type": "code",
   "execution_count": 1,
   "metadata": {},
   "outputs": [],
   "source": [
    "import os\n",
    "import pandas as pd\n",
    "import datetime as dt\n",
    "from dateutil.relativedelta import relativedelta\n",
    "from pandas.tseries.offsets import MonthEnd"
   ]
  },
  {
   "cell_type": "code",
   "execution_count": 2,
   "metadata": {},
   "outputs": [],
   "source": [
    "def clean_dframe(df):\n",
    "     df.columns = [i.strip().lower().replace(' ','_') for i in df.columns]\n",
    "     return df\n",
    "td = dt.date(2022,8,10) # Use dates in example"
   ]
  },
  {
   "cell_type": "code",
   "execution_count": 3,
   "metadata": {},
   "outputs": [],
   "source": [
    "df = clean_dframe(pd.read_csv('preppin_data_20220813.csv'))\n",
    "df['today'] = td\n",
    "df['monthly_capital_payment'] = df['monthly_payment'] * (df['%_of_monthly_repayment_going_to_capital']/100) # How much capital do you pay each month?\n",
    "df['months_to_pay'] = (df['capital_repayment_remaining']/ df['monthly_capital_payment']) # How many monts do you still have to pay?\n",
    "df['months_to_pay']=df['months_to_pay'].astype('int') #Change from float to int\n",
    "df['total_capital_repayment_remaining'] = df['capital_repayment_remaining'].sum() #How much do you owe for both properties?\n",
    "df['months_to_pay']=df['months_to_pay'].apply(lambda x:pd.DateOffset(months=x)) #change dtype to a time delta. Will use this to calculate end date.\n",
    "df['end_date']=df['today']+df['months_to_pay'] # Canlulate end date\n"
   ]
  },
  {
   "cell_type": "markdown",
   "metadata": {},
   "source": [
    "# Create date table"
   ]
  },
  {
   "cell_type": "code",
   "execution_count": 4,
   "metadata": {},
   "outputs": [],
   "source": [
    "# Get dates\n",
    "range_start = df['today'].min()\n",
    "range_end = df['end_date'].max().date() + relativedelta(months=1)\n",
    "\n",
    "# Create dframe\n",
    "all_dates_df = pd.DataFrame(pd.date_range(start=range_start,end=range_end,freq='m'),columns=['dates'])\n",
    "# The above function returns month end dates. In the below I calculate back to the original dates\n",
    "date_diff = range_start - all_dates_df.min()[0].date() #Get time delta\n",
    "all_dates_df['dates']=all_dates_df['dates'] + date_diff #Change date\n",
    "all_dates_df['dates']=all_dates_df['dates'].dt.date #Convert from timestamt to date\n",
    "\n",
    "df.drop(columns=['monthly_payment','%_of_monthly_repayment_going_to_capital','months_to_pay','today'],inplace=True)#remove excess columns"
   ]
  },
  {
   "cell_type": "markdown",
   "metadata": {},
   "source": [
    "# Combine dates table with data table\n",
    "Uses cross join"
   ]
  },
  {
   "cell_type": "code",
   "execution_count": 5,
   "metadata": {},
   "outputs": [],
   "source": [
    "# Add fields for cross join\n",
    "df['j'] = 1\n",
    "all_dates_df['j'] = 1\n",
    "combine_df = df.merge(all_dates_df,how='outer',on='j').sort_values('dates').drop(columns=['j']).reset_index(drop=True).groupby(['store','dates','end_date']).sum()\n",
    "\n",
    "# Filter out dates where loans are fully paid\n",
    "combine_df.reset_index(inplace=True) \n",
    "combine_df=combine_df[combine_df['dates']<=combine_df['end_date']].copy()\n",
    "combine_df.set_index(['store','dates','end_date'],inplace=True)#Set index back so that the group by works below."
   ]
  },
  {
   "cell_type": "code",
   "execution_count": 6,
   "metadata": {},
   "outputs": [],
   "source": [
    "combine_df['capital_paid'] = combine_df.groupby(['store'])['monthly_capital_payment'].cumsum() # Running sum of paid debt per store\n",
    "total_cap_cumsum = combine_df.groupby(['dates'])['monthly_capital_payment'].sum().cumsum() #Running sum of paid debt for total(First sum, then cumsum - order of operations)\n",
    "combine_df=combine_df.reset_index().merge(total_cap_cumsum,how='left',on='dates',suffixes=['','_total']).set_index(['store','dates','end_date'])# Merge total cumsum to DF\n",
    "combine_df['capital_outstanding_total'] = combine_df['total_capital_repayment_remaining']-combine_df['monthly_capital_payment_total'] #Calculate total debt remaining by month\n",
    "combine_df['remaining_capital_to_repay'] = combine_df['capital_repayment_remaining']-combine_df['capital_paid']#Calculate debt remaining for each store by month"
   ]
  },
  {
   "cell_type": "code",
   "execution_count": 7,
   "metadata": {},
   "outputs": [],
   "source": [
    "#Output data\n",
    "combine_df.droplevel(level=2)[[ 'capital_outstanding_total', 'remaining_capital_to_repay']].to_csv('output.csv')\n",
    "os.startfile('output.csv')"
   ]
  }
 ],
 "metadata": {
  "kernelspec": {
   "display_name": "Python 3.8.13 ('nico')",
   "language": "python",
   "name": "python3"
  },
  "language_info": {
   "codemirror_mode": {
    "name": "ipython",
    "version": 3
   },
   "file_extension": ".py",
   "mimetype": "text/x-python",
   "name": "python",
   "nbconvert_exporter": "python",
   "pygments_lexer": "ipython3",
   "version": "3.8.13"
  },
  "orig_nbformat": 4,
  "vscode": {
   "interpreter": {
    "hash": "f22753240582bc7a9502817e3053bc997a3eafe3a7673600da5dd37ad9410dbc"
   }
  }
 },
 "nbformat": 4,
 "nbformat_minor": 2
}
