{
 "cells": [
  {
   "cell_type": "code",
   "execution_count": 1,
   "metadata": {},
   "outputs": [],
   "source": [
    "import os\n",
    "import pandas as pd"
   ]
  },
  {
   "cell_type": "code",
   "execution_count": 2,
   "metadata": {},
   "outputs": [],
   "source": [
    "def clean_clm_name_dframe(dframe):\n",
    "    dframe.columns = [i.lower().strip().replace(' ','_') for i in dframe.columns]\n",
    "    return dframe"
   ]
  },
  {
   "cell_type": "code",
   "execution_count": 7,
   "metadata": {},
   "outputs": [],
   "source": [
    "df=clean_clm_name_dframe(pd.read_csv('all_data.csv'))"
   ]
  },
  {
   "cell_type": "code",
   "execution_count": 9,
   "metadata": {},
   "outputs": [],
   "source": [
    "# Split the Product Name field into Product Type and Size\n",
    "df[['product_name','size']]=df['product_name'].str.split(' - ',expand=True)\n",
    "df"
   ]
  },
  {
   "cell_type": "code",
   "execution_count": 19,
   "metadata": {},
   "outputs": [],
   "source": [
    "# Only keep the Liquid products\n",
    "df=df.loc[df['product_name']=='Liquid']"
   ]
  },
  {
   "cell_type": "code",
   "execution_count": 25,
   "metadata": {},
   "outputs": [],
   "source": [
    "# Total up the sales for each Product Size and Scent for each Store\n",
    "df=df[['sale_value', 'product_name', 'store_name','scent_name', 'size']]\n",
    "df=df.groupby(['product_name', 'store_name','scent_name', 'size']).sum().reset_index().set_index(['store_name','scent_name', 'size']).sort_values(['sale_value'],ascending=False).reset_index()"
   ]
  },
  {
   "cell_type": "code",
   "execution_count": 62,
   "metadata": {},
   "outputs": [],
   "source": [
    "df['rank']=df.groupby(['store_name'])['sale_value'].rank(ascending=False)"
   ]
  },
  {
   "cell_type": "code",
   "execution_count": 71,
   "metadata": {},
   "outputs": [],
   "source": [
    "df=df.sort_values(['store_name','sale_value','rank'],ascending=False).reset_index(drop=True)"
   ]
  },
  {
   "cell_type": "code",
   "execution_count": 76,
   "metadata": {},
   "outputs": [],
   "source": [
    "# Only leave the top 10 based on total sales value calculated above\n",
    "\n",
    "df=df.loc[df['rank']<=10].reset_index(drop=True)\n"
   ]
  },
  {
   "cell_type": "code",
   "execution_count": 113,
   "metadata": {},
   "outputs": [],
   "source": [
    "# Round the Sales Values to the nearest 10 value (ie 1913 becomes 1910)\n",
    "def custom_round(x, base=5):\n",
    "    return int(base * round(float(x)/base))\n",
    "df['sale_value']=df['sale_value'].apply(lambda x: custom_round(x, base=5))\n",
    "\n"
   ]
  },
  {
   "cell_type": "code",
   "execution_count": 122,
   "metadata": {},
   "outputs": [],
   "source": [
    "def display_stores(df):\n",
    "    store_dict = {}\n",
    "    counter = 1\n",
    "    for i in df['store_name'].unique():\n",
    "        store_dict[counter]=i\n",
    "        print(str(counter),':',i)\n",
    "        counter+=1\n",
    "    store_dict[counter]='Exit'\n",
    "    print(f'{counter} : Exit')\n",
    "    return store_dict"
   ]
  },
  {
   "cell_type": "code",
   "execution_count": 124,
   "metadata": {},
   "outputs": [
    {
     "name": "stdout",
     "output_type": "stream",
     "text": [
      "1 : Wimbledon\n",
      "2 : Shoreditch\n",
      "3 : Notting Hill\n",
      "4 : Lewisham\n",
      "5 : Dulwich\n",
      "6 : Chelsea\n",
      "7 : Exit\n"
     ]
    }
   ],
   "source": [
    "stores = display_stores(df)\n",
    "selected_store=int(input(f'Select store: 1-{len(stores)}'))\n",
    "\n",
    "df.loc[df['store_name']==stores[selected_store]].to_csv(f'{stores[selected_store]}.csv',index=False)\n",
    "os.startfile(f'{stores[selected_store]}.csv')"
   ]
  }
 ],
 "metadata": {
  "kernelspec": {
   "display_name": "Python 3.8.13 ('nico')",
   "language": "python",
   "name": "python3"
  },
  "language_info": {
   "codemirror_mode": {
    "name": "ipython",
    "version": 3
   },
   "file_extension": ".py",
   "mimetype": "text/x-python",
   "name": "python",
   "nbconvert_exporter": "python",
   "pygments_lexer": "ipython3",
   "version": "3.8.13"
  },
  "orig_nbformat": 4,
  "vscode": {
   "interpreter": {
    "hash": "f22753240582bc7a9502817e3053bc997a3eafe3a7673600da5dd37ad9410dbc"
   }
  }
 },
 "nbformat": 4,
 "nbformat_minor": 2
}
