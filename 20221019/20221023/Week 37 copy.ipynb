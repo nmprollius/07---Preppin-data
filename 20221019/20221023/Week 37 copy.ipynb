{
 "cells": [
  {
   "cell_type": "markdown",
   "metadata": {},
   "source": [
    "### Requirements\n",
    "- Split the dataset into two tables\n",
    "- Damage Stats: 1 containing: Name, Category, Phy, Mag, Fire, Ligh, Holy\n",
    "- Level Requirements: 1 containing: Name, Str, Dex, Int, Fai, Arc\n",
    "- For Damage Stats, if you look at the data in Phy, Mag, Fire, Ligh, Holy:\n",
    "- -  the first value shows the attack damage \n",
    "- - the second value shows the damage resistance\n",
    "- - A dash “-” means 0, i.e. no damage \n",
    "- For Level Requirements, for Str, Dex, Int, Fai, Arc:\n",
    "- the first value shows the level required\n",
    "- the second value shows the weapon scaling rating\n",
    "- A dash “-” means 0, i.e. no requirement or scaling \n",
    "- Pivot the two datasets:\n",
    " - For Damage Stats,1 column containing Phy, Mag, Fire, Ligh, Holy and 1 for the values\n",
    " - For Level Requirements,1 column containing Str, Dex, Int, Fai, Arc and 1 for the values\n",
    " - Split the pivot values into 2 columns for both tables:\n",
    " - For Damage Stats label the first column “Attack Damage”, and the second “Damage Resistance”\n",
    " - For Level Requirements label the first column “Required Level”, and the second “Attribute Scaling” \n",
    " - Replace the “-” values with zero in the columns: “Attack Damage”, “Damage Resistance”, “Required Level” and change the datatype to whole numbers (integer)\n",
    " - Find the total “Attack Damage” and total “Required Level” for all weapons and join the datasets together.\n",
    " - Rank the weapons by total attack damage, grouped by the total required attribute. \n",
    " - Filter for the number 1 rank and output the data\n"
   ]
  },
  {
   "cell_type": "code",
   "execution_count": 1,
   "metadata": {},
   "outputs": [],
   "source": [
    "import os\n",
    "import pandas as pd"
   ]
  },
  {
   "cell_type": "code",
   "execution_count": 2,
   "metadata": {},
   "outputs": [],
   "source": [
    "# Download sheet\n",
    "# url = ' https://drive.google.com/file/d/1hWHg2TOW9eUZVlcmGopg1Biz7wjN9UF0/view'\n",
    "# path = 'https://drive.google.com/uc?export=download&id='+url.split('/')[-2]\n",
    "# pd.read_csv(path).to_csv('preppin data week 37.csv')\n",
    "\n",
    "df = pd.read_csv('preppin data week 37.csv').drop(columns='Unnamed: 0')"
   ]
  },
  {
   "cell_type": "code",
   "execution_count": 3,
   "metadata": {},
   "outputs": [],
   "source": [
    "df.columns = [i.strip().lower().replace(' ','_') for i in df.columns]\n",
    "\n",
    "# df.head()"
   ]
  },
  {
   "cell_type": "markdown",
   "metadata": {},
   "source": [
    " - Split the dataset into two tables\n",
    " - Damage Stats: 1 containing: Name, Category, Phy, Mag, Fire, Ligh, Holy\n",
    " - Level Requirements: 1 containing: Name, Str, Dex, Int, Fai, Arc"
   ]
  },
  {
   "cell_type": "code",
   "execution_count": 4,
   "metadata": {},
   "outputs": [],
   "source": [
    "# Create 2 dfs\n",
    "damage_df = df.loc[:,['name','category', 'phy', 'mag', 'fire', 'ligh', 'holy']]\n",
    "level_requirement_df = df.loc[:,['name','str', 'dex', 'int', 'fai', 'arc']]"
   ]
  },
  {
   "cell_type": "code",
   "execution_count": 5,
   "metadata": {},
   "outputs": [],
   "source": [
    "# Pivot tables\n",
    "\n",
    "damage_df = pd.melt(damage_df, id_vars=['name','category'],value_vars=['phy', 'mag', 'fire', 'ligh', 'holy'])\n",
    "damage_df[['attack_damage','damage_resistance']] =damage_df.value.str.split(' ',expand=True)\n",
    "damage_df.drop(columns='value',inplace=True)\n",
    "damage_df.replace('-',0,inplace=True)\n",
    "damage_df[['attack_damage','damage_resistance']]=damage_df[['attack_damage','damage_resistance']].astype('int64')\n",
    "\n",
    "damage_df= damage_df.groupby(['name','category']).sum('attack_damage')\n",
    "damage_df.reset_index(inplace=True)\n"
   ]
  },
  {
   "cell_type": "code",
   "execution_count": 6,
   "metadata": {},
   "outputs": [],
   "source": [
    "\n",
    "level_requirement_df=level_requirement_df.melt(id_vars='name',value_vars=['str', 'dex', 'int', 'fai', 'arc'])\n",
    "level_requirement_df[['level_required','weapon_scaling_rating']] = level_requirement_df.value.str.split(expand=True)\n",
    "level_requirement_df.drop(columns='value',inplace=True)\n",
    "level_requirement_df.replace('-',0,inplace=True)\n",
    "level_requirement_df['level_required']=level_requirement_df['level_required'].astype('int64')\n",
    "\n",
    "\n",
    "level_requirement_df= level_requirement_df.groupby('name').sum('level_required').reset_index()"
   ]
  },
  {
   "cell_type": "code",
   "execution_count": 8,
   "metadata": {},
   "outputs": [],
   "source": [
    "finaldf = damage_df.merge(level_requirement_df,on='name')"
   ]
  },
  {
   "cell_type": "code",
   "execution_count": 17,
   "metadata": {},
   "outputs": [
    {
     "data": {
      "text/html": [
       "<div>\n",
       "<style scoped>\n",
       "    .dataframe tbody tr th:only-of-type {\n",
       "        vertical-align: middle;\n",
       "    }\n",
       "\n",
       "    .dataframe tbody tr th {\n",
       "        vertical-align: top;\n",
       "    }\n",
       "\n",
       "    .dataframe thead th {\n",
       "        text-align: right;\n",
       "    }\n",
       "</style>\n",
       "<table border=\"1\" class=\"dataframe\">\n",
       "  <thead>\n",
       "    <tr style=\"text-align: right;\">\n",
       "      <th></th>\n",
       "      <th>name</th>\n",
       "      <th>attack_damage</th>\n",
       "      <th>damage_resistance</th>\n",
       "      <th>level_required</th>\n",
       "    </tr>\n",
       "    <tr>\n",
       "      <th>category</th>\n",
       "      <th></th>\n",
       "      <th></th>\n",
       "      <th></th>\n",
       "      <th></th>\n",
       "    </tr>\n",
       "  </thead>\n",
       "  <tbody>\n",
       "    <tr>\n",
       "      <th>Axes</th>\n",
       "      <td>Ripple Blade</td>\n",
       "      <td>70</td>\n",
       "      <td>171</td>\n",
       "      <td>42</td>\n",
       "    </tr>\n",
       "    <tr>\n",
       "      <th>Axes</th>\n",
       "      <td>Forked Hatchet</td>\n",
       "      <td>101</td>\n",
       "      <td>148</td>\n",
       "      <td>23</td>\n",
       "    </tr>\n",
       "    <tr>\n",
       "      <th>Axes</th>\n",
       "      <td>Icerind Hatchet</td>\n",
       "      <td>111</td>\n",
       "      <td>148</td>\n",
       "      <td>27</td>\n",
       "    </tr>\n",
       "    <tr>\n",
       "      <th>Axes</th>\n",
       "      <td>Hand Axe</td>\n",
       "      <td>113</td>\n",
       "      <td>154</td>\n",
       "      <td>17</td>\n",
       "    </tr>\n",
       "    <tr>\n",
       "      <th>Axes</th>\n",
       "      <td>Warped Axe</td>\n",
       "      <td>118</td>\n",
       "      <td>204</td>\n",
       "      <td>32</td>\n",
       "    </tr>\n",
       "    <tr>\n",
       "      <th>...</th>\n",
       "      <td>...</td>\n",
       "      <td>...</td>\n",
       "      <td>...</td>\n",
       "      <td>...</td>\n",
       "    </tr>\n",
       "    <tr>\n",
       "      <th>Whips</th>\n",
       "      <td>Urumi</td>\n",
       "      <td>101</td>\n",
       "      <td>91</td>\n",
       "      <td>29</td>\n",
       "    </tr>\n",
       "    <tr>\n",
       "      <th>Whips</th>\n",
       "      <td>Thorned Whip</td>\n",
       "      <td>102</td>\n",
       "      <td>86</td>\n",
       "      <td>24</td>\n",
       "    </tr>\n",
       "    <tr>\n",
       "      <th>Whips</th>\n",
       "      <td>Hoslow's Petal Whip</td>\n",
       "      <td>110</td>\n",
       "      <td>96</td>\n",
       "      <td>30</td>\n",
       "    </tr>\n",
       "    <tr>\n",
       "      <th>Whips</th>\n",
       "      <td>Giant's Red Braid</td>\n",
       "      <td>135</td>\n",
       "      <td>86</td>\n",
       "      <td>51</td>\n",
       "    </tr>\n",
       "    <tr>\n",
       "      <th>Whips</th>\n",
       "      <td>Magma Whip Candlestick</td>\n",
       "      <td>144</td>\n",
       "      <td>87</td>\n",
       "      <td>42</td>\n",
       "    </tr>\n",
       "  </tbody>\n",
       "</table>\n",
       "<p>256 rows × 4 columns</p>\n",
       "</div>"
      ],
      "text/plain": [
       "                            name  attack_damage  damage_resistance  \\\n",
       "category                                                             \n",
       "Axes                Ripple Blade             70                171   \n",
       "Axes              Forked Hatchet            101                148   \n",
       "Axes             Icerind Hatchet            111                148   \n",
       "Axes                    Hand Axe            113                154   \n",
       "Axes                  Warped Axe            118                204   \n",
       "...                          ...            ...                ...   \n",
       "Whips                      Urumi            101                 91   \n",
       "Whips               Thorned Whip            102                 86   \n",
       "Whips        Hoslow's Petal Whip            110                 96   \n",
       "Whips          Giant's Red Braid            135                 86   \n",
       "Whips     Magma Whip Candlestick            144                 87   \n",
       "\n",
       "          level_required  \n",
       "category                  \n",
       "Axes                  42  \n",
       "Axes                  23  \n",
       "Axes                  27  \n",
       "Axes                  17  \n",
       "Axes                  32  \n",
       "...                  ...  \n",
       "Whips                 29  \n",
       "Whips                 24  \n",
       "Whips                 30  \n",
       "Whips                 51  \n",
       "Whips                 42  \n",
       "\n",
       "[256 rows x 4 columns]"
      ]
     },
     "execution_count": 17,
     "metadata": {},
     "output_type": "execute_result"
    }
   ],
   "source": [
    "finaldf.set_index(['category']).sort_index().sort_values(['category','attack_damage'])"
   ]
  },
  {
   "cell_type": "code",
   "execution_count": null,
   "metadata": {},
   "outputs": [],
   "source": []
  }
 ],
 "metadata": {
  "kernelspec": {
   "display_name": "Python 3.10.8 64-bit",
   "language": "python",
   "name": "python3"
  },
  "language_info": {
   "codemirror_mode": {
    "name": "ipython",
    "version": 3
   },
   "file_extension": ".py",
   "mimetype": "text/x-python",
   "name": "python",
   "nbconvert_exporter": "python",
   "pygments_lexer": "ipython3",
   "version": "3.10.8"
  },
  "orig_nbformat": 4,
  "vscode": {
   "interpreter": {
    "hash": "f7211e61ff6622f38397897284041f71d6508327139f4247201e2b6bc72bf231"
   }
  }
 },
 "nbformat": 4,
 "nbformat_minor": 2
}
