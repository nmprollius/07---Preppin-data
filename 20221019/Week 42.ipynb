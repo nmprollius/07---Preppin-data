{
 "cells": [
  {
   "cell_type": "code",
   "execution_count": 1,
   "metadata": {},
   "outputs": [],
   "source": [
    "# Imports\n",
    "import os\n",
    "import pandas as pd\n",
    "import numpy as np"
   ]
  },
  {
   "cell_type": "code",
   "execution_count": 2,
   "metadata": {},
   "outputs": [],
   "source": [
    "# Download sheet\n",
    "# url = ' https://drive.google.com/file/d/1d4ItvcaPATxbFevMOfAIXXpchOh-09D_/view'\n",
    "# path = 'https://drive.google.com/uc?export=download&id='+url.split('/')[-2]\n",
    "# pd.read_csv(path).to_csv('preppin data week 42.csv')\n"
   ]
  },
  {
   "cell_type": "code",
   "execution_count": 3,
   "metadata": {},
   "outputs": [],
   "source": [
    "# Create DF\n",
    "df = pd.read_csv('preppin data week 42.csv').drop(columns=['Unnamed: 0'])\n",
    "\n",
    "# Cleaning up\n",
    "df.columns = [i.lower().strip() for i in df.columns]\n",
    "df.date = pd.to_datetime(df.date)"
   ]
  },
  {
   "cell_type": "code",
   "execution_count": 4,
   "metadata": {},
   "outputs": [],
   "source": [
    "# df.pivot_table(columns='session',index=['player','date'],values='score',aggfunc='sum')"
   ]
  },
  {
   "cell_type": "code",
   "execution_count": 5,
   "metadata": {},
   "outputs": [],
   "source": [
    "# Create full table\n",
    "all_dates = pd.DataFrame({'date':df.date.unique(),'j':1})\n",
    "all_sessions = pd.DataFrame({'session':df.session.unique(),'j':1})\n",
    "all_players = pd.DataFrame({'player':df.player.unique(),'j':1})\n",
    "sess_dates = all_sessions.merge(all_dates,how='outer')\n",
    "sess_dates = sess_dates.merge(all_players,how='outer',on='j').drop(columns='j')\n",
    "\n",
    "# Merge back to fill df\n",
    "df = sess_dates.merge(df,left_on=['date','session','player'],right_on=['date','session','player'],how='outer')\n",
    "\n",
    "df['filled'] = np.where(df.score.isna(),'Filled','Not Filled')"
   ]
  },
  {
   "cell_type": "code",
   "execution_count": 6,
   "metadata": {},
   "outputs": [],
   "source": [
    "# group data anf fill firward\n",
    "df = df.set_index(['player','session','date']).sort_index().ffill().reset_index()"
   ]
  },
  {
   "cell_type": "code",
   "execution_count": 7,
   "metadata": {},
   "outputs": [
    {
     "data": {
      "text/html": [
       "<div>\n",
       "<style scoped>\n",
       "    .dataframe tbody tr th:only-of-type {\n",
       "        vertical-align: middle;\n",
       "    }\n",
       "\n",
       "    .dataframe tbody tr th {\n",
       "        vertical-align: top;\n",
       "    }\n",
       "\n",
       "    .dataframe thead th {\n",
       "        text-align: right;\n",
       "    }\n",
       "</style>\n",
       "<table border=\"1\" class=\"dataframe\">\n",
       "  <thead>\n",
       "    <tr style=\"text-align: right;\">\n",
       "      <th></th>\n",
       "      <th>session</th>\n",
       "      <th>Agility</th>\n",
       "      <th>Cardio</th>\n",
       "      <th>Strength Building</th>\n",
       "      <th>avg</th>\n",
       "    </tr>\n",
       "    <tr>\n",
       "      <th>player</th>\n",
       "      <th>date</th>\n",
       "      <th></th>\n",
       "      <th></th>\n",
       "      <th></th>\n",
       "      <th></th>\n",
       "    </tr>\n",
       "  </thead>\n",
       "  <tbody>\n",
       "    <tr>\n",
       "      <th rowspan=\"5\" valign=\"top\">Player 1</th>\n",
       "      <th>2022-01-03</th>\n",
       "      <td>7.0</td>\n",
       "      <td>3.0</td>\n",
       "      <td>10.0</td>\n",
       "      <td>7.0</td>\n",
       "    </tr>\n",
       "    <tr>\n",
       "      <th>2022-01-04</th>\n",
       "      <td>8.0</td>\n",
       "      <td>10.0</td>\n",
       "      <td>10.0</td>\n",
       "      <td>9.0</td>\n",
       "    </tr>\n",
       "    <tr>\n",
       "      <th>2022-01-05</th>\n",
       "      <td>8.0</td>\n",
       "      <td>10.0</td>\n",
       "      <td>5.0</td>\n",
       "      <td>8.0</td>\n",
       "    </tr>\n",
       "    <tr>\n",
       "      <th>2022-01-06</th>\n",
       "      <td>8.0</td>\n",
       "      <td>10.0</td>\n",
       "      <td>10.0</td>\n",
       "      <td>9.0</td>\n",
       "    </tr>\n",
       "    <tr>\n",
       "      <th>2022-01-07</th>\n",
       "      <td>8.0</td>\n",
       "      <td>7.0</td>\n",
       "      <td>5.0</td>\n",
       "      <td>7.0</td>\n",
       "    </tr>\n",
       "    <tr>\n",
       "      <th>...</th>\n",
       "      <th>...</th>\n",
       "      <td>...</td>\n",
       "      <td>...</td>\n",
       "      <td>...</td>\n",
       "      <td>...</td>\n",
       "    </tr>\n",
       "    <tr>\n",
       "      <th rowspan=\"5\" valign=\"top\">Player 9</th>\n",
       "      <th>2022-07-25</th>\n",
       "      <td>7.0</td>\n",
       "      <td>9.0</td>\n",
       "      <td>7.0</td>\n",
       "      <td>8.0</td>\n",
       "    </tr>\n",
       "    <tr>\n",
       "      <th>2022-07-26</th>\n",
       "      <td>7.0</td>\n",
       "      <td>8.0</td>\n",
       "      <td>7.0</td>\n",
       "      <td>7.0</td>\n",
       "    </tr>\n",
       "    <tr>\n",
       "      <th>2022-07-27</th>\n",
       "      <td>7.0</td>\n",
       "      <td>4.0</td>\n",
       "      <td>5.0</td>\n",
       "      <td>5.0</td>\n",
       "    </tr>\n",
       "    <tr>\n",
       "      <th>2022-07-28</th>\n",
       "      <td>10.0</td>\n",
       "      <td>4.0</td>\n",
       "      <td>8.0</td>\n",
       "      <td>7.0</td>\n",
       "    </tr>\n",
       "    <tr>\n",
       "      <th>2022-07-29</th>\n",
       "      <td>10.0</td>\n",
       "      <td>4.0</td>\n",
       "      <td>10.0</td>\n",
       "      <td>8.0</td>\n",
       "    </tr>\n",
       "  </tbody>\n",
       "</table>\n",
       "<p>2250 rows × 4 columns</p>\n",
       "</div>"
      ],
      "text/plain": [
       "session              Agility  Cardio  Strength Building  avg\n",
       "player   date                                               \n",
       "Player 1 2022-01-03      7.0     3.0               10.0  7.0\n",
       "         2022-01-04      8.0    10.0               10.0  9.0\n",
       "         2022-01-05      8.0    10.0                5.0  8.0\n",
       "         2022-01-06      8.0    10.0               10.0  9.0\n",
       "         2022-01-07      8.0     7.0                5.0  7.0\n",
       "...                      ...     ...                ...  ...\n",
       "Player 9 2022-07-25      7.0     9.0                7.0  8.0\n",
       "         2022-07-26      7.0     8.0                7.0  7.0\n",
       "         2022-07-27      7.0     4.0                5.0  5.0\n",
       "         2022-07-28     10.0     4.0                8.0  7.0\n",
       "         2022-07-29     10.0     4.0               10.0  8.0\n",
       "\n",
       "[2250 rows x 4 columns]"
      ]
     },
     "execution_count": 7,
     "metadata": {},
     "output_type": "execute_result"
    }
   ],
   "source": [
    "# Transport data and average\n",
    "df2 = df.pivot_table(columns=['session'],index=['player','date'],values='score',aggfunc='sum')\n",
    "df2['avg'] = round(df2.mean(axis=1))\n",
    "df2"
   ]
  },
  {
   "cell_type": "code",
   "execution_count": 8,
   "metadata": {},
   "outputs": [],
   "source": [
    "# Save file\n",
    "df.to_csv('week 42 output.csv')\n",
    "df2.to_csv('week 42 output1.csv')\n",
    "\n",
    "os.startfile('week 42 output.csv')\n",
    "os.startfile('week 42 output1.csv')"
   ]
  }
 ],
 "metadata": {
  "kernelspec": {
   "display_name": "Python 3.10.8 64-bit",
   "language": "python",
   "name": "python3"
  },
  "language_info": {
   "codemirror_mode": {
    "name": "ipython",
    "version": 3
   },
   "file_extension": ".py",
   "mimetype": "text/x-python",
   "name": "python",
   "nbconvert_exporter": "python",
   "pygments_lexer": "ipython3",
   "version": "3.10.8"
  },
  "orig_nbformat": 4,
  "vscode": {
   "interpreter": {
    "hash": "f7211e61ff6622f38397897284041f71d6508327139f4247201e2b6bc72bf231"
   }
  }
 },
 "nbformat": 4,
 "nbformat_minor": 2
}
