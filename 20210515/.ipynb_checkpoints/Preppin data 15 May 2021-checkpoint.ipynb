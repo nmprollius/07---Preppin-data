{
 "cells": [
  {
   "cell_type": "code",
   "execution_count": 1,
   "metadata": {},
   "outputs": [],
   "source": [
    "import pandas as pd\n",
    "import os\n",
    "import datetime as dt"
   ]
  },
  {
   "cell_type": "code",
   "execution_count": 2,
   "metadata": {},
   "outputs": [],
   "source": [
    "schedule = pd.read_excel('PD 2021 Week 19 Input.xlsx',sheet_name='Project Schedule Updates')\n",
    "project = pd.read_excel('PD 2021 Week 19 Input.xlsx',sheet_name='Project Lookup Table')\n",
    "subproject = pd.read_excel('PD 2021 Week 19 Input.xlsx',sheet_name='Sub-Project Lookup Table')\n",
    "task = pd.read_excel('PD 2021 Week 19 Input.xlsx',sheet_name='Task Lookup Table')\n",
    "owner = pd.read_excel('PD 2021 Week 19 Input.xlsx',sheet_name='Owner Lookup Table')"
   ]
  },
  {
   "cell_type": "code",
   "execution_count": 3,
   "metadata": {},
   "outputs": [],
   "source": [
    "for i in [schedule,project,subproject,task,owner]:\n",
    "    i.columns = [x.lower().strip().replace(' ','_') for x in i.columns]"
   ]
  },
  {
   "cell_type": "code",
   "execution_count": 4,
   "metadata": {},
   "outputs": [],
   "source": [
    "schedule['week'] = schedule['week'].apply(lambda x : 'Week ' + str(x))"
   ]
  },
  {
   "cell_type": "code",
   "execution_count": 5,
   "metadata": {},
   "outputs": [],
   "source": [
    "proj = schedule['commentary'].str[1:].str.split('[',expand=True)"
   ]
  },
  {
   "cell_type": "code",
   "execution_count": 6,
   "metadata": {},
   "outputs": [],
   "source": [
    "schedulenew = schedule.merge(proj,how='left',right_index=True,left_index=True).melt(id_vars=['week','commentary'])[['week','variable','value']]"
   ]
  },
  {
   "cell_type": "code",
   "execution_count": 7,
   "metadata": {},
   "outputs": [],
   "source": [
    "schedulenew=schedulenew[~schedulenew['value'].isna()].reset_index(drop=True).copy()"
   ]
  },
  {
   "cell_type": "code",
   "execution_count": 8,
   "metadata": {},
   "outputs": [],
   "source": [
    "proj = schedulenew['value'].str.split(']',expand=True)"
   ]
  },
  {
   "cell_type": "code",
   "execution_count": 9,
   "metadata": {},
   "outputs": [],
   "source": [
    "schedulenew=schedulenew.merge(proj,right_index=True,left_index=True).copy()"
   ]
  },
  {
   "cell_type": "code",
   "execution_count": 10,
   "metadata": {},
   "outputs": [],
   "source": [
    "schedulenew=schedulenew.drop(columns=['variable','value']).copy()"
   ]
  },
  {
   "cell_type": "code",
   "execution_count": 11,
   "metadata": {},
   "outputs": [],
   "source": [
    "schedulenew.rename(columns={0:'proj',1:'comment'},inplace=True)"
   ]
  },
  {
   "cell_type": "code",
   "execution_count": 12,
   "metadata": {},
   "outputs": [],
   "source": [
    "proj = schedulenew['proj'].str.split('/',expand=True)"
   ]
  },
  {
   "cell_type": "code",
   "execution_count": 13,
   "metadata": {},
   "outputs": [],
   "source": [
    "proj[['sub','task'] ]= proj[1].str.split('-',expand=True)"
   ]
  },
  {
   "cell_type": "code",
   "execution_count": 14,
   "metadata": {},
   "outputs": [],
   "source": [
    "proj.drop(columns=1,inplace=True)\n"
   ]
  },
  {
   "cell_type": "code",
   "execution_count": 15,
   "metadata": {},
   "outputs": [],
   "source": [
    "proj.rename(columns={0:'proj_code'},inplace=True)"
   ]
  },
  {
   "cell_type": "code",
   "execution_count": 16,
   "metadata": {},
   "outputs": [],
   "source": [
    "schedulenew=schedulenew.merge(proj,right_index=True,left_index=True)[['week', 'proj_code', 'sub', 'task','comment']].copy()"
   ]
  },
  {
   "cell_type": "code",
   "execution_count": 17,
   "metadata": {},
   "outputs": [],
   "source": [
    "schedulenew[['description','name']] = schedulenew['comment'].str.rsplit('.',2,expand=True)[[0,1]]"
   ]
  },
  {
   "cell_type": "code",
   "execution_count": 18,
   "metadata": {},
   "outputs": [],
   "source": [
    "schedulenew.drop(columns='comment',inplace=True)"
   ]
  },
  {
   "cell_type": "code",
   "execution_count": 19,
   "metadata": {},
   "outputs": [],
   "source": [
    "schedulenew=schedulenew.merge(project,left_on='proj_code',right_on='project_code').copy()"
   ]
  },
  {
   "cell_type": "code",
   "execution_count": 20,
   "metadata": {},
   "outputs": [],
   "source": [
    "schedulenew['sub']=schedulenew['sub'].str.lower()"
   ]
  },
  {
   "cell_type": "code",
   "execution_count": 21,
   "metadata": {},
   "outputs": [],
   "source": [
    "schedulenew['task']=schedulenew['task'].str.title()"
   ]
  },
  {
   "cell_type": "code",
   "execution_count": 22,
   "metadata": {},
   "outputs": [],
   "source": [
    "owner['abbreviation']=owner['abbreviation'].str.lower()\n",
    "schedulenew['name']=schedulenew['name'].str.strip()"
   ]
  },
  {
   "cell_type": "code",
   "execution_count": 23,
   "metadata": {},
   "outputs": [],
   "source": [
    "schedulenew=schedulenew.merge(subproject,left_on='sub',right_on='sub-project_code').merge(task,left_on='task',right_on='task_code').merge(owner,left_on='name',right_on='abbreviation')"
   ]
  },
  {
   "cell_type": "code",
   "execution_count": 24,
   "metadata": {},
   "outputs": [],
   "source": [
    "schedulenew=schedulenew[['week', 'description', 'project', 'sub-project',\n",
    "      'task_y', 'name_y']].copy()"
   ]
  },
  {
   "cell_type": "code",
   "execution_count": 25,
   "metadata": {},
   "outputs": [],
   "source": [
    "schedulenew=schedulenew[['week','project', 'sub-project','task_y', 'name_y','description']].copy()"
   ]
  },
  {
   "cell_type": "code",
   "execution_count": 26,
   "metadata": {},
   "outputs": [],
   "source": [
    "schedulenew.rename(columns={'task_y':'task','name_y':'name'},inplace=True)"
   ]
  },
  {
   "cell_type": "code",
   "execution_count": 27,
   "metadata": {},
   "outputs": [],
   "source": [
    "schedulenew['splits']=schedulenew['description'].str.split()"
   ]
  },
  {
   "cell_type": "code",
   "execution_count": 28,
   "metadata": {},
   "outputs": [],
   "source": [
    "def getnum(mylist):\n",
    "    for i in mylist:\n",
    "        if i.isnumeric():\n",
    "            return i"
   ]
  },
  {
   "cell_type": "code",
   "execution_count": 29,
   "metadata": {},
   "outputs": [],
   "source": [
    "schedulenew['days_noted']=schedulenew['splits'].apply(getnum)"
   ]
  },
  {
   "cell_type": "code",
   "execution_count": 30,
   "metadata": {},
   "outputs": [],
   "source": [
    "del schedulenew['splits']"
   ]
  },
  {
   "cell_type": "code",
   "execution_count": 31,
   "metadata": {},
   "outputs": [],
   "source": [
    "schedulenew['days_noted']=schedulenew['days_noted'].fillna(\"\")"
   ]
  },
  {
   "cell_type": "code",
   "execution_count": 32,
   "metadata": {},
   "outputs": [
    {
     "data": {
      "text/html": [
       "<div>\n",
       "<style scoped>\n",
       "    .dataframe tbody tr th:only-of-type {\n",
       "        vertical-align: middle;\n",
       "    }\n",
       "\n",
       "    .dataframe tbody tr th {\n",
       "        vertical-align: top;\n",
       "    }\n",
       "\n",
       "    .dataframe thead th {\n",
       "        text-align: right;\n",
       "    }\n",
       "</style>\n",
       "<table border=\"1\" class=\"dataframe\">\n",
       "  <thead>\n",
       "    <tr style=\"text-align: right;\">\n",
       "      <th></th>\n",
       "      <th>week</th>\n",
       "      <th>project</th>\n",
       "      <th>sub-project</th>\n",
       "      <th>task</th>\n",
       "      <th>name</th>\n",
       "      <th>description</th>\n",
       "      <th>days_noted</th>\n",
       "    </tr>\n",
       "  </thead>\n",
       "  <tbody>\n",
       "    <tr>\n",
       "      <th>0</th>\n",
       "      <td>Week 16</td>\n",
       "      <td>New Loyalty Scheme</td>\n",
       "      <td>Operations</td>\n",
       "      <td>Scope</td>\n",
       "      <td>Jenny</td>\n",
       "      <td>Delivered scope for the project. Resourcing fine</td>\n",
       "      <td></td>\n",
       "    </tr>\n",
       "    <tr>\n",
       "      <th>1</th>\n",
       "      <td>Week 18</td>\n",
       "      <td>New Trolley Inventory</td>\n",
       "      <td>Operations</td>\n",
       "      <td>Scope</td>\n",
       "      <td>Jenny</td>\n",
       "      <td>New project scope delivered. Tough to juggle ...</td>\n",
       "      <td>4</td>\n",
       "    </tr>\n",
       "    <tr>\n",
       "      <th>2</th>\n",
       "      <td>Week 17</td>\n",
       "      <td>New Loyalty Scheme</td>\n",
       "      <td>Operations</td>\n",
       "      <td>Build</td>\n",
       "      <td>Jenny</td>\n",
       "      <td>Build kickoff but long project</td>\n",
       "      <td></td>\n",
       "    </tr>\n",
       "    <tr>\n",
       "      <th>3</th>\n",
       "      <td>Week 19</td>\n",
       "      <td>New Trolley Inventory</td>\n",
       "      <td>Operations</td>\n",
       "      <td>Build</td>\n",
       "      <td>Jenny</td>\n",
       "      <td>Longer build than the easy marketing project ...</td>\n",
       "      <td>2</td>\n",
       "    </tr>\n",
       "    <tr>\n",
       "      <th>4</th>\n",
       "      <td>Week 18</td>\n",
       "      <td>New Loyalty Scheme</td>\n",
       "      <td>Operations</td>\n",
       "      <td>Deliver</td>\n",
       "      <td>Jenny</td>\n",
       "      <td>Long delivery process has begun at least 10 days</td>\n",
       "      <td>10</td>\n",
       "    </tr>\n",
       "    <tr>\n",
       "      <th>5</th>\n",
       "      <td>Week 17</td>\n",
       "      <td>Spring Sale</td>\n",
       "      <td>Operations</td>\n",
       "      <td>Scope</td>\n",
       "      <td>Jonathan</td>\n",
       "      <td>Scope complete but weekend delivery</td>\n",
       "      <td></td>\n",
       "    </tr>\n",
       "    <tr>\n",
       "      <th>6</th>\n",
       "      <td>Week 18</td>\n",
       "      <td>Spring Sale</td>\n",
       "      <td>Operations</td>\n",
       "      <td>Build</td>\n",
       "      <td>Jonathan</td>\n",
       "      <td>Complete and awaiting marketing delivery</td>\n",
       "      <td></td>\n",
       "    </tr>\n",
       "    <tr>\n",
       "      <th>7</th>\n",
       "      <td>Week 18</td>\n",
       "      <td>Spring Sale</td>\n",
       "      <td>Operations</td>\n",
       "      <td>Deliver</td>\n",
       "      <td>Jonathan</td>\n",
       "      <td>Delivery process started early</td>\n",
       "      <td></td>\n",
       "    </tr>\n",
       "    <tr>\n",
       "      <th>8</th>\n",
       "      <td>Week 17</td>\n",
       "      <td>New Loyalty Scheme</td>\n",
       "      <td>Marketing</td>\n",
       "      <td>Scope</td>\n",
       "      <td>Tom</td>\n",
       "      <td>Scope completed</td>\n",
       "      <td></td>\n",
       "    </tr>\n",
       "    <tr>\n",
       "      <th>9</th>\n",
       "      <td>Week 18</td>\n",
       "      <td>New Trolley Inventory</td>\n",
       "      <td>Marketing</td>\n",
       "      <td>Scope</td>\n",
       "      <td>Tom</td>\n",
       "      <td>Need to balance resourcing carefully with two...</td>\n",
       "      <td></td>\n",
       "    </tr>\n",
       "    <tr>\n",
       "      <th>10</th>\n",
       "      <td>Week 17</td>\n",
       "      <td>New Loyalty Scheme</td>\n",
       "      <td>Marketing</td>\n",
       "      <td>Build</td>\n",
       "      <td>Tom</td>\n",
       "      <td>Marketing Build complete</td>\n",
       "      <td></td>\n",
       "    </tr>\n",
       "    <tr>\n",
       "      <th>11</th>\n",
       "      <td>Week 19</td>\n",
       "      <td>New Trolley Inventory</td>\n",
       "      <td>Marketing</td>\n",
       "      <td>Build</td>\n",
       "      <td>Tom</td>\n",
       "      <td>Project build commences. Will be completed in...</td>\n",
       "      <td>5</td>\n",
       "    </tr>\n",
       "    <tr>\n",
       "      <th>12</th>\n",
       "      <td>Week 18</td>\n",
       "      <td>New Loyalty Scheme</td>\n",
       "      <td>Marketing</td>\n",
       "      <td>Deliver</td>\n",
       "      <td>Tom</td>\n",
       "      <td>Similar to the operations team. 8 days effort...</td>\n",
       "      <td>8</td>\n",
       "    </tr>\n",
       "    <tr>\n",
       "      <th>13</th>\n",
       "      <td>Week 20</td>\n",
       "      <td>New Trolley Inventory</td>\n",
       "      <td>Marketing</td>\n",
       "      <td>Deliver</td>\n",
       "      <td>Tom</td>\n",
       "      <td>Delivery next week around 8 days</td>\n",
       "      <td>8</td>\n",
       "    </tr>\n",
       "    <tr>\n",
       "      <th>14</th>\n",
       "      <td>Week 17</td>\n",
       "      <td>Spring Sale</td>\n",
       "      <td>Marketing</td>\n",
       "      <td>Scope</td>\n",
       "      <td>Carl</td>\n",
       "      <td>Completed but late in the week due (3 days ne...</td>\n",
       "      <td></td>\n",
       "    </tr>\n",
       "    <tr>\n",
       "      <th>15</th>\n",
       "      <td>Week 18</td>\n",
       "      <td>Spring Sale</td>\n",
       "      <td>Marketing</td>\n",
       "      <td>Build</td>\n",
       "      <td>Carl</td>\n",
       "      <td>Build is longer than expected with delay due ...</td>\n",
       "      <td>5</td>\n",
       "    </tr>\n",
       "    <tr>\n",
       "      <th>16</th>\n",
       "      <td>Week 19</td>\n",
       "      <td>Spring Sale</td>\n",
       "      <td>Marketing</td>\n",
       "      <td>Deliver</td>\n",
       "      <td>Carl</td>\n",
       "      <td>Deliver delayed to next week as I'm off sick</td>\n",
       "      <td></td>\n",
       "    </tr>\n",
       "  </tbody>\n",
       "</table>\n",
       "</div>"
      ],
      "text/plain": [
       "       week                project sub-project     task      name  \\\n",
       "0   Week 16     New Loyalty Scheme  Operations    Scope     Jenny   \n",
       "1   Week 18  New Trolley Inventory  Operations    Scope     Jenny   \n",
       "2   Week 17     New Loyalty Scheme  Operations    Build     Jenny   \n",
       "3   Week 19  New Trolley Inventory  Operations    Build     Jenny   \n",
       "4   Week 18     New Loyalty Scheme  Operations  Deliver     Jenny   \n",
       "5   Week 17            Spring Sale  Operations    Scope  Jonathan   \n",
       "6   Week 18            Spring Sale  Operations    Build  Jonathan   \n",
       "7   Week 18            Spring Sale  Operations  Deliver  Jonathan   \n",
       "8   Week 17     New Loyalty Scheme   Marketing    Scope       Tom   \n",
       "9   Week 18  New Trolley Inventory   Marketing    Scope       Tom   \n",
       "10  Week 17     New Loyalty Scheme   Marketing    Build       Tom   \n",
       "11  Week 19  New Trolley Inventory   Marketing    Build       Tom   \n",
       "12  Week 18     New Loyalty Scheme   Marketing  Deliver       Tom   \n",
       "13  Week 20  New Trolley Inventory   Marketing  Deliver       Tom   \n",
       "14  Week 17            Spring Sale   Marketing    Scope      Carl   \n",
       "15  Week 18            Spring Sale   Marketing    Build      Carl   \n",
       "16  Week 19            Spring Sale   Marketing  Deliver      Carl   \n",
       "\n",
       "                                          description days_noted  \n",
       "0    Delivered scope for the project. Resourcing fine             \n",
       "1    New project scope delivered. Tough to juggle ...          4  \n",
       "2                      Build kickoff but long project             \n",
       "3    Longer build than the easy marketing project ...          2  \n",
       "4    Long delivery process has begun at least 10 days         10  \n",
       "5                 Scope complete but weekend delivery             \n",
       "6            Complete and awaiting marketing delivery             \n",
       "7                      Delivery process started early             \n",
       "8                                     Scope completed             \n",
       "9    Need to balance resourcing carefully with two...             \n",
       "10                           Marketing Build complete             \n",
       "11   Project build commences. Will be completed in...          5  \n",
       "12   Similar to the operations team. 8 days effort...          8  \n",
       "13                   Delivery next week around 8 days          8  \n",
       "14   Completed but late in the week due (3 days ne...             \n",
       "15   Build is longer than expected with delay due ...          5  \n",
       "16       Deliver delayed to next week as I'm off sick             "
      ]
     },
     "execution_count": 32,
     "metadata": {},
     "output_type": "execute_result"
    }
   ],
   "source": [
    "schedulenew"
   ]
  },
  {
   "cell_type": "code",
   "execution_count": null,
   "metadata": {},
   "outputs": [],
   "source": [
    "\n"
   ]
  },
  {
   "cell_type": "code",
   "execution_count": null,
   "metadata": {},
   "outputs": [],
   "source": []
  }
 ],
 "metadata": {
  "kernelspec": {
   "display_name": "Python 3",
   "language": "python",
   "name": "python3"
  },
  "language_info": {
   "codemirror_mode": {
    "name": "ipython",
    "version": 3
   },
   "file_extension": ".py",
   "mimetype": "text/x-python",
   "name": "python",
   "nbconvert_exporter": "python",
   "pygments_lexer": "ipython3",
   "version": "3.7.6"
  }
 },
 "nbformat": 4,
 "nbformat_minor": 4
}
