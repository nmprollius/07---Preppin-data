{
 "cells": [
  {
   "cell_type": "markdown",
   "metadata": {},
   "source": [
    "# Requirements\n",
    " - Input the data\n",
    " - Parse out the data in the Download Data field so that we have one field containing the Movie title and one field containing information about whether of not the movie passes the Bechdel Test\n",
    " - Before we deal with the majority of the html codes, I would recommend replacing '&amp;' instances with '&' because of this film on the website incorrectly converting the html code \n",
    " - Extract the html codes from the Movie titles\n",
    " - These will always start with a '&' and end with a ';'\n",
    " - The maximum number of html codes in a Movie title is 5\n",
    " - Replace the html codes with their correct characters\n",
    " - Ensure that codes which match up to spaces have a space in their character cell rather than a null value\n",
    " - Parse out the information for whether a film passes or fails the Bechdel test as well as the detailed reasoning behind this\n",
    " - Rank the Bechdel Test Categorisations from 1 to 5, 1 being the best result, 5 being the worst result\n",
    " - Where a film has multiple categorisations, keep only the worse ranking, even if this means the movie moves from pass to fail\n",
    " - Output the data\n"
   ]
  },
  {
   "cell_type": "code",
   "execution_count": 1,
   "metadata": {},
   "outputs": [],
   "source": [
    "import os\n",
    "import pandas as pd"
   ]
  },
  {
   "cell_type": "markdown",
   "metadata": {},
   "source": [
    "### Input the data"
   ]
  },
  {
   "cell_type": "code",
   "execution_count": 2,
   "metadata": {},
   "outputs": [],
   "source": [
    "dfs = pd.read_excel('PD Bechdel Test.xlsx',sheet_name = None)\n"
   ]
  },
  {
   "cell_type": "code",
   "execution_count": 3,
   "metadata": {},
   "outputs": [
    {
     "data": {
      "text/plain": [
       "dict_keys(['Webscraping', 'html'])"
      ]
     },
     "execution_count": 3,
     "metadata": {},
     "output_type": "execute_result"
    }
   ],
   "source": [
    "dfs.keys()"
   ]
  },
  {
   "cell_type": "code",
   "execution_count": 4,
   "metadata": {},
   "outputs": [],
   "source": [
    "df_web = dfs['Webscraping']\n",
    "df_html = dfs['html']"
   ]
  },
  {
   "cell_type": "code",
   "execution_count": 5,
   "metadata": {},
   "outputs": [
    {
     "data": {
      "text/html": [
       "<div>\n",
       "<style scoped>\n",
       "    .dataframe tbody tr th:only-of-type {\n",
       "        vertical-align: middle;\n",
       "    }\n",
       "\n",
       "    .dataframe tbody tr th {\n",
       "        vertical-align: top;\n",
       "    }\n",
       "\n",
       "    .dataframe thead th {\n",
       "        text-align: right;\n",
       "    }\n",
       "</style>\n",
       "<table border=\"1\" class=\"dataframe\">\n",
       "  <thead>\n",
       "    <tr style=\"text-align: right;\">\n",
       "      <th></th>\n",
       "      <th>DownloadData</th>\n",
       "      <th>Year</th>\n",
       "    </tr>\n",
       "  </thead>\n",
       "  <tbody>\n",
       "    <tr>\n",
       "      <th>0</th>\n",
       "      <td>&lt;a href=\"http://us.imdb.com/title/tt3155794/\"&gt;...</td>\n",
       "      <td>1874</td>\n",
       "    </tr>\n",
       "    <tr>\n",
       "      <th>1</th>\n",
       "      <td>&lt;a href=\"http://us.imdb.com/title/tt14495706/\"...</td>\n",
       "      <td>1877</td>\n",
       "    </tr>\n",
       "    <tr>\n",
       "      <th>2</th>\n",
       "      <td>&lt;a href=\"http://us.imdb.com/title/tt12592084/\"...</td>\n",
       "      <td>1878</td>\n",
       "    </tr>\n",
       "    <tr>\n",
       "      <th>3</th>\n",
       "      <td>&lt;a href=\"http://us.imdb.com/title/tt2221420/\"&gt;...</td>\n",
       "      <td>1878</td>\n",
       "    </tr>\n",
       "    <tr>\n",
       "      <th>4</th>\n",
       "      <td>&lt;a href=\"http://us.imdb.com/title/tt7816420/\"&gt;...</td>\n",
       "      <td>1881</td>\n",
       "    </tr>\n",
       "    <tr>\n",
       "      <th>...</th>\n",
       "      <td>...</td>\n",
       "      <td>...</td>\n",
       "    </tr>\n",
       "    <tr>\n",
       "      <th>9412</th>\n",
       "      <td>&lt;a href=\"http://us.imdb.com/title/tt3581652/\"&gt;...</td>\n",
       "      <td>2021</td>\n",
       "    </tr>\n",
       "    <tr>\n",
       "      <th>9413</th>\n",
       "      <td>&lt;a href=\"http://us.imdb.com/title/tt8114980/\"&gt;...</td>\n",
       "      <td>2021</td>\n",
       "    </tr>\n",
       "    <tr>\n",
       "      <th>9414</th>\n",
       "      <td>&lt;a href=\"http://us.imdb.com/title/tt0499097/\"&gt;...</td>\n",
       "      <td>2021</td>\n",
       "    </tr>\n",
       "    <tr>\n",
       "      <th>9415</th>\n",
       "      <td>&lt;a href=\"http://us.imdb.com/title/tt12361974/\"...</td>\n",
       "      <td>2021</td>\n",
       "    </tr>\n",
       "    <tr>\n",
       "      <th>9416</th>\n",
       "      <td>&lt;a href=\"http://us.imdb.com/title/tt8356942/\"&gt;...</td>\n",
       "      <td>2022</td>\n",
       "    </tr>\n",
       "  </tbody>\n",
       "</table>\n",
       "<p>9417 rows × 2 columns</p>\n",
       "</div>"
      ],
      "text/plain": [
       "                                           DownloadData  Year\n",
       "0     <a href=\"http://us.imdb.com/title/tt3155794/\">...  1874\n",
       "1     <a href=\"http://us.imdb.com/title/tt14495706/\"...  1877\n",
       "2     <a href=\"http://us.imdb.com/title/tt12592084/\"...  1878\n",
       "3     <a href=\"http://us.imdb.com/title/tt2221420/\">...  1878\n",
       "4     <a href=\"http://us.imdb.com/title/tt7816420/\">...  1881\n",
       "...                                                 ...   ...\n",
       "9412  <a href=\"http://us.imdb.com/title/tt3581652/\">...  2021\n",
       "9413  <a href=\"http://us.imdb.com/title/tt8114980/\">...  2021\n",
       "9414  <a href=\"http://us.imdb.com/title/tt0499097/\">...  2021\n",
       "9415  <a href=\"http://us.imdb.com/title/tt12361974/\"...  2021\n",
       "9416  <a href=\"http://us.imdb.com/title/tt8356942/\">...  2022\n",
       "\n",
       "[9417 rows x 2 columns]"
      ]
     },
     "execution_count": 5,
     "metadata": {},
     "output_type": "execute_result"
    }
   ],
   "source": [
    "df_web"
   ]
  },
  {
   "cell_type": "code",
   "execution_count": 6,
   "metadata": {},
   "outputs": [
    {
     "data": {
      "text/html": [
       "<div>\n",
       "<style scoped>\n",
       "    .dataframe tbody tr th:only-of-type {\n",
       "        vertical-align: middle;\n",
       "    }\n",
       "\n",
       "    .dataframe tbody tr th {\n",
       "        vertical-align: top;\n",
       "    }\n",
       "\n",
       "    .dataframe thead th {\n",
       "        text-align: right;\n",
       "    }\n",
       "</style>\n",
       "<table border=\"1\" class=\"dataframe\">\n",
       "  <thead>\n",
       "    <tr style=\"text-align: right;\">\n",
       "      <th></th>\n",
       "      <th>Char</th>\n",
       "      <th>Numeric</th>\n",
       "      <th>Named</th>\n",
       "      <th>Description</th>\n",
       "    </tr>\n",
       "  </thead>\n",
       "  <tbody>\n",
       "    <tr>\n",
       "      <th>0</th>\n",
       "      <td>NaN</td>\n",
       "      <td>code</td>\n",
       "      <td>code</td>\n",
       "      <td>NaN</td>\n",
       "    </tr>\n",
       "    <tr>\n",
       "      <th>1</th>\n",
       "      <td>NaN</td>\n",
       "      <td>&amp;#32;</td>\n",
       "      <td>NaN</td>\n",
       "      <td>space</td>\n",
       "    </tr>\n",
       "    <tr>\n",
       "      <th>2</th>\n",
       "      <td>!</td>\n",
       "      <td>&amp;#33;</td>\n",
       "      <td>NaN</td>\n",
       "      <td>exclamation mark</td>\n",
       "    </tr>\n",
       "    <tr>\n",
       "      <th>3</th>\n",
       "      <td>\"</td>\n",
       "      <td>&amp;#34;</td>\n",
       "      <td>&amp;quot;</td>\n",
       "      <td>double quote</td>\n",
       "    </tr>\n",
       "    <tr>\n",
       "      <th>4</th>\n",
       "      <td>#</td>\n",
       "      <td>&amp;#35;</td>\n",
       "      <td>NaN</td>\n",
       "      <td>number</td>\n",
       "    </tr>\n",
       "    <tr>\n",
       "      <th>...</th>\n",
       "      <td>...</td>\n",
       "      <td>...</td>\n",
       "      <td>...</td>\n",
       "      <td>...</td>\n",
       "    </tr>\n",
       "    <tr>\n",
       "      <th>168</th>\n",
       "      <td>–</td>\n",
       "      <td>&amp;#150;</td>\n",
       "      <td>NaN</td>\n",
       "      <td>en dash</td>\n",
       "    </tr>\n",
       "    <tr>\n",
       "      <th>169</th>\n",
       "      <td>'</td>\n",
       "      <td>&amp;#39;</td>\n",
       "      <td>NaN</td>\n",
       "      <td>apostrophe</td>\n",
       "    </tr>\n",
       "    <tr>\n",
       "      <th>170</th>\n",
       "      <td>ı</td>\n",
       "      <td>&amp;#305;</td>\n",
       "      <td>&amp;Jcirc;</td>\n",
       "      <td>latin small letter dotless i</td>\n",
       "    </tr>\n",
       "    <tr>\n",
       "      <th>171</th>\n",
       "      <td>ź</td>\n",
       "      <td>&amp;#378;</td>\n",
       "      <td>&amp;zacute;</td>\n",
       "      <td>LATIN SMALL LETTER Z WITH ACUTE</td>\n",
       "    </tr>\n",
       "    <tr>\n",
       "      <th>172</th>\n",
       "      <td>ō</td>\n",
       "      <td>&amp;#333;</td>\n",
       "      <td>NaN</td>\n",
       "      <td>Latin Small Letter O With Macron</td>\n",
       "    </tr>\n",
       "  </tbody>\n",
       "</table>\n",
       "<p>173 rows × 4 columns</p>\n",
       "</div>"
      ],
      "text/plain": [
       "    Char Numeric     Named                       Description\n",
       "0    NaN    code      code                               NaN\n",
       "1    NaN   &#32;       NaN                             space\n",
       "2      !   &#33;       NaN                  exclamation mark\n",
       "3      \"   &#34;    &quot;                      double quote\n",
       "4      #   &#35;       NaN                            number\n",
       "..   ...     ...       ...                               ...\n",
       "168    –  &#150;       NaN                           en dash\n",
       "169    '   &#39;       NaN                        apostrophe\n",
       "170    ı  &#305;   &Jcirc;      latin small letter dotless i\n",
       "171    ź  &#378;  &zacute;   LATIN SMALL LETTER Z WITH ACUTE\n",
       "172    ō  &#333;       NaN  Latin Small Letter O With Macron\n",
       "\n",
       "[173 rows x 4 columns]"
      ]
     },
     "execution_count": 6,
     "metadata": {},
     "output_type": "execute_result"
    }
   ],
   "source": [
    "df_html"
   ]
  },
  {
   "cell_type": "code",
   "execution_count": null,
   "metadata": {},
   "outputs": [],
   "source": []
  },
  {
   "cell_type": "code",
   "execution_count": null,
   "metadata": {},
   "outputs": [],
   "source": []
  },
  {
   "cell_type": "markdown",
   "metadata": {},
   "source": [
    "### Parse out the data in the Download Data field so that we have one field containing the Movie title and one field containing information about whether of not the movie passes the Bechdel Test"
   ]
  },
  {
   "cell_type": "markdown",
   "metadata": {},
   "source": [
    "### Before we deal with the majority of the html codes, I would recommend replacing '&amp;' instances with '&' because of this film on the website incorrectly converting the html code "
   ]
  },
  {
   "cell_type": "code",
   "execution_count": 7,
   "metadata": {},
   "outputs": [
    {
     "data": {
      "text/html": [
       "<div>\n",
       "<style scoped>\n",
       "    .dataframe tbody tr th:only-of-type {\n",
       "        vertical-align: middle;\n",
       "    }\n",
       "\n",
       "    .dataframe tbody tr th {\n",
       "        vertical-align: top;\n",
       "    }\n",
       "\n",
       "    .dataframe thead th {\n",
       "        text-align: right;\n",
       "    }\n",
       "</style>\n",
       "<table border=\"1\" class=\"dataframe\">\n",
       "  <thead>\n",
       "    <tr style=\"text-align: right;\">\n",
       "      <th></th>\n",
       "      <th>Char</th>\n",
       "      <th>Numeric</th>\n",
       "      <th>Named</th>\n",
       "      <th>Description</th>\n",
       "    </tr>\n",
       "  </thead>\n",
       "  <tbody>\n",
       "    <tr>\n",
       "      <th>7</th>\n",
       "      <td>&amp;</td>\n",
       "      <td>&amp;#38;</td>\n",
       "      <td>&amp;amp;</td>\n",
       "      <td>ampersand</td>\n",
       "    </tr>\n",
       "  </tbody>\n",
       "</table>\n",
       "</div>"
      ],
      "text/plain": [
       "  Char Numeric  Named Description\n",
       "7    &   &#38;  &amp;   ampersand"
      ]
     },
     "execution_count": 7,
     "metadata": {},
     "output_type": "execute_result"
    }
   ],
   "source": [
    "df_html[df_html['Char']=='&']"
   ]
  },
  {
   "cell_type": "code",
   "execution_count": 8,
   "metadata": {},
   "outputs": [],
   "source": [
    "df_web['DownloadData'] = df_web['DownloadData'].str.replace('&amp','&')"
   ]
  },
  {
   "cell_type": "code",
   "execution_count": null,
   "metadata": {},
   "outputs": [],
   "source": []
  },
  {
   "cell_type": "markdown",
   "metadata": {},
   "source": [
    " - Extract the html codes from the Movie titles\n",
    " - These will always start with a '&' and end with a ';'"
   ]
  },
  {
   "cell_type": "code",
   "execution_count": 9,
   "metadata": {},
   "outputs": [
    {
     "data": {
      "text/html": [
       "<div>\n",
       "<style scoped>\n",
       "    .dataframe tbody tr th:only-of-type {\n",
       "        vertical-align: middle;\n",
       "    }\n",
       "\n",
       "    .dataframe tbody tr th {\n",
       "        vertical-align: top;\n",
       "    }\n",
       "\n",
       "    .dataframe thead th {\n",
       "        text-align: right;\n",
       "    }\n",
       "</style>\n",
       "<table border=\"1\" class=\"dataframe\">\n",
       "  <thead>\n",
       "    <tr style=\"text-align: right;\">\n",
       "      <th></th>\n",
       "      <th>DownloadData</th>\n",
       "      <th>Year</th>\n",
       "      <th>test</th>\n",
       "      <th>movie</th>\n",
       "    </tr>\n",
       "  </thead>\n",
       "  <tbody>\n",
       "    <tr>\n",
       "      <th>0</th>\n",
       "      <td>&lt;a href=\"http://us.imdb.com/title/tt3155794/\"&gt;...</td>\n",
       "      <td>1874</td>\n",
       "      <td>\"http://us.imdb.com/title/tt3155794/\"&gt;&lt;img src...</td>\n",
       "      <td>\"/view/9602/passage_de_venus/\"&gt;Passage de Venu...</td>\n",
       "    </tr>\n",
       "    <tr>\n",
       "      <th>1</th>\n",
       "      <td>&lt;a href=\"http://us.imdb.com/title/tt14495706/\"...</td>\n",
       "      <td>1877</td>\n",
       "      <td>\"http://us.imdb.com/title/tt14495706/\"&gt;&lt;img sr...</td>\n",
       "      <td>\"/view/9804/la_rosace_magique/\"&gt;La Rosace Magi...</td>\n",
       "    </tr>\n",
       "    <tr>\n",
       "      <th>2</th>\n",
       "      <td>&lt;a href=\"http://us.imdb.com/title/tt12592084/\"...</td>\n",
       "      <td>1878</td>\n",
       "      <td>\"http://us.imdb.com/title/tt12592084/\"&gt;&lt;img sr...</td>\n",
       "      <td>\"/view/9806/le_singe_musicien/\"&gt;Le singe music...</td>\n",
       "    </tr>\n",
       "    <tr>\n",
       "      <th>3</th>\n",
       "      <td>&lt;a href=\"http://us.imdb.com/title/tt2221420/\"&gt;...</td>\n",
       "      <td>1878</td>\n",
       "      <td>\"http://us.imdb.com/title/tt2221420/\"&gt;&lt;img src...</td>\n",
       "      <td>\"/view/9603/sallie_gardner_at_a_gallop/\"&gt;Salli...</td>\n",
       "    </tr>\n",
       "    <tr>\n",
       "      <th>4</th>\n",
       "      <td>&lt;a href=\"http://us.imdb.com/title/tt7816420/\"&gt;...</td>\n",
       "      <td>1881</td>\n",
       "      <td>\"http://us.imdb.com/title/tt7816420/\"&gt;&lt;img src...</td>\n",
       "      <td>\"/view/9816/athlete_swinging_a_pick/\"&gt;Athlete ...</td>\n",
       "    </tr>\n",
       "    <tr>\n",
       "      <th>...</th>\n",
       "      <td>...</td>\n",
       "      <td>...</td>\n",
       "      <td>...</td>\n",
       "      <td>...</td>\n",
       "    </tr>\n",
       "    <tr>\n",
       "      <th>9412</th>\n",
       "      <td>&lt;a href=\"http://us.imdb.com/title/tt3581652/\"&gt;...</td>\n",
       "      <td>2021</td>\n",
       "      <td>\"http://us.imdb.com/title/tt3581652/\"&gt;&lt;img src...</td>\n",
       "      <td>\"/view/10157/west_side_story/\"&gt;West Side Story...</td>\n",
       "    </tr>\n",
       "    <tr>\n",
       "      <th>9413</th>\n",
       "      <td>&lt;a href=\"http://us.imdb.com/title/tt8114980/\"&gt;...</td>\n",
       "      <td>2021</td>\n",
       "      <td>\"http://us.imdb.com/title/tt8114980/\"&gt;&lt;img src...</td>\n",
       "      <td>\"/view/9604/willy&amp;#39;s_wonderland/\"&gt;Willy&amp;#39...</td>\n",
       "    </tr>\n",
       "    <tr>\n",
       "      <th>9414</th>\n",
       "      <td>&lt;a href=\"http://us.imdb.com/title/tt0499097/\"&gt;...</td>\n",
       "      <td>2021</td>\n",
       "      <td>\"http://us.imdb.com/title/tt0499097/\"&gt;&lt;img src...</td>\n",
       "      <td>\"/view/9830/without_remorse/\"&gt;Without Remorse&lt;...</td>\n",
       "    </tr>\n",
       "    <tr>\n",
       "      <th>9415</th>\n",
       "      <td>&lt;a href=\"http://us.imdb.com/title/tt12361974/\"...</td>\n",
       "      <td>2021</td>\n",
       "      <td>\"http://us.imdb.com/title/tt12361974/\"&gt;&lt;img sr...</td>\n",
       "      <td>\"/view/9575/zack_snyder&amp;#39;s_justice_league/\"...</td>\n",
       "    </tr>\n",
       "    <tr>\n",
       "      <th>9416</th>\n",
       "      <td>&lt;a href=\"http://us.imdb.com/title/tt8356942/\"&gt;...</td>\n",
       "      <td>2022</td>\n",
       "      <td>\"http://us.imdb.com/title/tt8356942/\"&gt;&lt;img src...</td>\n",
       "      <td>\"/view/10195/the_355/\"&gt;The 355&lt;/a&gt;   &lt;a</td>\n",
       "    </tr>\n",
       "  </tbody>\n",
       "</table>\n",
       "<p>9417 rows × 4 columns</p>\n",
       "</div>"
      ],
      "text/plain": [
       "                                           DownloadData  Year  \\\n",
       "0     <a href=\"http://us.imdb.com/title/tt3155794/\">...  1874   \n",
       "1     <a href=\"http://us.imdb.com/title/tt14495706/\"...  1877   \n",
       "2     <a href=\"http://us.imdb.com/title/tt12592084/\"...  1878   \n",
       "3     <a href=\"http://us.imdb.com/title/tt2221420/\">...  1878   \n",
       "4     <a href=\"http://us.imdb.com/title/tt7816420/\">...  1881   \n",
       "...                                                 ...   ...   \n",
       "9412  <a href=\"http://us.imdb.com/title/tt3581652/\">...  2021   \n",
       "9413  <a href=\"http://us.imdb.com/title/tt8114980/\">...  2021   \n",
       "9414  <a href=\"http://us.imdb.com/title/tt0499097/\">...  2021   \n",
       "9415  <a href=\"http://us.imdb.com/title/tt12361974/\"...  2021   \n",
       "9416  <a href=\"http://us.imdb.com/title/tt8356942/\">...  2022   \n",
       "\n",
       "                                                   test  \\\n",
       "0     \"http://us.imdb.com/title/tt3155794/\"><img src...   \n",
       "1     \"http://us.imdb.com/title/tt14495706/\"><img sr...   \n",
       "2     \"http://us.imdb.com/title/tt12592084/\"><img sr...   \n",
       "3     \"http://us.imdb.com/title/tt2221420/\"><img src...   \n",
       "4     \"http://us.imdb.com/title/tt7816420/\"><img src...   \n",
       "...                                                 ...   \n",
       "9412  \"http://us.imdb.com/title/tt3581652/\"><img src...   \n",
       "9413  \"http://us.imdb.com/title/tt8114980/\"><img src...   \n",
       "9414  \"http://us.imdb.com/title/tt0499097/\"><img src...   \n",
       "9415  \"http://us.imdb.com/title/tt12361974/\"><img sr...   \n",
       "9416  \"http://us.imdb.com/title/tt8356942/\"><img src...   \n",
       "\n",
       "                                                  movie  \n",
       "0     \"/view/9602/passage_de_venus/\">Passage de Venu...  \n",
       "1     \"/view/9804/la_rosace_magique/\">La Rosace Magi...  \n",
       "2     \"/view/9806/le_singe_musicien/\">Le singe music...  \n",
       "3     \"/view/9603/sallie_gardner_at_a_gallop/\">Salli...  \n",
       "4     \"/view/9816/athlete_swinging_a_pick/\">Athlete ...  \n",
       "...                                                 ...  \n",
       "9412  \"/view/10157/west_side_story/\">West Side Story...  \n",
       "9413  \"/view/9604/willy&#39;s_wonderland/\">Willy&#39...  \n",
       "9414  \"/view/9830/without_remorse/\">Without Remorse<...  \n",
       "9415  \"/view/9575/zack_snyder&#39;s_justice_league/\"...  \n",
       "9416            \"/view/10195/the_355/\">The 355</a>   <a  \n",
       "\n",
       "[9417 rows x 4 columns]"
      ]
     },
     "execution_count": 9,
     "metadata": {},
     "output_type": "execute_result"
    }
   ],
   "source": [
    "df_web[['test','movie']] = df_web['DownloadData'].str.split(' href=',expand = True).iloc[: , 1:3]\n",
    "df_web"
   ]
  },
  {
   "cell_type": "code",
   "execution_count": 23,
   "metadata": {},
   "outputs": [],
   "source": [
    "# Get test text\n",
    "def strip_test(i):\n",
    "    b = i.split('title=\"[')[1].split(']\">')[0].strip()\n",
    "    return b"
   ]
  },
  {
   "cell_type": "code",
   "execution_count": 24,
   "metadata": {},
   "outputs": [],
   "source": [
    "# Get Movie text\n",
    "def strip_movie(i):\n",
    "    b = i.split('/\">')[1].split('</a>')[0].strip()\n",
    "    return b"
   ]
  },
  {
   "cell_type": "code",
   "execution_count": 25,
   "metadata": {},
   "outputs": [],
   "source": [
    "# Clean HTML text\n",
    "from bs4 import BeautifulSoup\n",
    "\n",
    "def clean_html(i):\n",
    "    return BeautifulSoup(i).text"
   ]
  },
  {
   "cell_type": "code",
   "execution_count": 26,
   "metadata": {},
   "outputs": [],
   "source": [
    "# Get Ranking\n",
    "def strip_ranking(i):\n",
    "    b = i.split('alt=\"[[',)[1].split(']]\"')[0]\n",
    "    return b"
   ]
  },
  {
   "cell_type": "code",
   "execution_count": 27,
   "metadata": {},
   "outputs": [],
   "source": [
    "df_web['ranking'] = df_web['test'].apply(strip_ranking).astype('int')"
   ]
  },
  {
   "cell_type": "code",
   "execution_count": 29,
   "metadata": {},
   "outputs": [],
   "source": [
    "df_web['test'] = df_web['test'].apply(strip_test)"
   ]
  },
  {
   "cell_type": "code",
   "execution_count": 30,
   "metadata": {},
   "outputs": [],
   "source": [
    "df_web['movie'] = df_web['movie'].apply(strip_movie)"
   ]
  },
  {
   "cell_type": "code",
   "execution_count": 31,
   "metadata": {},
   "outputs": [],
   "source": [
    "# Clean HTML text\n",
    "df_web['movie'] = df_web['movie'].apply(clean_html)\n",
    "df_web['test'] = df_web['test'].apply(clean_html)"
   ]
  },
  {
   "cell_type": "code",
   "execution_count": null,
   "metadata": {},
   "outputs": [],
   "source": [
    ".to_excel('test.xlsx')\n",
    "os.startfile('test.xlsx')"
   ]
  },
  {
   "cell_type": "code",
   "execution_count": 34,
   "metadata": {},
   "outputs": [],
   "source": [
    "df_web.drop(columns='DownloadData',inplace=True)"
   ]
  },
  {
   "cell_type": "code",
   "execution_count": 38,
   "metadata": {},
   "outputs": [],
   "source": [
    "df_web[['movie','test','ranking','Year']].to_excel('Bechdal.xlsx')\n",
    "os.startfile('Bechdal.xlsx')"
   ]
  }
 ],
 "metadata": {
  "kernelspec": {
   "display_name": "Python 3",
   "language": "python",
   "name": "python3"
  },
  "language_info": {
   "codemirror_mode": {
    "name": "ipython",
    "version": 3
   },
   "file_extension": ".py",
   "mimetype": "text/x-python",
   "name": "python",
   "nbconvert_exporter": "python",
   "pygments_lexer": "ipython3",
   "version": "3.7.6"
  }
 },
 "nbformat": 4,
 "nbformat_minor": 4
}
