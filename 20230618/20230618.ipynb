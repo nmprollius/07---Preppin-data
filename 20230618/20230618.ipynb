{
 "cells": [
  {
   "cell_type": "markdown",
   "metadata": {},
   "source": [
    "This is our next challenge from one of the members of the 38th cohort of the Data School UK, and it's a follow on from last week!\n",
    "\n",
    "As part of your task to help the Prep School evaluate performance, you discovered that students in classes 9A and 9B seem to struggle the most. You are now tasked with creating a list of all students and the percentile range of their results for each subject. For students that are in classes 9A or 9B you also need to add a Flag column in the output."
   ]
  },
  {
   "attachments": {},
   "cell_type": "markdown",
   "metadata": {},
   "source": [
    "### Requirements\n",
    " - Input the data\n",
    " - For each subject, split the grades into 4 groups\n",
    " -  - Hint: use the tile function\n",
    " - Replace the tile number with the relevant value from the Tiles input\n",
    " - Join the data with the Student Information\n",
    " - Trim Class field\n",
    " - Create a flag column for students in class 9A or 9B, who are in the lower quartile for 2 or more subjects\n",
    " - Filter to just the students flagged in the previous step\n",
    " - Output the data\n"
   ]
  },
  {
   "cell_type": "code",
   "execution_count": 1,
   "metadata": {},
   "outputs": [],
   "source": [
    "import os\n",
    "import pandas as pd\n",
    "import numpy as np"
   ]
  },
  {
   "cell_type": "code",
   "execution_count": 20,
   "metadata": {},
   "outputs": [],
   "source": [
    "# Retreive all sheets\n",
    "dfs = pd.read_excel(\"Student Input.xlsx\",sheet_name=None)"
   ]
  },
  {
   "cell_type": "code",
   "execution_count": 21,
   "metadata": {},
   "outputs": [],
   "source": [
    "# Create df for each sheet\n",
    "st=dfs['Student Info']\n",
    "res=dfs[ 'Results']"
   ]
  },
  {
   "cell_type": "code",
   "execution_count": 22,
   "metadata": {},
   "outputs": [],
   "source": [
    "# clean column names\n",
    "st.columns=st.columns.str.strip().str.lower().str.replace(' ','_')\n",
    "res.columns=res.columns.str.strip().str.lower().str.replace(' ','_')"
   ]
  },
  {
   "cell_type": "code",
   "execution_count": 23,
   "metadata": {},
   "outputs": [],
   "source": [
    "# merge dfs\n",
    "df=st.merge(res,on='student_id')"
   ]
  },
  {
   "cell_type": "code",
   "execution_count": 6,
   "metadata": {},
   "outputs": [],
   "source": [
    "# Create quartiles\n",
    "df['english']=pd.qcut(df['english'],4,labels=False)\n",
    "df['psychology']=pd.qcut(df['psychology'],4,labels=False)\n",
    "df['economics']=pd.qcut(df['economics'],4,labels=False)"
   ]
  },
  {
   "cell_type": "code",
   "execution_count": 7,
   "metadata": {},
   "outputs": [],
   "source": [
    "# Clean text\n",
    "df['class']=df['class'].str.strip()"
   ]
  },
  {
   "cell_type": "code",
   "execution_count": 8,
   "metadata": {},
   "outputs": [],
   "source": [
    "# condition for creating flag: 2 or more subjects in lower quartile(0)\n",
    "cnd=((df['english']==0)&(df['economics']==0))| ((df['english']==0)&(df['psychology']==0))|((df['psychology']==0)&(df['economics']==0))\n",
    "\n",
    "# Create flag clm\n",
    "df['flag']=np.where(cnd,\n",
    "         'yes',\n",
    "         'no'\n",
    "         )"
   ]
  },
  {
   "cell_type": "code",
   "execution_count": 9,
   "metadata": {},
   "outputs": [],
   "source": [
    "# Filter to flag='y' and class = 9a or 9b\n",
    "# SAve to csv file\n",
    "\n",
    "df[(df['flag']=='yes')&\n",
    "   (df['class'].str.contains('9'))].reset_index(drop=True).to_csv('20230618.csv',index=False)"
   ]
  },
  {
   "cell_type": "code",
   "execution_count": 10,
   "metadata": {},
   "outputs": [],
   "source": [
    "os.startfile('20230618.csv')"
   ]
  },
  {
   "cell_type": "code",
   "execution_count": 11,
   "metadata": {},
   "outputs": [
    {
     "data": {
      "text/plain": [
       "{3: '75th percentile',\n",
       " 2: 'Interquartile range',\n",
       " 1: 'Interquartile range',\n",
       " 0: '25th percentile'}"
      ]
     },
     "execution_count": 11,
     "metadata": {},
     "output_type": "execute_result"
    }
   ],
   "source": [
    "# Add tile labels\n",
    "num=pd.read_excel('Tiles.xlsx')['Number']\n",
    "rng=pd.read_excel('Tiles.xlsx')['Range']\n",
    "num=[i-1 for i in num]\n",
    "num=num[::-1]\n",
    "m=dict(zip(num,rng))\n",
    "m"
   ]
  },
  {
   "cell_type": "code",
   "execution_count": 12,
   "metadata": {},
   "outputs": [],
   "source": [
    "df['english']=df['english'].map(m)\n",
    "df['economics']=df['economics'].map(m)\n",
    "df['psychology']=df['psychology'].map(m)"
   ]
  },
  {
   "cell_type": "code",
   "execution_count": 13,
   "metadata": {},
   "outputs": [
    {
     "data": {
      "text/html": [
       "<div>\n",
       "<style scoped>\n",
       "    .dataframe tbody tr th:only-of-type {\n",
       "        vertical-align: middle;\n",
       "    }\n",
       "\n",
       "    .dataframe tbody tr th {\n",
       "        vertical-align: top;\n",
       "    }\n",
       "\n",
       "    .dataframe thead th {\n",
       "        text-align: right;\n",
       "    }\n",
       "</style>\n",
       "<table border=\"1\" class=\"dataframe\">\n",
       "  <thead>\n",
       "    <tr style=\"text-align: right;\">\n",
       "      <th></th>\n",
       "      <th>full_name</th>\n",
       "      <th>class</th>\n",
       "      <th>english</th>\n",
       "      <th>economics</th>\n",
       "      <th>psychology</th>\n",
       "    </tr>\n",
       "  </thead>\n",
       "  <tbody>\n",
       "    <tr>\n",
       "      <th>0</th>\n",
       "      <td>Nathan Lee</td>\n",
       "      <td>9B</td>\n",
       "      <td>Interquartile range</td>\n",
       "      <td>25th percentile</td>\n",
       "      <td>25th percentile</td>\n",
       "    </tr>\n",
       "    <tr>\n",
       "      <th>1</th>\n",
       "      <td>Wendy Chen</td>\n",
       "      <td>9B</td>\n",
       "      <td>25th percentile</td>\n",
       "      <td>25th percentile</td>\n",
       "      <td>25th percentile</td>\n",
       "    </tr>\n",
       "    <tr>\n",
       "      <th>2</th>\n",
       "      <td>Maya Davis</td>\n",
       "      <td>9A</td>\n",
       "      <td>Interquartile range</td>\n",
       "      <td>25th percentile</td>\n",
       "      <td>25th percentile</td>\n",
       "    </tr>\n",
       "    <tr>\n",
       "      <th>3</th>\n",
       "      <td>Nathan Hernandez</td>\n",
       "      <td>9A</td>\n",
       "      <td>Interquartile range</td>\n",
       "      <td>25th percentile</td>\n",
       "      <td>25th percentile</td>\n",
       "    </tr>\n",
       "    <tr>\n",
       "      <th>4</th>\n",
       "      <td>Quinn Lee</td>\n",
       "      <td>9A</td>\n",
       "      <td>25th percentile</td>\n",
       "      <td>75th percentile</td>\n",
       "      <td>25th percentile</td>\n",
       "    </tr>\n",
       "    <tr>\n",
       "      <th>5</th>\n",
       "      <td>Ryan Smith</td>\n",
       "      <td>9A</td>\n",
       "      <td>25th percentile</td>\n",
       "      <td>25th percentile</td>\n",
       "      <td>25th percentile</td>\n",
       "    </tr>\n",
       "    <tr>\n",
       "      <th>6</th>\n",
       "      <td>Uma Davis</td>\n",
       "      <td>9A</td>\n",
       "      <td>Interquartile range</td>\n",
       "      <td>25th percentile</td>\n",
       "      <td>25th percentile</td>\n",
       "    </tr>\n",
       "  </tbody>\n",
       "</table>\n",
       "</div>"
      ],
      "text/plain": [
       "             full_name class              english        economics  \\\n",
       "0   Nathan Lee            9B  Interquartile range  25th percentile   \n",
       "1    Wendy Chen           9B      25th percentile  25th percentile   \n",
       "2    Maya Davis           9A  Interquartile range  25th percentile   \n",
       "3     Nathan Hernandez    9A  Interquartile range  25th percentile   \n",
       "4    Quinn Lee            9A      25th percentile  75th percentile   \n",
       "5    Ryan Smith           9A      25th percentile  25th percentile   \n",
       "6    Uma Davis            9A  Interquartile range  25th percentile   \n",
       "\n",
       "        psychology  \n",
       "0  25th percentile  \n",
       "1  25th percentile  \n",
       "2  25th percentile  \n",
       "3  25th percentile  \n",
       "4  25th percentile  \n",
       "5  25th percentile  \n",
       "6  25th percentile  "
      ]
     },
     "execution_count": 13,
     "metadata": {},
     "output_type": "execute_result"
    }
   ],
   "source": [
    "df.loc[(df['flag']=='yes')&\n",
    "       (df['class'].str.contains('9'))].drop(columns=['flag','gender','student_id']).reset_index(drop=True)"
   ]
  },
  {
   "cell_type": "code",
   "execution_count": 14,
   "metadata": {},
   "outputs": [],
   "source": [
    "import seaborn as sns"
   ]
  },
  {
   "cell_type": "code",
   "execution_count": 15,
   "metadata": {},
   "outputs": [],
   "source": [
    "df.student_id=df.student_id.astype('str')"
   ]
  },
  {
   "cell_type": "code",
   "execution_count": 16,
   "metadata": {},
   "outputs": [
    {
     "data": {
      "text/plain": [
       "Index(['student_id', 'full_name', 'gender', 'class', 'english', 'economics',\n",
       "       'psychology', 'flag'],\n",
       "      dtype='object')"
      ]
     },
     "execution_count": 16,
     "metadata": {},
     "output_type": "execute_result"
    }
   ],
   "source": [
    "df.head().columns"
   ]
  },
  {
   "cell_type": "code",
   "execution_count": 25,
   "metadata": {},
   "outputs": [
    {
     "data": {
      "text/html": [
       "<div>\n",
       "<style scoped>\n",
       "    .dataframe tbody tr th:only-of-type {\n",
       "        vertical-align: middle;\n",
       "    }\n",
       "\n",
       "    .dataframe tbody tr th {\n",
       "        vertical-align: top;\n",
       "    }\n",
       "\n",
       "    .dataframe thead th {\n",
       "        text-align: right;\n",
       "    }\n",
       "</style>\n",
       "<table border=\"1\" class=\"dataframe\">\n",
       "  <thead>\n",
       "    <tr style=\"text-align: right;\">\n",
       "      <th></th>\n",
       "      <th>student_id</th>\n",
       "      <th>gender</th>\n",
       "      <th>subject</th>\n",
       "      <th>scores</th>\n",
       "    </tr>\n",
       "  </thead>\n",
       "  <tbody>\n",
       "    <tr>\n",
       "      <th>0</th>\n",
       "      <td>1</td>\n",
       "      <td>Female</td>\n",
       "      <td>english</td>\n",
       "      <td>88</td>\n",
       "    </tr>\n",
       "    <tr>\n",
       "      <th>1</th>\n",
       "      <td>2</td>\n",
       "      <td>Male</td>\n",
       "      <td>english</td>\n",
       "      <td>76</td>\n",
       "    </tr>\n",
       "    <tr>\n",
       "      <th>2</th>\n",
       "      <td>3</td>\n",
       "      <td>Female</td>\n",
       "      <td>english</td>\n",
       "      <td>93</td>\n",
       "    </tr>\n",
       "    <tr>\n",
       "      <th>3</th>\n",
       "      <td>4</td>\n",
       "      <td>Male</td>\n",
       "      <td>english</td>\n",
       "      <td>85</td>\n",
       "    </tr>\n",
       "    <tr>\n",
       "      <th>4</th>\n",
       "      <td>5</td>\n",
       "      <td>Female</td>\n",
       "      <td>english</td>\n",
       "      <td>64</td>\n",
       "    </tr>\n",
       "    <tr>\n",
       "      <th>...</th>\n",
       "      <td>...</td>\n",
       "      <td>...</td>\n",
       "      <td>...</td>\n",
       "      <td>...</td>\n",
       "    </tr>\n",
       "    <tr>\n",
       "      <th>145</th>\n",
       "      <td>46</td>\n",
       "      <td>Male</td>\n",
       "      <td>psychology</td>\n",
       "      <td>58</td>\n",
       "    </tr>\n",
       "    <tr>\n",
       "      <th>146</th>\n",
       "      <td>47</td>\n",
       "      <td>Female</td>\n",
       "      <td>psychology</td>\n",
       "      <td>44</td>\n",
       "    </tr>\n",
       "    <tr>\n",
       "      <th>147</th>\n",
       "      <td>48</td>\n",
       "      <td>Male</td>\n",
       "      <td>psychology</td>\n",
       "      <td>68</td>\n",
       "    </tr>\n",
       "    <tr>\n",
       "      <th>148</th>\n",
       "      <td>49</td>\n",
       "      <td>Female</td>\n",
       "      <td>psychology</td>\n",
       "      <td>71</td>\n",
       "    </tr>\n",
       "    <tr>\n",
       "      <th>149</th>\n",
       "      <td>50</td>\n",
       "      <td>Male</td>\n",
       "      <td>psychology</td>\n",
       "      <td>71</td>\n",
       "    </tr>\n",
       "  </tbody>\n",
       "</table>\n",
       "<p>150 rows × 4 columns</p>\n",
       "</div>"
      ],
      "text/plain": [
       "     student_id    gender     subject  scores\n",
       "0             1   Female      english      88\n",
       "1             2   Male        english      76\n",
       "2             3   Female      english      93\n",
       "3             4   Male        english      85\n",
       "4             5   Female      english      64\n",
       "..          ...       ...         ...     ...\n",
       "145          46   Male     psychology      58\n",
       "146          47   Female   psychology      44\n",
       "147          48   Male     psychology      68\n",
       "148          49   Female   psychology      71\n",
       "149          50   Male     psychology      71\n",
       "\n",
       "[150 rows x 4 columns]"
      ]
     },
     "execution_count": 25,
     "metadata": {},
     "output_type": "execute_result"
    }
   ],
   "source": [
    "bp=df.melt(id_vars=['student_id','gender'],\n",
    "        value_vars=['english', 'economics','psychology'],value_name='scores',var_name='subject')\n",
    "\n",
    "bp"
   ]
  },
  {
   "cell_type": "code",
   "execution_count": 26,
   "metadata": {},
   "outputs": [
    {
     "data": {
      "text/plain": [
       "<Axes: xlabel='gender', ylabel='scores'>"
      ]
     },
     "execution_count": 26,
     "metadata": {},
     "output_type": "execute_result"
    },
    {
     "data": {
      "image/png": "[encoded data removed]",
      "text/plain": [
       "<Figure size 640x480 with 1 Axes>"
      ]
     },
     "metadata": {},
     "output_type": "display_data"
    }
   ],
   "source": [
    "\n",
    "sns.boxplot(data=bp,x='gender',y='scores')"
   ]
  },
  {
   "cell_type": "code",
   "execution_count": 27,
   "metadata": {},
   "outputs": [],
   "source": [
    "vals=['english', 'economics','psychology']\n"
   ]
  },
  {
   "cell_type": "code",
   "execution_count": 28,
   "metadata": {},
   "outputs": [
    {
     "data": {
      "text/plain": [
       "['english',\n",
       " 'economics',\n",
       " 'psychology',\n",
       " 'student_id',\n",
       " 'full_name',\n",
       " 'gender',\n",
       " 'class']"
      ]
     },
     "execution_count": 28,
     "metadata": {},
     "output_type": "execute_result"
    }
   ],
   "source": [
    "vals+['student_id', 'full_name', 'gender', 'class']"
   ]
  },
  {
   "cell_type": "code",
   "execution_count": 29,
   "metadata": {},
   "outputs": [],
   "source": [
    "bp2=df[['student_id','class']+vals].melt(  id_vars=['student_id','class'],\n",
    "        value_vars=vals,value_name='scores',var_name='subject')\n"
   ]
  },
  {
   "cell_type": "code",
   "execution_count": 30,
   "metadata": {},
   "outputs": [],
   "source": [
    "bp2['class']=bp2['class'].str.strip()"
   ]
  },
  {
   "cell_type": "code",
   "execution_count": 31,
   "metadata": {},
   "outputs": [],
   "source": [
    "bp2=bp2.sort_values(by='class')"
   ]
  },
  {
   "cell_type": "code",
   "execution_count": 32,
   "metadata": {},
   "outputs": [
    {
     "data": {
      "text/plain": [
       "<Axes: xlabel='class', ylabel='scores'>"
      ]
     },
     "execution_count": 32,
     "metadata": {},
     "output_type": "execute_result"
    },
    {
     "data": {
      "image/png": "[encoded data removed]",
      "text/plain": [
       "<Figure size 640x480 with 1 Axes>"
      ]
     },
     "metadata": {},
     "output_type": "display_data"
    }
   ],
   "source": [
    "sns.boxplot(bp2,x='class',y='scores')"
   ]
  },
  {
   "cell_type": "code",
   "execution_count": 33,
   "metadata": {},
   "outputs": [
    {
     "data": {
      "text/plain": [
       "class\n",
       " 9B        50.225\n",
       " 10A       51.950\n",
       " 11C       53.425\n",
       " 9A        55.525\n",
       " 11A       59.750\n",
       " 10B       60.700\n",
       "dtype: float64"
      ]
     },
     "execution_count": 33,
     "metadata": {},
     "output_type": "execute_result"
    }
   ],
   "source": [
    "df.groupby('class').mean(numeric_only=True).mean(axis=1).sort_values()"
   ]
  }
 ],
 "metadata": {
  "kernelspec": {
   "display_name": "Python 3",
   "language": "python",
   "name": "python3"
  },
  "language_info": {
   "codemirror_mode": {
    "name": "ipython",
    "version": 3
   },
   "file_extension": ".py",
   "mimetype": "text/x-python",
   "name": "python",
   "nbconvert_exporter": "python",
   "pygments_lexer": "ipython3",
   "version": "3.10.8"
  },
  "orig_nbformat": 4
 },
 "nbformat": 4,
 "nbformat_minor": 2
}
