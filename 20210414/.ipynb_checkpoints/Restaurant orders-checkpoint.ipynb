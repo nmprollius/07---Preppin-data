{
 "cells": [
  {
   "cell_type": "code",
   "execution_count": 1,
   "metadata": {},
   "outputs": [],
   "source": [
    "import os\n",
    "import pandas as pd"
   ]
  },
  {
   "cell_type": "code",
   "execution_count": 4,
   "metadata": {},
   "outputs": [],
   "source": [
    "menu = pd.read_excel(\"Menu and Orders.xlsx\",sheet_name='MENU')"
   ]
  },
  {
   "cell_type": "code",
   "execution_count": 186,
   "metadata": {},
   "outputs": [
    {
     "data": {
      "text/html": [
       "<div>\n",
       "<style scoped>\n",
       "    .dataframe tbody tr th:only-of-type {\n",
       "        vertical-align: middle;\n",
       "    }\n",
       "\n",
       "    .dataframe tbody tr th {\n",
       "        vertical-align: top;\n",
       "    }\n",
       "\n",
       "    .dataframe thead th {\n",
       "        text-align: right;\n",
       "    }\n",
       "</style>\n",
       "<table border=\"1\" class=\"dataframe\">\n",
       "  <thead>\n",
       "    <tr style=\"text-align: right;\">\n",
       "      <th></th>\n",
       "      <th>Pizza</th>\n",
       "      <th>Pizza Price</th>\n",
       "      <th>Pizza ID</th>\n",
       "      <th>Pasta</th>\n",
       "      <th>Pasta Price</th>\n",
       "      <th>Pasta ID</th>\n",
       "      <th>House Plates</th>\n",
       "      <th>House Plates Prices</th>\n",
       "      <th>House Plates ID</th>\n",
       "    </tr>\n",
       "  </thead>\n",
       "  <tbody>\n",
       "    <tr>\n",
       "      <th>0</th>\n",
       "      <td>Margherita</td>\n",
       "      <td>10</td>\n",
       "      <td>10101</td>\n",
       "      <td>Top Truffle Tagliatelle</td>\n",
       "      <td>14.0</td>\n",
       "      <td>20101.0</td>\n",
       "      <td>house fried chicken</td>\n",
       "      <td>11.0</td>\n",
       "      <td>30113.0</td>\n",
       "    </tr>\n",
       "    <tr>\n",
       "      <th>1</th>\n",
       "      <td>Vegan Viking</td>\n",
       "      <td>13</td>\n",
       "      <td>10102</td>\n",
       "      <td>Rock Star Rigatoni</td>\n",
       "      <td>15.0</td>\n",
       "      <td>20102.0</td>\n",
       "      <td>vegan fried chicken</td>\n",
       "      <td>11.0</td>\n",
       "      <td>30112.0</td>\n",
       "    </tr>\n",
       "    <tr>\n",
       "      <th>2</th>\n",
       "      <td>green god</td>\n",
       "      <td>12</td>\n",
       "      <td>10103</td>\n",
       "      <td>Slow Beef Rigatoni</td>\n",
       "      <td>14.0</td>\n",
       "      <td>20103.0</td>\n",
       "      <td>feta &amp;watermelon salad</td>\n",
       "      <td>12.0</td>\n",
       "      <td>30111.0</td>\n",
       "    </tr>\n",
       "    <tr>\n",
       "      <th>3</th>\n",
       "      <td>rock star margherita</td>\n",
       "      <td>13</td>\n",
       "      <td>10104</td>\n",
       "      <td>Spicy Ragu Tagliatelle</td>\n",
       "      <td>12.0</td>\n",
       "      <td>20104.0</td>\n",
       "      <td>fried chicken salad</td>\n",
       "      <td>12.0</td>\n",
       "      <td>30110.0</td>\n",
       "    </tr>\n",
       "    <tr>\n",
       "      <th>4</th>\n",
       "      <td>samson</td>\n",
       "      <td>14</td>\n",
       "      <td>10105</td>\n",
       "      <td>Beetroot Gnocchi (Vegan)</td>\n",
       "      <td>13.0</td>\n",
       "      <td>20105.0</td>\n",
       "      <td>NaN</td>\n",
       "      <td>NaN</td>\n",
       "      <td>NaN</td>\n",
       "    </tr>\n",
       "  </tbody>\n",
       "</table>\n",
       "</div>"
      ],
      "text/plain": [
       "                  Pizza  Pizza Price   Pizza ID                     Pasta  \\\n",
       "0            Margherita            10     10101   Top Truffle Tagliatelle   \n",
       "1          Vegan Viking            13     10102        Rock Star Rigatoni   \n",
       "2             green god            12     10103        Slow Beef Rigatoni   \n",
       "3  rock star margherita            13     10104    Spicy Ragu Tagliatelle   \n",
       "4                samson            14     10105  Beetroot Gnocchi (Vegan)   \n",
       "\n",
       "   Pasta Price  Pasta ID            House Plates  House Plates Prices  \\\n",
       "0         14.0   20101.0     house fried chicken                 11.0   \n",
       "1         15.0   20102.0     vegan fried chicken                 11.0   \n",
       "2         14.0   20103.0  feta &watermelon salad                 12.0   \n",
       "3         12.0   20104.0     fried chicken salad                 12.0   \n",
       "4         13.0   20105.0                     NaN                  NaN   \n",
       "\n",
       "   House Plates ID  \n",
       "0          30113.0  \n",
       "1          30112.0  \n",
       "2          30111.0  \n",
       "3          30110.0  \n",
       "4              NaN  "
      ]
     },
     "execution_count": 186,
     "metadata": {},
     "output_type": "execute_result"
    }
   ],
   "source": [
    "menu.head()"
   ]
  },
  {
   "cell_type": "code",
   "execution_count": 187,
   "metadata": {},
   "outputs": [
    {
     "data": {
      "text/plain": [
       "Index(['Pizza', 'Pizza Price ', 'Pizza ID', 'Pasta', 'Pasta Price', 'Pasta ID',\n",
       "       'House Plates', 'House Plates Prices', 'House Plates ID'],\n",
       "      dtype='object')"
      ]
     },
     "execution_count": 187,
     "metadata": {},
     "output_type": "execute_result"
    }
   ],
   "source": [
    "menu.columns"
   ]
  },
  {
   "cell_type": "code",
   "execution_count": 188,
   "metadata": {
    "scrolled": true
   },
   "outputs": [
    {
     "data": {
      "text/html": [
       "<div>\n",
       "<style scoped>\n",
       "    .dataframe tbody tr th:only-of-type {\n",
       "        vertical-align: middle;\n",
       "    }\n",
       "\n",
       "    .dataframe tbody tr th {\n",
       "        vertical-align: top;\n",
       "    }\n",
       "\n",
       "    .dataframe thead th {\n",
       "        text-align: right;\n",
       "    }\n",
       "</style>\n",
       "<table border=\"1\" class=\"dataframe\">\n",
       "  <thead>\n",
       "    <tr style=\"text-align: right;\">\n",
       "      <th></th>\n",
       "      <th>Pizza</th>\n",
       "      <th>Pizza Price</th>\n",
       "      <th>Pizza ID</th>\n",
       "      <th>foodtype</th>\n",
       "    </tr>\n",
       "  </thead>\n",
       "  <tbody>\n",
       "    <tr>\n",
       "      <th>0</th>\n",
       "      <td>Margherita</td>\n",
       "      <td>10</td>\n",
       "      <td>10101</td>\n",
       "      <td>Pizza</td>\n",
       "    </tr>\n",
       "    <tr>\n",
       "      <th>1</th>\n",
       "      <td>Vegan Viking</td>\n",
       "      <td>13</td>\n",
       "      <td>10102</td>\n",
       "      <td>Pizza</td>\n",
       "    </tr>\n",
       "    <tr>\n",
       "      <th>2</th>\n",
       "      <td>green god</td>\n",
       "      <td>12</td>\n",
       "      <td>10103</td>\n",
       "      <td>Pizza</td>\n",
       "    </tr>\n",
       "    <tr>\n",
       "      <th>3</th>\n",
       "      <td>rock star margherita</td>\n",
       "      <td>13</td>\n",
       "      <td>10104</td>\n",
       "      <td>Pizza</td>\n",
       "    </tr>\n",
       "    <tr>\n",
       "      <th>4</th>\n",
       "      <td>samson</td>\n",
       "      <td>14</td>\n",
       "      <td>10105</td>\n",
       "      <td>Pizza</td>\n",
       "    </tr>\n",
       "  </tbody>\n",
       "</table>\n",
       "</div>"
      ],
      "text/plain": [
       "                  Pizza  Pizza Price   Pizza ID foodtype\n",
       "0            Margherita            10     10101    Pizza\n",
       "1          Vegan Viking            13     10102    Pizza\n",
       "2             green god            12     10103    Pizza\n",
       "3  rock star margherita            13     10104    Pizza\n",
       "4                samson            14     10105    Pizza"
      ]
     },
     "execution_count": 188,
     "metadata": {},
     "output_type": "execute_result"
    }
   ],
   "source": [
    "pizza = menu[['Pizza', 'Pizza Price ', 'Pizza ID']].copy()\n",
    "pizza['foodtype'] = 'Pizza'\n",
    "pizza.head()"
   ]
  },
  {
   "cell_type": "code",
   "execution_count": 189,
   "metadata": {
    "scrolled": true
   },
   "outputs": [
    {
     "data": {
      "text/html": [
       "<div>\n",
       "<style scoped>\n",
       "    .dataframe tbody tr th:only-of-type {\n",
       "        vertical-align: middle;\n",
       "    }\n",
       "\n",
       "    .dataframe tbody tr th {\n",
       "        vertical-align: top;\n",
       "    }\n",
       "\n",
       "    .dataframe thead th {\n",
       "        text-align: right;\n",
       "    }\n",
       "</style>\n",
       "<table border=\"1\" class=\"dataframe\">\n",
       "  <thead>\n",
       "    <tr style=\"text-align: right;\">\n",
       "      <th></th>\n",
       "      <th>Pasta</th>\n",
       "      <th>Pasta Price</th>\n",
       "      <th>Pasta ID</th>\n",
       "      <th>foodtype</th>\n",
       "    </tr>\n",
       "  </thead>\n",
       "  <tbody>\n",
       "    <tr>\n",
       "      <th>0</th>\n",
       "      <td>Top Truffle Tagliatelle</td>\n",
       "      <td>14.0</td>\n",
       "      <td>20101.0</td>\n",
       "      <td>Pasta</td>\n",
       "    </tr>\n",
       "    <tr>\n",
       "      <th>1</th>\n",
       "      <td>Rock Star Rigatoni</td>\n",
       "      <td>15.0</td>\n",
       "      <td>20102.0</td>\n",
       "      <td>Pasta</td>\n",
       "    </tr>\n",
       "    <tr>\n",
       "      <th>2</th>\n",
       "      <td>Slow Beef Rigatoni</td>\n",
       "      <td>14.0</td>\n",
       "      <td>20103.0</td>\n",
       "      <td>Pasta</td>\n",
       "    </tr>\n",
       "    <tr>\n",
       "      <th>3</th>\n",
       "      <td>Spicy Ragu Tagliatelle</td>\n",
       "      <td>12.0</td>\n",
       "      <td>20104.0</td>\n",
       "      <td>Pasta</td>\n",
       "    </tr>\n",
       "    <tr>\n",
       "      <th>4</th>\n",
       "      <td>Beetroot Gnocchi (Vegan)</td>\n",
       "      <td>13.0</td>\n",
       "      <td>20105.0</td>\n",
       "      <td>Pasta</td>\n",
       "    </tr>\n",
       "  </tbody>\n",
       "</table>\n",
       "</div>"
      ],
      "text/plain": [
       "                      Pasta  Pasta Price  Pasta ID foodtype\n",
       "0   Top Truffle Tagliatelle         14.0   20101.0    Pasta\n",
       "1        Rock Star Rigatoni         15.0   20102.0    Pasta\n",
       "2        Slow Beef Rigatoni         14.0   20103.0    Pasta\n",
       "3    Spicy Ragu Tagliatelle         12.0   20104.0    Pasta\n",
       "4  Beetroot Gnocchi (Vegan)         13.0   20105.0    Pasta"
      ]
     },
     "execution_count": 189,
     "metadata": {},
     "output_type": "execute_result"
    }
   ],
   "source": [
    "pasta = menu[[ 'Pasta', 'Pasta Price', 'Pasta ID']].copy()\n",
    "pasta['foodtype'] = 'Pasta'\n",
    "pasta.head()"
   ]
  },
  {
   "cell_type": "code",
   "execution_count": 190,
   "metadata": {},
   "outputs": [
    {
     "data": {
      "text/html": [
       "<div>\n",
       "<style scoped>\n",
       "    .dataframe tbody tr th:only-of-type {\n",
       "        vertical-align: middle;\n",
       "    }\n",
       "\n",
       "    .dataframe tbody tr th {\n",
       "        vertical-align: top;\n",
       "    }\n",
       "\n",
       "    .dataframe thead th {\n",
       "        text-align: right;\n",
       "    }\n",
       "</style>\n",
       "<table border=\"1\" class=\"dataframe\">\n",
       "  <thead>\n",
       "    <tr style=\"text-align: right;\">\n",
       "      <th></th>\n",
       "      <th>House Plates</th>\n",
       "      <th>House Plates Prices</th>\n",
       "      <th>House Plates ID</th>\n",
       "      <th>foodtype</th>\n",
       "    </tr>\n",
       "  </thead>\n",
       "  <tbody>\n",
       "    <tr>\n",
       "      <th>0</th>\n",
       "      <td>house fried chicken</td>\n",
       "      <td>11.0</td>\n",
       "      <td>30113.0</td>\n",
       "      <td>House Plate</td>\n",
       "    </tr>\n",
       "    <tr>\n",
       "      <th>1</th>\n",
       "      <td>vegan fried chicken</td>\n",
       "      <td>11.0</td>\n",
       "      <td>30112.0</td>\n",
       "      <td>House Plate</td>\n",
       "    </tr>\n",
       "    <tr>\n",
       "      <th>2</th>\n",
       "      <td>feta &amp;watermelon salad</td>\n",
       "      <td>12.0</td>\n",
       "      <td>30111.0</td>\n",
       "      <td>House Plate</td>\n",
       "    </tr>\n",
       "    <tr>\n",
       "      <th>3</th>\n",
       "      <td>fried chicken salad</td>\n",
       "      <td>12.0</td>\n",
       "      <td>30110.0</td>\n",
       "      <td>House Plate</td>\n",
       "    </tr>\n",
       "    <tr>\n",
       "      <th>4</th>\n",
       "      <td>NaN</td>\n",
       "      <td>NaN</td>\n",
       "      <td>NaN</td>\n",
       "      <td>House Plate</td>\n",
       "    </tr>\n",
       "  </tbody>\n",
       "</table>\n",
       "</div>"
      ],
      "text/plain": [
       "             House Plates  House Plates Prices  House Plates ID     foodtype\n",
       "0     house fried chicken                 11.0          30113.0  House Plate\n",
       "1     vegan fried chicken                 11.0          30112.0  House Plate\n",
       "2  feta &watermelon salad                 12.0          30111.0  House Plate\n",
       "3     fried chicken salad                 12.0          30110.0  House Plate\n",
       "4                     NaN                  NaN              NaN  House Plate"
      ]
     },
     "execution_count": 190,
     "metadata": {},
     "output_type": "execute_result"
    }
   ],
   "source": [
    "house = menu[[ 'House Plates', 'House Plates Prices', 'House Plates ID']].copy()\n",
    "house['foodtype'] = 'House Plate'\n",
    "house.head()\n"
   ]
  },
  {
   "cell_type": "code",
   "execution_count": 191,
   "metadata": {},
   "outputs": [],
   "source": [
    "clmnames = ['item','prices','id','foodtype']"
   ]
  },
  {
   "cell_type": "code",
   "execution_count": 192,
   "metadata": {},
   "outputs": [],
   "source": [
    "for df in [pizza,pasta,house]:\n",
    "    df.columns = clmnames"
   ]
  },
  {
   "cell_type": "code",
   "execution_count": 193,
   "metadata": {},
   "outputs": [
    {
     "data": {
      "text/html": [
       "<div>\n",
       "<style scoped>\n",
       "    .dataframe tbody tr th:only-of-type {\n",
       "        vertical-align: middle;\n",
       "    }\n",
       "\n",
       "    .dataframe tbody tr th {\n",
       "        vertical-align: top;\n",
       "    }\n",
       "\n",
       "    .dataframe thead th {\n",
       "        text-align: right;\n",
       "    }\n",
       "</style>\n",
       "<table border=\"1\" class=\"dataframe\">\n",
       "  <thead>\n",
       "    <tr style=\"text-align: right;\">\n",
       "      <th></th>\n",
       "      <th>item</th>\n",
       "      <th>prices</th>\n",
       "      <th>id</th>\n",
       "      <th>foodtype</th>\n",
       "    </tr>\n",
       "  </thead>\n",
       "  <tbody>\n",
       "    <tr>\n",
       "      <th>0</th>\n",
       "      <td>Top Truffle Tagliatelle</td>\n",
       "      <td>14.0</td>\n",
       "      <td>20101.0</td>\n",
       "      <td>Pasta</td>\n",
       "    </tr>\n",
       "    <tr>\n",
       "      <th>1</th>\n",
       "      <td>Rock Star Rigatoni</td>\n",
       "      <td>15.0</td>\n",
       "      <td>20102.0</td>\n",
       "      <td>Pasta</td>\n",
       "    </tr>\n",
       "    <tr>\n",
       "      <th>2</th>\n",
       "      <td>Slow Beef Rigatoni</td>\n",
       "      <td>14.0</td>\n",
       "      <td>20103.0</td>\n",
       "      <td>Pasta</td>\n",
       "    </tr>\n",
       "    <tr>\n",
       "      <th>3</th>\n",
       "      <td>Spicy Ragu Tagliatelle</td>\n",
       "      <td>12.0</td>\n",
       "      <td>20104.0</td>\n",
       "      <td>Pasta</td>\n",
       "    </tr>\n",
       "    <tr>\n",
       "      <th>4</th>\n",
       "      <td>Beetroot Gnocchi (Vegan)</td>\n",
       "      <td>13.0</td>\n",
       "      <td>20105.0</td>\n",
       "      <td>Pasta</td>\n",
       "    </tr>\n",
       "  </tbody>\n",
       "</table>\n",
       "</div>"
      ],
      "text/plain": [
       "                       item  prices       id foodtype\n",
       "0   Top Truffle Tagliatelle    14.0  20101.0    Pasta\n",
       "1        Rock Star Rigatoni    15.0  20102.0    Pasta\n",
       "2        Slow Beef Rigatoni    14.0  20103.0    Pasta\n",
       "3    Spicy Ragu Tagliatelle    12.0  20104.0    Pasta\n",
       "4  Beetroot Gnocchi (Vegan)    13.0  20105.0    Pasta"
      ]
     },
     "execution_count": 193,
     "metadata": {},
     "output_type": "execute_result"
    }
   ],
   "source": [
    "pasta.head()"
   ]
  },
  {
   "cell_type": "code",
   "execution_count": 194,
   "metadata": {},
   "outputs": [],
   "source": [
    "comb_menu = pizza.append([pasta,house]).reset_index(drop=True)"
   ]
  },
  {
   "cell_type": "code",
   "execution_count": 195,
   "metadata": {},
   "outputs": [],
   "source": [
    "comb_menu.dropna(inplace=True)"
   ]
  },
  {
   "cell_type": "code",
   "execution_count": 196,
   "metadata": {},
   "outputs": [
    {
     "data": {
      "text/html": [
       "<div>\n",
       "<style scoped>\n",
       "    .dataframe tbody tr th:only-of-type {\n",
       "        vertical-align: middle;\n",
       "    }\n",
       "\n",
       "    .dataframe tbody tr th {\n",
       "        vertical-align: top;\n",
       "    }\n",
       "\n",
       "    .dataframe thead th {\n",
       "        text-align: right;\n",
       "    }\n",
       "</style>\n",
       "<table border=\"1\" class=\"dataframe\">\n",
       "  <thead>\n",
       "    <tr style=\"text-align: right;\">\n",
       "      <th></th>\n",
       "      <th>item</th>\n",
       "      <th>prices</th>\n",
       "      <th>id</th>\n",
       "      <th>foodtype</th>\n",
       "    </tr>\n",
       "  </thead>\n",
       "  <tbody>\n",
       "    <tr>\n",
       "      <th>0</th>\n",
       "      <td>Margherita</td>\n",
       "      <td>10.0</td>\n",
       "      <td>10101.0</td>\n",
       "      <td>Pizza</td>\n",
       "    </tr>\n",
       "    <tr>\n",
       "      <th>1</th>\n",
       "      <td>Vegan Viking</td>\n",
       "      <td>13.0</td>\n",
       "      <td>10102.0</td>\n",
       "      <td>Pizza</td>\n",
       "    </tr>\n",
       "    <tr>\n",
       "      <th>2</th>\n",
       "      <td>green god</td>\n",
       "      <td>12.0</td>\n",
       "      <td>10103.0</td>\n",
       "      <td>Pizza</td>\n",
       "    </tr>\n",
       "    <tr>\n",
       "      <th>3</th>\n",
       "      <td>rock star margherita</td>\n",
       "      <td>13.0</td>\n",
       "      <td>10104.0</td>\n",
       "      <td>Pizza</td>\n",
       "    </tr>\n",
       "    <tr>\n",
       "      <th>4</th>\n",
       "      <td>samson</td>\n",
       "      <td>14.0</td>\n",
       "      <td>10105.0</td>\n",
       "      <td>Pizza</td>\n",
       "    </tr>\n",
       "  </tbody>\n",
       "</table>\n",
       "</div>"
      ],
      "text/plain": [
       "                   item  prices       id foodtype\n",
       "0            Margherita    10.0  10101.0    Pizza\n",
       "1          Vegan Viking    13.0  10102.0    Pizza\n",
       "2             green god    12.0  10103.0    Pizza\n",
       "3  rock star margherita    13.0  10104.0    Pizza\n",
       "4                samson    14.0  10105.0    Pizza"
      ]
     },
     "execution_count": 196,
     "metadata": {},
     "output_type": "execute_result"
    }
   ],
   "source": [
    "comb_menu.head()"
   ]
  },
  {
   "cell_type": "code",
   "execution_count": 197,
   "metadata": {},
   "outputs": [],
   "source": [
    "orders = pd.read_excel(\"Menu and Orders.xlsx\",sheet_name='Order')"
   ]
  },
  {
   "cell_type": "code",
   "execution_count": 198,
   "metadata": {},
   "outputs": [
    {
     "data": {
      "text/html": [
       "<div>\n",
       "<style scoped>\n",
       "    .dataframe tbody tr th:only-of-type {\n",
       "        vertical-align: middle;\n",
       "    }\n",
       "\n",
       "    .dataframe tbody tr th {\n",
       "        vertical-align: top;\n",
       "    }\n",
       "\n",
       "    .dataframe thead th {\n",
       "        text-align: right;\n",
       "    }\n",
       "</style>\n",
       "<table border=\"1\" class=\"dataframe\">\n",
       "  <thead>\n",
       "    <tr style=\"text-align: right;\">\n",
       "      <th></th>\n",
       "      <th>Customer Name</th>\n",
       "      <th>Order Date</th>\n",
       "      <th>Order</th>\n",
       "    </tr>\n",
       "  </thead>\n",
       "  <tbody>\n",
       "    <tr>\n",
       "      <th>0</th>\n",
       "      <td>Sallyanne Antonsen</td>\n",
       "      <td>2020-02-23</td>\n",
       "      <td>10101-30111-20104</td>\n",
       "    </tr>\n",
       "    <tr>\n",
       "      <th>1</th>\n",
       "      <td>Mordecai Lehrle</td>\n",
       "      <td>2021-02-10</td>\n",
       "      <td>20105-30112-10109-30111</td>\n",
       "    </tr>\n",
       "    <tr>\n",
       "      <th>2</th>\n",
       "      <td>Bee Masser</td>\n",
       "      <td>2020-12-23</td>\n",
       "      <td>20103-10103</td>\n",
       "    </tr>\n",
       "    <tr>\n",
       "      <th>3</th>\n",
       "      <td>Casey Ballintyne</td>\n",
       "      <td>2020-04-20</td>\n",
       "      <td>10107</td>\n",
       "    </tr>\n",
       "    <tr>\n",
       "      <th>4</th>\n",
       "      <td>Hadrian Rizzolo</td>\n",
       "      <td>2020-12-30</td>\n",
       "      <td>20102-20104</td>\n",
       "    </tr>\n",
       "  </tbody>\n",
       "</table>\n",
       "</div>"
      ],
      "text/plain": [
       "        Customer Name Order Date                    Order\n",
       "0  Sallyanne Antonsen 2020-02-23        10101-30111-20104\n",
       "1     Mordecai Lehrle 2021-02-10  20105-30112-10109-30111\n",
       "2          Bee Masser 2020-12-23              20103-10103\n",
       "3    Casey Ballintyne 2020-04-20                    10107\n",
       "4     Hadrian Rizzolo 2020-12-30              20102-20104"
      ]
     },
     "execution_count": 198,
     "metadata": {},
     "output_type": "execute_result"
    }
   ],
   "source": [
    "orders.head()"
   ]
  },
  {
   "cell_type": "code",
   "execution_count": 199,
   "metadata": {},
   "outputs": [],
   "source": [
    "orders.columns = [x.strip().replace(' ','_').lower() for x in orders.columns]"
   ]
  },
  {
   "cell_type": "code",
   "execution_count": 200,
   "metadata": {},
   "outputs": [],
   "source": [
    "orders[['0','1','2','3']] = orders['order'].apply(lambda x:pd.Series(str(x).split('-')))"
   ]
  },
  {
   "cell_type": "code",
   "execution_count": 153,
   "metadata": {},
   "outputs": [],
   "source": [
    "orders = orders.drop(labels='order',axis=1)"
   ]
  },
  {
   "cell_type": "code",
   "execution_count": 202,
   "metadata": {},
   "outputs": [],
   "source": [
    "orders=orders.melt(id_vars=['customer_name', 'order_date'], value_vars=['0','1','2','3']).dropna()"
   ]
  },
  {
   "cell_type": "code",
   "execution_count": 203,
   "metadata": {},
   "outputs": [],
   "source": [
    "orders=orders.drop('variable',axis=1)"
   ]
  },
  {
   "cell_type": "code",
   "execution_count": 204,
   "metadata": {},
   "outputs": [],
   "source": [
    "orders = orders.rename(columns={'value':'id'})"
   ]
  },
  {
   "cell_type": "code",
   "execution_count": 215,
   "metadata": {},
   "outputs": [],
   "source": [
    "comb_menu['id']= comb_menu['id'].astype(int)\n",
    "comb_menu['id']= comb_menu['id'].astype(str)"
   ]
  },
  {
   "cell_type": "code",
   "execution_count": 219,
   "metadata": {
    "scrolled": true
   },
   "outputs": [],
   "source": [
    "orders = orders.merge(comb_menu,on='id')"
   ]
  },
  {
   "cell_type": "code",
   "execution_count": 224,
   "metadata": {},
   "outputs": [],
   "source": [
    "import datetime as dt"
   ]
  },
  {
   "cell_type": "code",
   "execution_count": 238,
   "metadata": {},
   "outputs": [],
   "source": [
    "orders['dow'] = orders['order_date'].apply(lambda x:dt.date.strftime(x,'%A'))"
   ]
  },
  {
   "cell_type": "code",
   "execution_count": 279,
   "metadata": {},
   "outputs": [],
   "source": [
    "df['hasimage'] = np.where(df['photos']!= '[]', True, False)"
   ]
  },
  {
   "cell_type": "code",
   "execution_count": 286,
   "metadata": {},
   "outputs": [],
   "source": [
    "import numpy as np"
   ]
  },
  {
   "cell_type": "code",
   "execution_count": 296,
   "metadata": {
    "scrolled": true
   },
   "outputs": [],
   "source": [
    "orders['pricewithdiscount'] = np.where(orders['dow']== 'Monday', orders['prices']/2, orders['prices'])"
   ]
  },
  {
   "cell_type": "markdown",
   "metadata": {},
   "source": [
    "# output1\n",
    "### we want to calculate the total money for each day of the week"
   ]
  },
  {
   "cell_type": "code",
   "execution_count": 307,
   "metadata": {
    "scrolled": true
   },
   "outputs": [
    {
     "data": {
      "text/html": [
       "<div>\n",
       "<style scoped>\n",
       "    .dataframe tbody tr th:only-of-type {\n",
       "        vertical-align: middle;\n",
       "    }\n",
       "\n",
       "    .dataframe tbody tr th {\n",
       "        vertical-align: top;\n",
       "    }\n",
       "\n",
       "    .dataframe thead th {\n",
       "        text-align: right;\n",
       "    }\n",
       "</style>\n",
       "<table border=\"1\" class=\"dataframe\">\n",
       "  <thead>\n",
       "    <tr style=\"text-align: right;\">\n",
       "      <th></th>\n",
       "      <th>pricewithdiscount</th>\n",
       "    </tr>\n",
       "    <tr>\n",
       "      <th>dow</th>\n",
       "      <th></th>\n",
       "    </tr>\n",
       "  </thead>\n",
       "  <tbody>\n",
       "    <tr>\n",
       "      <th>Friday</th>\n",
       "      <td>98.0</td>\n",
       "    </tr>\n",
       "    <tr>\n",
       "      <th>Monday</th>\n",
       "      <td>45.0</td>\n",
       "    </tr>\n",
       "    <tr>\n",
       "      <th>Saturday</th>\n",
       "      <td>137.0</td>\n",
       "    </tr>\n",
       "    <tr>\n",
       "      <th>Sunday</th>\n",
       "      <td>97.0</td>\n",
       "    </tr>\n",
       "    <tr>\n",
       "      <th>Thursday</th>\n",
       "      <td>63.0</td>\n",
       "    </tr>\n",
       "    <tr>\n",
       "      <th>Tuesday</th>\n",
       "      <td>154.0</td>\n",
       "    </tr>\n",
       "    <tr>\n",
       "      <th>Wednesday</th>\n",
       "      <td>213.0</td>\n",
       "    </tr>\n",
       "  </tbody>\n",
       "</table>\n",
       "</div>"
      ],
      "text/plain": [
       "           pricewithdiscount\n",
       "dow                         \n",
       "Friday                  98.0\n",
       "Monday                  45.0\n",
       "Saturday               137.0\n",
       "Sunday                  97.0\n",
       "Thursday                63.0\n",
       "Tuesday                154.0\n",
       "Wednesday              213.0"
      ]
     },
     "execution_count": 307,
     "metadata": {},
     "output_type": "execute_result"
    }
   ],
   "source": [
    "orders.groupby(by='dow').sum()[['pricewithdiscount']]"
   ]
  },
  {
   "cell_type": "markdown",
   "metadata": {},
   "source": [
    "# output2\n",
    "### Customer with most orders"
   ]
  },
  {
   "cell_type": "code",
   "execution_count": 338,
   "metadata": {},
   "outputs": [
    {
     "data": {
      "text/plain": [
       "Mordecai Lehrle    4\n",
       "Name: customer_name, dtype: int64"
      ]
     },
     "execution_count": 338,
     "metadata": {},
     "output_type": "execute_result"
    }
   ],
   "source": [
    "orders['customer_name'].value_counts().head(1)"
   ]
  },
  {
   "cell_type": "code",
   "execution_count": null,
   "metadata": {},
   "outputs": [],
   "source": []
  }
 ],
 "metadata": {
  "kernelspec": {
   "display_name": "Python 3",
   "language": "python",
   "name": "python3"
  },
  "language_info": {
   "codemirror_mode": {
    "name": "ipython",
    "version": 3
   },
   "file_extension": ".py",
   "mimetype": "text/x-python",
   "name": "python",
   "nbconvert_exporter": "python",
   "pygments_lexer": "ipython3",
   "version": "3.7.6"
  }
 },
 "nbformat": 4,
 "nbformat_minor": 4
}
