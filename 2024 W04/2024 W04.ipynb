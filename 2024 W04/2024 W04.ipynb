{
 "cells": [
  {
   "cell_type": "markdown",
   "metadata": {},
   "source": [
    "# 2024: Week 4 - Unpopular Seats\n",
    "### January 24, 2024\n",
    "### Created by: Carl Allchin\n",
    "\n",
    "Last week you needed to use a Join technique to pair the flight data with the sales targets. This week you'll be using Joins again but this time in a different way. \n",
    "\n",
    "When using Joins, there are two things you need to set up:\n",
    "\n",
    " - Join Condition - what logic will join similar rows of data together from each data set\n",
    " - Join Type - determines what data you will bring back based on the Join Condition\n",
    "\n",
    "This challenge will test using join types to return the data you require for the output.\n",
    "\n",
    "This week we are trying to understand which seats aren't chosen on our planes as we're thinking of applying fees for customers to choose their seat when booking. \n",
    "\n",
    "### Input\n",
    "Seat allocation per customer. We have had three downloads sent to us, one for the Flow Card customers and two where they aren't Flow Card customers. They're available here.\n",
    "\n",
    "\n",
    "### Requirements\n",
    " - Input the Excel workbook containing the four worksheets of data\n",
    " - Union the Flow Card and Non-Flow card data sets together\n",
    " - Create a data field to show whether the seat was booked by someone with the Flow Card or not\n",
    "      - Call this field 'Flow Card?'\n",
    " - Aggregate the Seat Bookings to count how many bookings there are for:\n",
    "      - Each Seat\n",
    "      - In each Row\n",
    "      - In each Class\n",
    "      - For Flow and Non-Flow Card holders\n",
    " - Join on the Seating Plan data to ensure you have a data set for every seat on the plane, even if it hasn't been book\n",
    "      - Only return the records for the seats that haven't been booked\n",
    " - Output the data set showing what seat, rows and class have NOT been booked\n",
    "\n",
    "\n",
    "### Output\n",
    "### 3 data fields:\n",
    " - Class\n",
    " - Seat\n",
    " - Row\n",
    "\n",
    "We're not saying how many rows this week as this is the answer we'd like you to post in your solutions! \n",
    "\n",
    "You can download the outputs from here. If you want to check your results. \n",
    "\n",
    "After you finish the challenge make sure to fill in the participation tracker, then share your solution on Twitter using #PreppinData and tagging @Datajedininja, @JennyMartinDS14 & @TomProwse1\n",
    "You can also post your solution on the Tableau Forum where we have a Preppin' Data community page. Post your solutions and ask questions if you need any help! \n",
    "\n"
   ]
  },
  {
   "cell_type": "code",
   "execution_count": 71,
   "metadata": {},
   "outputs": [],
   "source": [
    "import pandas as pd\n",
    "import os\n",
    "import numpy as np\n"
   ]
  },
  {
   "cell_type": "code",
   "execution_count": 72,
   "metadata": {},
   "outputs": [],
   "source": [
    "# Input data\n",
    "df_dict = pd.read_excel('PD 2024 Wk 4 Input.xlsx',sheet_name=None)"
   ]
  },
  {
   "cell_type": "code",
   "execution_count": 73,
   "metadata": {},
   "outputs": [
    {
     "data": {
      "text/plain": [
       "dict_keys(['Flow Card', 'Non_flow Card', 'Non_flow Card2', 'Seat Plan'])"
      ]
     },
     "execution_count": 73,
     "metadata": {},
     "output_type": "execute_result"
    }
   ],
   "source": [
    "df_dict.keys()"
   ]
  },
  {
   "cell_type": "code",
   "execution_count": 74,
   "metadata": {},
   "outputs": [
    {
     "name": "stdout",
     "output_type": "stream",
     "text": [
      "0 Flow Card\n",
      "1 Non_flow Card\n",
      "2 Non_flow Card2\n"
     ]
    },
    {
     "data": {
      "text/plain": [
       "['Flow Card', 'Non_flow Card', 'Non_flow Card2']"
      ]
     },
     "execution_count": 74,
     "metadata": {},
     "output_type": "execute_result"
    }
   ],
   "source": [
    "# Combine sheets:\n",
    "# Return relevant sheet names\n",
    "\n",
    "selection_dict=[]\n",
    "for k,v in enumerate(df_dict.keys()):\n",
    "  if k!=3:\n",
    "    selection_dict.append(v)\n",
    "    print(k,v)\n",
    "\n",
    "selection_dict"
   ]
  },
  {
   "cell_type": "code",
   "execution_count": 75,
   "metadata": {},
   "outputs": [
    {
     "data": {
      "text/plain": [
       "Index(['CustomerID', 'Seat', 'Row', 'Class', 'flow_card'], dtype='object')"
      ]
     },
     "execution_count": 75,
     "metadata": {},
     "output_type": "execute_result"
    }
   ],
   "source": [
    "# Loop through each sheet and add a column\n",
    "\n",
    "combined_df = pd.DataFrame()\n",
    "\n",
    "for df in selection_dict:\n",
    "  interim_df=df_dict[df]\n",
    "\n",
    "  if 'Non_flow' in df:\n",
    "    interim_df['flow_card']='non_flow_card'\n",
    "  else:\n",
    "    interim_df['flow_card']='flow_card'\n",
    "\n",
    "  combined_df=pd.concat([combined_df,interim_df])\n",
    "  combined_df.reset_index(drop=True)\n",
    "  \n",
    "combined_df.columns"
   ]
  },
  {
   "cell_type": "code",
   "execution_count": 76,
   "metadata": {},
   "outputs": [
    {
     "data": {
      "text/plain": [
       "'\\n- Aggregate the Seat Bookings to count how many bookings there are for:\\n- Each Seat\\n- In each Row\\n- In each Class\\n- For Flow and Non-Flow Card holders\\n'"
      ]
     },
     "execution_count": 76,
     "metadata": {},
     "output_type": "execute_result"
    }
   ],
   "source": [
    "'''\n",
    "- Aggregate the Seat Bookings to count how many bookings there are for:\n",
    "- Each Seat\n",
    "- In each Row\n",
    "- In each Class\n",
    "- For Flow and Non-Flow Card holders\n",
    "'''"
   ]
  },
  {
   "cell_type": "code",
   "execution_count": 77,
   "metadata": {},
   "outputs": [],
   "source": [
    "aggrigate_df=combined_df.groupby(['Seat', 'Row', 'Class', 'flow_card']).agg({'CustomerID':'count'}).rename(columns={'CustomerID':'count_seats'}).reset_index()"
   ]
  },
  {
   "cell_type": "code",
   "execution_count": 78,
   "metadata": {},
   "outputs": [],
   "source": [
    "# Combine the Seat Plan to the aggrigate so that we can see which seats are not used:\n",
    "# input data\n",
    "seat_df = df_dict['Seat Plan']\n",
    "merged_df=seat_df.merge(aggrigate_df,on=['Class','Seat','Row'],how='left',validate='one_to_many')"
   ]
  },
  {
   "cell_type": "code",
   "execution_count": 79,
   "metadata": {},
   "outputs": [],
   "source": [
    "merged_df.loc[merged_df.count_seats.isna()].drop(columns=['flow_card','count_seats']).to_csv('empty_seats.csv',index=False)\n",
    "# os.startfile('empty_seats.csv')"
   ]
  },
  {
   "cell_type": "code",
   "execution_count": 80,
   "metadata": {},
   "outputs": [],
   "source": [
    "merged_df['Row']=merged_df['Row'].astype('object')"
   ]
  },
  {
   "cell_type": "code",
   "execution_count": 81,
   "metadata": {},
   "outputs": [
    {
     "data": {
      "text/plain": [
       "<Axes: xlabel='Seat', ylabel='count_seats'>"
      ]
     },
     "execution_count": 81,
     "metadata": {},
     "output_type": "execute_result"
    },
    {
     "data": {
      "image/png": "[encoded data removed]",
      "text/plain": [
       "<Figure size 640x480 with 1 Axes>"
      ]
     },
     "metadata": {},
     "output_type": "display_data"
    }
   ],
   "source": [
    "import seaborn as sns\n",
    "\n",
    "x=merged_df.groupby('Seat').sum(numeric_only=True).reset_index()['Seat']\n",
    "y=merged_df.groupby('Seat').sum(numeric_only=True).reset_index()['count_seats']\n",
    "\n",
    "sns.barplot(x=x,y=y)"
   ]
  },
  {
   "cell_type": "code",
   "execution_count": 90,
   "metadata": {},
   "outputs": [
    {
     "data": {
      "text/plain": [
       "<Axes: xlabel='Class', ylabel='count_seats'>"
      ]
     },
     "execution_count": 90,
     "metadata": {},
     "output_type": "execute_result"
    },
    {
     "data": {
      "image/png": "[encoded data removed]",
      "text/plain": [
       "<Figure size 640x480 with 1 Axes>"
      ]
     },
     "metadata": {},
     "output_type": "display_data"
    }
   ],
   "source": [
    "classes_df=merged_df.groupby(['Class','flow_card']).sum(numeric_only=True).reset_index()\n",
    "sns.barplot(classes_df,x=classes_df['Class'],y=classes_df['count_seats'],hue=classes_df['flow_card'])\n"
   ]
  },
  {
   "cell_type": "code",
   "execution_count": null,
   "metadata": {},
   "outputs": [],
   "source": [
    "classes_df=merged_df.groupby(['Class','flow_card']).sum(numeric_only=True).reset_index()\n",
    "\n",
    "from matplotlib import pyplot as plt\n",
    "\n",
    "plt.bar()\n",
    "\n",
    "sns.barplot(classes_df,x=classes_df['Class'],y=classes_df['count_seats'],hue=classes_df['flow_card'])"
   ]
  },
  {
   "cell_type": "code",
   "execution_count": 84,
   "metadata": {},
   "outputs": [
    {
     "data": {
      "text/plain": [
       "<Axes: xlabel='Class', ylabel='count_seats'>"
      ]
     },
     "execution_count": 84,
     "metadata": {},
     "output_type": "execute_result"
    },
    {
     "data": {
      "image/png": "[encoded data removed]",
      "text/plain": [
       "<Figure size 640x480 with 1 Axes>"
      ]
     },
     "metadata": {},
     "output_type": "display_data"
    }
   ],
   "source": [
    "\n",
    "classes_df=merged_df.groupby(['Class']).sum(numeric_only=True).reset_index()\n",
    "sns.barplot(classes_df,x=classes_df['Class'],y=classes_df['count_seats'])"
   ]
  },
  {
   "cell_type": "code",
   "execution_count": null,
   "metadata": {},
   "outputs": [],
   "source": []
  }
 ],
 "metadata": {
  "kernelspec": {
   "display_name": "Python 3",
   "language": "python",
   "name": "python3"
  },
  "language_info": {
   "codemirror_mode": {
    "name": "ipython",
    "version": 3
   },
   "file_extension": ".py",
   "mimetype": "text/x-python",
   "name": "python",
   "nbconvert_exporter": "python",
   "pygments_lexer": "ipython3",
   "version": "3.10.8"
  }
 },
 "nbformat": 4,
 "nbformat_minor": 2
}
