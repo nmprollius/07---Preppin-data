{
 "cells": [
  {
   "cell_type": "code",
   "execution_count": 34,
   "id": "85131230-d3a4-43e8-bd6e-ee59043a51f8",
   "metadata": {},
   "outputs": [],
   "source": [
    "import os\n",
    "import pandas as pd"
   ]
  },
  {
   "cell_type": "code",
   "execution_count": 35,
   "id": "7d73ae12-12d0-464c-a247-64b48dadc533",
   "metadata": {},
   "outputs": [],
   "source": [
    "df = pd.DataFrame({'numbers':[5,20]})"
   ]
  },
  {
   "cell_type": "code",
   "execution_count": 36,
   "id": "ce969928-54b3-45ce-ac1e-ea5c04f7809f",
   "metadata": {},
   "outputs": [],
   "source": [
    "not_there_numbers = [i for i in range(df.numbers.min(),df.numbers.max()+1) if i not in list(df.numbers)]"
   ]
  },
  {
   "cell_type": "code",
   "execution_count": 37,
   "id": "d0329810-2f0a-4bd8-a9e5-b50b3862a95f",
   "metadata": {},
   "outputs": [],
   "source": [
    "df2 = pd.DataFrame({'numbers':not_there_numbers})"
   ]
  },
  {
   "cell_type": "code",
   "execution_count": 38,
   "id": "2c1f8b05-0971-4419-816d-7db761553e38",
   "metadata": {},
   "outputs": [],
   "source": [
    "df = pd.concat([df,df2]).sort_values('numbers').reset_index(drop=True)"
   ]
  },
  {
   "cell_type": "code",
   "execution_count": 39,
   "id": "f03d9b4b-c43a-4cad-a56b-2ffea21d1789",
   "metadata": {},
   "outputs": [],
   "source": [
    "all_numbers_list =[i for i in range(df.numbers.min(),df.numbers.max()+1)]\n"
   ]
  },
  {
   "cell_type": "code",
   "execution_count": 40,
   "id": "4b64da6e-2699-43f6-ada3-f3d871b03204",
   "metadata": {},
   "outputs": [],
   "source": [
    "df = df.set_index('numbers')"
   ]
  },
  {
   "cell_type": "code",
   "execution_count": 41,
   "id": "a5df0be1-876f-46d2-bf25-795cc2262ed3",
   "metadata": {},
   "outputs": [],
   "source": [
    "for i in all_numbers_list:\n",
    "    df[i] = i * df.index"
   ]
  },
  {
   "cell_type": "code",
   "execution_count": 42,
   "id": "9109e334-dc01-4aa5-9cfc-66acc355daa6",
   "metadata": {},
   "outputs": [],
   "source": [
    "df.to_csv('multiple table.csv')"
   ]
  },
  {
   "cell_type": "code",
   "execution_count": 43,
   "id": "8d08cdc6-8a2d-4e80-b292-4c45a5a88292",
   "metadata": {},
   "outputs": [],
   "source": [
    "os.startfile('multiple table.csv')"
   ]
  },
  {
   "cell_type": "code",
   "execution_count": null,
   "id": "858f6544-203c-4f09-8243-bec46b07d853",
   "metadata": {},
   "outputs": [],
   "source": []
  }
 ],
 "metadata": {
  "kernelspec": {
   "display_name": "Python 3 (ipykernel)",
   "language": "python",
   "name": "python3"
  },
  "language_info": {
   "codemirror_mode": {
    "name": "ipython",
    "version": 3
   },
   "file_extension": ".py",
   "mimetype": "text/x-python",
   "name": "python",
   "nbconvert_exporter": "python",
   "pygments_lexer": "ipython3",
   "version": "3.8.13"
  }
 },
 "nbformat": 4,
 "nbformat_minor": 5
}
